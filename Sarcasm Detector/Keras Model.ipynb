{
 "cells": [
  {
   "cell_type": "code",
   "execution_count": 9,
   "id": "cd8226dc",
   "metadata": {},
   "outputs": [],
   "source": [
    "try:\n",
    "  # %tensorflow_version only exists in Colab.\n",
    "  %tensorflow_version 2.x\n",
    "except Exception:\n",
    "  pass"
   ]
  },
  {
   "cell_type": "code",
   "execution_count": 20,
   "id": "e710f037",
   "metadata": {},
   "outputs": [],
   "source": [
    "import json\n",
    "import tensorflow as tf\n",
    "import pandas as pd\n",
    "import numpy as np\n",
    "from tensorflow.keras.preprocessing.text import Tokenizer\n",
    "from tensorflow.keras.preprocessing.sequence import pad_sequences"
   ]
  },
  {
   "cell_type": "code",
   "execution_count": 11,
   "id": "4958e150",
   "metadata": {},
   "outputs": [],
   "source": [
    "vocab_size = 10000\n",
    "embedding_dim = 16\n",
    "max_length = 100\n",
    "trunc_type='post'\n",
    "padding_type='post'\n",
    "oov_tok = \"<OOV>\"\n",
    "training_size = 20000\n"
   ]
  },
  {
   "cell_type": "code",
   "execution_count": 27,
   "id": "e262629a",
   "metadata": {},
   "outputs": [],
   "source": [
    "f = open(r\"C:\\Users\\ejian\\CogWorks-2022-Gausslien-Final-Capstone\\Sarcasm Detector\\Sarcasm_Headlines_Dataset.json\")\n",
    "\n",
    "file_path1 = r\"C:\\Users\\ejian\\CogWorks-2022-Gausslien-Final-Capstone\\Sarcasm Detector\\Sarcasm_Headlines_Dataset.json\"\n",
    "df = pd.read_json(file_path1,lines=True)\n",
    "dfArr= np.asarray(df)\n"
   ]
  },
  {
   "cell_type": "code",
   "execution_count": 23,
   "id": "3001d15b",
   "metadata": {},
   "outputs": [
    {
     "data": {
      "text/plain": [
       "array([['https://www.huffingtonpost.com/entry/versace-black-code_us_5861fbefe4b0de3a08f600d5',\n",
       "        \"former versace store clerk sues over secret 'black code' for minority shoppers\",\n",
       "        0],\n",
       "       ['https://www.huffingtonpost.com/entry/roseanne-revival-review_us_5ab3a497e4b054d118e04365',\n",
       "        \"the 'roseanne' revival catches up to our thorny political mood, for better and worse\",\n",
       "        0],\n",
       "       ['https://local.theonion.com/mom-starting-to-fear-son-s-web-series-closest-thing-she-1819576697',\n",
       "        \"mom starting to fear son's web series closest thing she will have to grandchild\",\n",
       "        1],\n",
       "       ...,\n",
       "       ['https://www.huffingtonpost.com/entry/reparations-and-obama_b_5390741.html',\n",
       "        'reparations and obama', 0],\n",
       "       ['https://www.huffingtonpost.com/entry/israeli-ban-alarm_us_58d277f3e4b0b22b0d187dcb',\n",
       "        'israeli ban targeting boycott supporters raises alarm abroad',\n",
       "        0],\n",
       "       ['https://www.huffingtonpost.com/entry/gourmet-gifts-for-the-foo_b_6272532.html',\n",
       "        'gourmet gifts for the foodie 2014', 0]], dtype=object)"
      ]
     },
     "execution_count": 23,
     "metadata": {},
     "output_type": "execute_result"
    }
   ],
   "source": [
    "dfArr"
   ]
  },
  {
   "cell_type": "code",
   "execution_count": 31,
   "id": "936cab8d",
   "metadata": {},
   "outputs": [],
   "source": [
    "urls = [sentence for sentence in dfArr[:, 0]]\n",
    "sentences = [sentence for sentence in dfArr[:, 1]]\n",
    "labels = [sarcasm for sarcasm in dfArr[:, 2]]\n"
   ]
  },
  {
   "cell_type": "code",
   "execution_count": 33,
   "id": "26e22712",
   "metadata": {},
   "outputs": [],
   "source": [
    "training_sentences = sentences[0:training_size]\n",
    "testing_sentences = sentences[training_size:]\n",
    "training_labels = labels[0:training_size]\n",
    "testing_labels = labels[training_size:]"
   ]
  },
  {
   "cell_type": "code",
   "execution_count": 34,
   "id": "997d2c04",
   "metadata": {},
   "outputs": [],
   "source": [
    "tokenizer = Tokenizer(num_words=vocab_size, oov_token=oov_tok)\n",
    "tokenizer.fit_on_texts(training_sentences)\n",
    "\n",
    "word_index = tokenizer.word_index\n",
    "\n",
    "training_sequences = tokenizer.texts_to_sequences(training_sentences)\n",
    "training_padded = pad_sequences(training_sequences, maxlen=max_length, padding=padding_type, truncating=trunc_type)\n",
    "\n",
    "testing_sequences = tokenizer.texts_to_sequences(testing_sentences)\n",
    "testing_padded = pad_sequences(testing_sequences, maxlen=max_length, padding=padding_type, truncating=trunc_type)"
   ]
  },
  {
   "cell_type": "code",
   "execution_count": 35,
   "id": "c9481a9d",
   "metadata": {},
   "outputs": [],
   "source": [
    "training_padded = np.array(training_padded)\n",
    "training_labels = np.array(training_labels)\n",
    "testing_padded = np.array(testing_padded)\n",
    "testing_labels = np.array(testing_labels)"
   ]
  },
  {
   "cell_type": "code",
   "execution_count": 37,
   "id": "a882fcf1",
   "metadata": {},
   "outputs": [],
   "source": [
    "model = tf.keras.Sequential([\n",
    "    tf.keras.layers.Embedding(vocab_size, embedding_dim, input_length=max_length),\n",
    "    tf.keras.layers.GlobalAveragePooling1D(),\n",
    "    tf.keras.layers.Dense(24, activation='relu'),\n",
    "    tf.keras.layers.Dense(1, activation='sigmoid')\n",
    "])\n",
    "model.compile(loss='binary_crossentropy',optimizer='adam',metrics=['accuracy'])"
   ]
  },
  {
   "cell_type": "code",
   "execution_count": 38,
   "id": "0ed733f3",
   "metadata": {},
   "outputs": [
    {
     "name": "stdout",
     "output_type": "stream",
     "text": [
      "Model: \"sequential\"\n",
      "_________________________________________________________________\n",
      " Layer (type)                Output Shape              Param #   \n",
      "=================================================================\n",
      " embedding (Embedding)       (None, 100, 16)           160000    \n",
      "                                                                 \n",
      " global_average_pooling1d (G  (None, 16)               0         \n",
      " lobalAveragePooling1D)                                          \n",
      "                                                                 \n",
      " dense (Dense)               (None, 24)                408       \n",
      "                                                                 \n",
      " dense_1 (Dense)             (None, 1)                 25        \n",
      "                                                                 \n",
      "=================================================================\n",
      "Total params: 160,433\n",
      "Trainable params: 160,433\n",
      "Non-trainable params: 0\n",
      "_________________________________________________________________\n"
     ]
    }
   ],
   "source": [
    "model.summary()\n"
   ]
  },
  {
   "cell_type": "code",
   "execution_count": 39,
   "id": "74b9bd42",
   "metadata": {},
   "outputs": [
    {
     "name": "stdout",
     "output_type": "stream",
     "text": [
      "Epoch 1/30\n",
      "625/625 - 3s - loss: 0.6669 - accuracy: 0.5758 - val_loss: 0.5983 - val_accuracy: 0.6698 - 3s/epoch - 4ms/step\n",
      "Epoch 2/30\n",
      "625/625 - 2s - loss: 0.4452 - accuracy: 0.8253 - val_loss: 0.3886 - val_accuracy: 0.8389 - 2s/epoch - 3ms/step\n",
      "Epoch 3/30\n",
      "625/625 - 2s - loss: 0.3147 - accuracy: 0.8747 - val_loss: 0.3566 - val_accuracy: 0.8509 - 2s/epoch - 3ms/step\n",
      "Epoch 4/30\n",
      "625/625 - 2s - loss: 0.2621 - accuracy: 0.8986 - val_loss: 0.3451 - val_accuracy: 0.8550 - 2s/epoch - 3ms/step\n",
      "Epoch 5/30\n",
      "625/625 - 2s - loss: 0.2263 - accuracy: 0.9129 - val_loss: 0.3510 - val_accuracy: 0.8483 - 2s/epoch - 3ms/step\n",
      "Epoch 6/30\n",
      "625/625 - 2s - loss: 0.1986 - accuracy: 0.9236 - val_loss: 0.3500 - val_accuracy: 0.8535 - 2s/epoch - 3ms/step\n",
      "Epoch 7/30\n",
      "625/625 - 2s - loss: 0.1780 - accuracy: 0.9344 - val_loss: 0.3613 - val_accuracy: 0.8520 - 2s/epoch - 3ms/step\n",
      "Epoch 8/30\n",
      "625/625 - 2s - loss: 0.1591 - accuracy: 0.9406 - val_loss: 0.4121 - val_accuracy: 0.8347 - 2s/epoch - 3ms/step\n",
      "Epoch 9/30\n",
      "625/625 - 2s - loss: 0.1427 - accuracy: 0.9482 - val_loss: 0.3925 - val_accuracy: 0.8532 - 2s/epoch - 2ms/step\n",
      "Epoch 10/30\n",
      "625/625 - 1s - loss: 0.1292 - accuracy: 0.9542 - val_loss: 0.4107 - val_accuracy: 0.8517 - 1s/epoch - 2ms/step\n",
      "Epoch 11/30\n",
      "625/625 - 2s - loss: 0.1172 - accuracy: 0.9592 - val_loss: 0.4359 - val_accuracy: 0.8462 - 2s/epoch - 3ms/step\n",
      "Epoch 12/30\n",
      "625/625 - 2s - loss: 0.1073 - accuracy: 0.9638 - val_loss: 0.4718 - val_accuracy: 0.8401 - 2s/epoch - 3ms/step\n",
      "Epoch 13/30\n",
      "625/625 - 2s - loss: 0.0982 - accuracy: 0.9679 - val_loss: 0.4789 - val_accuracy: 0.8447 - 2s/epoch - 3ms/step\n",
      "Epoch 14/30\n",
      "625/625 - 2s - loss: 0.0901 - accuracy: 0.9710 - val_loss: 0.5079 - val_accuracy: 0.8422 - 2s/epoch - 3ms/step\n",
      "Epoch 15/30\n",
      "625/625 - 2s - loss: 0.0833 - accuracy: 0.9726 - val_loss: 0.5425 - val_accuracy: 0.8362 - 2s/epoch - 3ms/step\n",
      "Epoch 16/30\n",
      "625/625 - 2s - loss: 0.0772 - accuracy: 0.9749 - val_loss: 0.5660 - val_accuracy: 0.8354 - 2s/epoch - 3ms/step\n",
      "Epoch 17/30\n",
      "625/625 - 2s - loss: 0.0719 - accuracy: 0.9771 - val_loss: 0.6037 - val_accuracy: 0.8328 - 2s/epoch - 3ms/step\n",
      "Epoch 18/30\n",
      "625/625 - 2s - loss: 0.0660 - accuracy: 0.9787 - val_loss: 0.6376 - val_accuracy: 0.8310 - 2s/epoch - 3ms/step\n",
      "Epoch 19/30\n",
      "625/625 - 2s - loss: 0.0599 - accuracy: 0.9810 - val_loss: 0.6586 - val_accuracy: 0.8310 - 2s/epoch - 3ms/step\n",
      "Epoch 20/30\n",
      "625/625 - 2s - loss: 0.0546 - accuracy: 0.9829 - val_loss: 0.6917 - val_accuracy: 0.8287 - 2s/epoch - 3ms/step\n",
      "Epoch 21/30\n",
      "625/625 - 3s - loss: 0.0520 - accuracy: 0.9845 - val_loss: 0.7203 - val_accuracy: 0.8278 - 3s/epoch - 4ms/step\n",
      "Epoch 22/30\n",
      "625/625 - 3s - loss: 0.0479 - accuracy: 0.9851 - val_loss: 0.7749 - val_accuracy: 0.8247 - 3s/epoch - 4ms/step\n",
      "Epoch 23/30\n",
      "625/625 - 2s - loss: 0.0440 - accuracy: 0.9863 - val_loss: 0.7873 - val_accuracy: 0.8237 - 2s/epoch - 4ms/step\n",
      "Epoch 24/30\n",
      "625/625 - 2s - loss: 0.0414 - accuracy: 0.9869 - val_loss: 0.8280 - val_accuracy: 0.8199 - 2s/epoch - 3ms/step\n",
      "Epoch 25/30\n",
      "625/625 - 2s - loss: 0.0368 - accuracy: 0.9896 - val_loss: 0.8551 - val_accuracy: 0.8225 - 2s/epoch - 3ms/step\n",
      "Epoch 26/30\n",
      "625/625 - 2s - loss: 0.0349 - accuracy: 0.9904 - val_loss: 0.9524 - val_accuracy: 0.8173 - 2s/epoch - 3ms/step\n",
      "Epoch 27/30\n",
      "625/625 - 2s - loss: 0.0319 - accuracy: 0.9916 - val_loss: 0.9433 - val_accuracy: 0.8164 - 2s/epoch - 3ms/step\n",
      "Epoch 28/30\n",
      "625/625 - 2s - loss: 0.0283 - accuracy: 0.9923 - val_loss: 0.9827 - val_accuracy: 0.8158 - 2s/epoch - 3ms/step\n",
      "Epoch 29/30\n",
      "625/625 - 2s - loss: 0.0272 - accuracy: 0.9924 - val_loss: 1.0267 - val_accuracy: 0.8170 - 2s/epoch - 4ms/step\n",
      "Epoch 30/30\n",
      "625/625 - 3s - loss: 0.0261 - accuracy: 0.9926 - val_loss: 1.0393 - val_accuracy: 0.8125 - 3s/epoch - 4ms/step\n"
     ]
    }
   ],
   "source": [
    "num_epochs = 30\n",
    "history = model.fit(training_padded, training_labels, epochs=num_epochs, validation_data=(testing_padded, testing_labels), verbose=2)"
   ]
  },
  {
   "cell_type": "code",
   "execution_count": 40,
   "id": "27ce6e0d",
   "metadata": {},
   "outputs": [
    {
     "data": {
      "image/png": "[encoded data removed]",
      "text/plain": [
       "<Figure size 432x288 with 1 Axes>"
      ]
     },
     "metadata": {
      "needs_background": "light"
     },
     "output_type": "display_data"
    },
    {
     "data": {
      "image/png": "[encoded data removed]",
      "text/plain": [
       "<Figure size 432x288 with 1 Axes>"
      ]
     },
     "metadata": {
      "needs_background": "light"
     },
     "output_type": "display_data"
    }
   ],
   "source": [
    "import matplotlib.pyplot as plt\n",
    "\n",
    "\n",
    "def plot_graphs(history, string):\n",
    "  plt.plot(history.history[string])\n",
    "  plt.plot(history.history['val_'+string])\n",
    "  plt.xlabel(\"Epochs\")\n",
    "  plt.ylabel(string)\n",
    "  plt.legend([string, 'val_'+string])\n",
    "  plt.show()\n",
    "  \n",
    "plot_graphs(history, \"accuracy\")\n",
    "plot_graphs(history, \"loss\")"
   ]
  },
  {
   "cell_type": "code",
   "execution_count": 41,
   "id": "d4f442a8",
   "metadata": {},
   "outputs": [
    {
     "name": "stdout",
     "output_type": "stream",
     "text": [
      "former <OOV> store clerk sues over secret 'black <OOV> for minority shoppers ? ? ? ? ? ? ? ? ? ? ? ? ? ? ? ? ? ? ? ? ? ? ? ? ? ? ? ? ? ? ? ? ? ? ? ? ? ? ? ? ? ? ? ? ? ? ? ? ? ? ? ? ? ? ? ? ? ? ? ? ? ? ? ? ? ? ? ? ? ? ? ? ? ? ? ? ? ? ? ? ? ? ? ? ? ? ? ?\n",
      "mom starting to fear son's web series closest thing she will have to grandchild\n",
      "1\n"
     ]
    }
   ],
   "source": [
    "reverse_word_index = dict([(value, key) for (key, value) in word_index.items()])\n",
    "\n",
    "def decode_sentence(text):\n",
    "    return ' '.join([reverse_word_index.get(i, '?') for i in text])\n",
    "\n",
    "print(decode_sentence(training_padded[0]))\n",
    "print(training_sentences[2])\n",
    "print(labels[2])"
   ]
  },
  {
   "cell_type": "code",
   "execution_count": 52,
   "id": "1e37b5c7",
   "metadata": {},
   "outputs": [
    {
     "name": "stdout",
     "output_type": "stream",
     "text": [
      "1/1 [==============================] - 0s 22ms/step\n",
      "[[0.04216778]]\n"
     ]
    }
   ],
   "source": [
    "sentence = [\"\"]\n",
    "sequences = tokenizer.texts_to_sequences(sentence)\n",
    "padded = pad_sequences(sequences, maxlen=max_length, padding=padding_type, truncating=trunc_type)\n",
    "print(model.predict(padded))"
   ]
  }
 ],
 "metadata": {
  "kernelspec": {
   "display_name": "Python 3 (ipykernel)",
   "language": "python",
   "name": "python3"
  },
  "language_info": {
   "codemirror_mode": {
    "name": "ipython",
    "version": 3
   },
   "file_extension": ".py",
   "mimetype": "text/x-python",
   "name": "python",
   "nbconvert_exporter": "python",
   "pygments_lexer": "ipython3",
   "version": "3.8.13"
  }
 },
 "nbformat": 4,
 "nbformat_minor": 5
}

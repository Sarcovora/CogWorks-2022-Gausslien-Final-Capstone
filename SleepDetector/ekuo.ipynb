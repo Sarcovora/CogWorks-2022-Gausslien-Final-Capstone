{
 "cells": [
  {
   "cell_type": "code",
   "execution_count": 1,
   "id": "b96a2d29",
   "metadata": {},
   "outputs": [],
   "source": [
    "import numpy as np\n",
    "from facenet_models import FacenetModel\n",
    "import matplotlib.pyplot as plt\n",
    "from matplotlib.patches import Rectangle\n",
    "from matplotlib.pyplot import text"
   ]
  },
  {
   "cell_type": "code",
   "execution_count": 2,
   "id": "240f0ccc",
   "metadata": {},
   "outputs": [
    {
     "name": "stdout",
     "output_type": "stream",
     "text": [
      "Using GPU\n"
     ]
    }
   ],
   "source": [
    "import torch\n",
    "if (torch.cuda.is_available()):\n",
    "\tprint(\"Using GPU\")\n",
    "\tdevice = torch.device(\"cuda\")"
   ]
  },
  {
   "cell_type": "code",
   "execution_count": null,
   "id": "219798ab",
   "metadata": {},
   "outputs": [],
   "source": [
    "def find_eyes(image_data, *, box_threshold=0.97):\n",
    "    \"\"\"\n",
    "    Displays an image with boxes around people's faces and labels them with names.\n",
    "    Parameters\n",
    "    ----------\n",
    "    image_data : numpy.ndarray, shape-(R, C, 3) (RGB is the last dimension)\n",
    "        Pixel information for the image.\n",
    "    \"\"\"\n",
    "    model = FacenetModel()\n",
    "    boxes, probabilities, landmarks = model.detect(image_data)\n",
    "\n",
    "    fig, ax = plt.subplots()\n",
    "    ax.imshow(image_data)\n",
    "    if (boxes is None):\n",
    "        x = image_data.shape[1] // 2\n",
    "        y = image_data.shape[0] // 2\n",
    "        ax.text(x, y,\n",
    "                \"GIMME A FACE\",\n",
    "                size=50,\n",
    "                va=\"center\",\n",
    "                ha=\"center\",\n",
    "                bbox=dict(boxstyle=\"round\", ec=(1., 0.5, 0.5), fc=(1., 0.8, 0.8),))\n",
    "        plt.show()\n",
    "        return\n",
    "    descriptors = model.compute_descriptors(image_data, boxes)\n",
    "\n",
    "    for box, prob, i in zip(boxes, probabilities, range(len(names))):\n",
    "        if prob<box_threshold:\n",
    "            continue\n",
    "        # draw the box on the screen\n",
    "        ax.add_patch(Rectangle(box[:2], *(box[2:] - box[:2]), fill=None, lw=2, color=\"red\"))\n",
    "        # add names to the box\n",
    "        ax.text(*box[:2],\n",
    "                names[i], #+\" \"+str(prob)\n",
    "                size=12,\n",
    "                va=\"center\",\n",
    "                bbox=dict(boxstyle=\"round\", ec=(1., 0.5, 0.5), fc=(1., 0.8, 0.8),))\n",
    "    plt.show()"
   ]
  },
  {
   "cell_type": "code",
   "execution_count": null,
   "id": "822b4b41",
   "metadata": {},
   "outputs": [],
   "source": [
    "filepath = input(\"Filepath: \")\n",
    "# pic = np.array(Image.open(filepath))[:,:,:3]\n",
    "# shape-(Height, Width, Color)\n",
    "pic = io.imread(str(filepath))\n",
    "if pic.shape[-1] == 4:\n",
    "    # Image is RGBA, where A is alpha -> transparency\n",
    "    # Must make image RGB.\n",
    "    pic = pic[..., :-1]  # png -> RGB\n",
    "find_eyes(pic)"
   ]
  }
 ],
 "metadata": {
  "kernelspec": {
   "display_name": "Python 3 (ipykernel)",
   "language": "python",
   "name": "python3"
  },
  "language_info": {
   "codemirror_mode": {
    "name": "ipython",
    "version": 3
   },
   "file_extension": ".py",
   "mimetype": "text/x-python",
   "name": "python",
   "nbconvert_exporter": "python",
   "pygments_lexer": "ipython3",
   "version": "3.9.12"
  }
 },
 "nbformat": 4,
 "nbformat_minor": 5
}

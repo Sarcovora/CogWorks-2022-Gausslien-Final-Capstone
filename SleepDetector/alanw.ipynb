{
 "cells": [
  {
   "cell_type": "code",
   "execution_count": 2,
   "id": "4b4b50db",
   "metadata": {},
   "outputs": [],
   "source": [
    "%matplotlib notebook"
   ]
  },
  {
   "cell_type": "code",
   "execution_count": 4,
   "id": "3808a821",
   "metadata": {},
   "outputs": [],
   "source": [
    "import numpy as np\n",
    "from facenet_models import FacenetModel\n",
    "import matplotlib.pyplot as plt\n",
    "from matplotlib.patches import Rectangle\n",
    "from matplotlib.pyplot import text\n",
    "import skimage.io as io\n",
    "import cv2"
   ]
  },
  {
   "cell_type": "code",
   "execution_count": 5,
   "id": "90573850",
   "metadata": {},
   "outputs": [],
   "source": [
    "import torch\n",
    "import torch.nn as nn\n",
    "import torch.nn.functional as F\n",
    "import torch.optim as optim\n",
    "from torch.utils.data import Dataset\n",
    "from torch.utils.data import DataLoader"
   ]
  },
  {
   "cell_type": "code",
   "execution_count": null,
   "id": "84cf4458",
   "metadata": {},
   "outputs": [],
   "source": [
    "from camera import take_picture\n",
    "from eye_img import eye_img"
   ]
  },
  {
   "cell_type": "code",
   "execution_count": 7,
   "id": "17423eae",
   "metadata": {},
   "outputs": [],
   "source": [
    "class EyeModel(nn.Module):\n",
    "    def __init__(self):\n",
    "        super().__init__()\n",
    "        # assumes 32x32\n",
    "        self.conv1 = nn.Conv2d(1, 5, 3)\n",
    "        self.pool = nn.MaxPool2d(2, 2)\n",
    "        self.conv2 = nn.Conv2d(5, 7, 3)\n",
    "        self.fc1 = nn.Linear(112, 2)\n",
    "\n",
    "    def forward(self, x):\n",
    "        x = self.pool(F.relu(self.conv1(x)))\n",
    "        x = self.pool(F.relu(self.conv2(x)))\n",
    "        x = torch.flatten(x, 1) # flatten all dimensions except batch\n",
    "        #         x = F.softmax(self.fc1(x), dim=1)\n",
    "        x = self.fc1(x)\n",
    "        return x"
   ]
  },
  {
   "cell_type": "code",
   "execution_count": 9,
   "id": "e897bf01",
   "metadata": {
    "scrolled": true
   },
   "outputs": [],
   "source": [
    "model = torch.load(\"coolmodel.pb\", map_location=torch.device('cpu'))"
   ]
  },
  {
   "cell_type": "code",
   "execution_count": 11,
   "id": "80634d63",
   "metadata": {},
   "outputs": [],
   "source": [
    "def user_interface():\n",
    "    while True:\n",
    "        choice = input(\"Upload (u) or take a photo (c)? \")\n",
    "        if choice==\"u\":\n",
    "            filepath = input(\"Filepath: \")\n",
    "            pic = io.imread(str(filepath))\n",
    "            break\n",
    "        elif choice==\"c\":\n",
    "            pic = take_picture()\n",
    "            break\n",
    "        else:\n",
    "            print(\"Invalid input. Try again. \")\n",
    "    eye_img(pic)"
   ]
  },
  {
   "cell_type": "code",
   "execution_count": 12,
   "id": "a3c7e3a9",
   "metadata": {},
   "outputs": [
    {
     "name": "stdout",
     "output_type": "stream",
     "text": [
      "Upload (u) or take a photo (c)? u\n",
      "Filepath: alan1.png\n"
     ]
    },
    {
     "ename": "NameError",
     "evalue": "name 'eye_img' is not defined",
     "output_type": "error",
     "traceback": [
      "\u001b[0;31m---------------------------------------------------------------------------\u001b[0m",
      "\u001b[0;31mNameError\u001b[0m                                 Traceback (most recent call last)",
      "Input \u001b[0;32mIn [12]\u001b[0m, in \u001b[0;36m<cell line: 1>\u001b[0;34m()\u001b[0m\n\u001b[0;32m----> 1\u001b[0m \u001b[43muser_interface\u001b[49m\u001b[43m(\u001b[49m\u001b[43m)\u001b[49m\n",
      "Input \u001b[0;32mIn [11]\u001b[0m, in \u001b[0;36muser_interface\u001b[0;34m()\u001b[0m\n\u001b[1;32m     11\u001b[0m     \u001b[38;5;28;01melse\u001b[39;00m:\n\u001b[1;32m     12\u001b[0m         \u001b[38;5;28mprint\u001b[39m(\u001b[38;5;124m\"\u001b[39m\u001b[38;5;124mInvalid input. Try again. \u001b[39m\u001b[38;5;124m\"\u001b[39m)\n\u001b[0;32m---> 13\u001b[0m \u001b[43meye_img\u001b[49m(pic)\n",
      "\u001b[0;31mNameError\u001b[0m: name 'eye_img' is not defined"
     ]
    }
   ],
   "source": [
    "user_interface()"
   ]
  }
 ],
 "metadata": {
  "kernelspec": {
   "display_name": "Python 3 (ipykernel)",
   "language": "python",
   "name": "python3"
  },
  "language_info": {
   "codemirror_mode": {
    "name": "ipython",
    "version": 3
   },
   "file_extension": ".py",
   "mimetype": "text/x-python",
   "name": "python",
   "nbconvert_exporter": "python",
   "pygments_lexer": "ipython3",
   "version": "3.8.13"
  }
 },
 "nbformat": 4,
 "nbformat_minor": 5
}

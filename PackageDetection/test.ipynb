{
 "cells": [
  {
   "cell_type": "code",
   "execution_count": 1,
   "metadata": {},
   "outputs": [],
   "source": [
    "import torchvision\n",
    "def get_model(device):\n",
    "    # load the model \n",
    "    model = torchvision.models.detection.ssdlite320_mobilenet_v3_large(pretrained=True)\n",
    "    # load the model onto the computation device\n",
    "    model = model.eval().to(device)\n",
    "    return model"
   ]
  },
  {
   "cell_type": "code",
   "execution_count": 2,
   "metadata": {},
   "outputs": [
    {
     "ename": "ModuleNotFoundError",
     "evalue": "No module named 'coco_names'",
     "output_type": "error",
     "traceback": [
      "\u001b[1;31m---------------------------------------------------------------------------\u001b[0m",
      "\u001b[1;31mModuleNotFoundError\u001b[0m                       Traceback (most recent call last)",
      "\u001b[1;32mc:\\Users\\evan_\\Desktop\\Github\\CogWorks-2022-Gausslien-Final-Capstone\\PackageDetection\\test.ipynb Cell 2\u001b[0m in \u001b[0;36m<cell line: 5>\u001b[1;34m()\u001b[0m\n\u001b[0;32m      <a href='vscode-notebook-cell:/c%3A/Users/evan_/Desktop/Github/CogWorks-2022-Gausslien-Final-Capstone/PackageDetection/test.ipynb#ch0000001?line=2'>3</a>\u001b[0m \u001b[39mimport\u001b[39;00m \u001b[39mnumpy\u001b[39;00m \u001b[39mas\u001b[39;00m \u001b[39mnp\u001b[39;00m\n\u001b[0;32m      <a href='vscode-notebook-cell:/c%3A/Users/evan_/Desktop/Github/CogWorks-2022-Gausslien-Final-Capstone/PackageDetection/test.ipynb#ch0000001?line=3'>4</a>\u001b[0m \u001b[39mimport\u001b[39;00m \u001b[39mtorch\u001b[39;00m\n\u001b[1;32m----> <a href='vscode-notebook-cell:/c%3A/Users/evan_/Desktop/Github/CogWorks-2022-Gausslien-Final-Capstone/PackageDetection/test.ipynb#ch0000001?line=4'>5</a>\u001b[0m \u001b[39mfrom\u001b[39;00m \u001b[39mcoco_names\u001b[39;00m \u001b[39mimport\u001b[39;00m COCO_INSTANCE_CATEGORY_NAMES \u001b[39mas\u001b[39;00m coco_names\n\u001b[0;32m      <a href='vscode-notebook-cell:/c%3A/Users/evan_/Desktop/Github/CogWorks-2022-Gausslien-Final-Capstone/PackageDetection/test.ipynb#ch0000001?line=5'>6</a>\u001b[0m \u001b[39m# this will help us create a different color for each class\u001b[39;00m\n\u001b[0;32m      <a href='vscode-notebook-cell:/c%3A/Users/evan_/Desktop/Github/CogWorks-2022-Gausslien-Final-Capstone/PackageDetection/test.ipynb#ch0000001?line=6'>7</a>\u001b[0m COLORS \u001b[39m=\u001b[39m np\u001b[39m.\u001b[39mrandom\u001b[39m.\u001b[39muniform(\u001b[39m0\u001b[39m, \u001b[39m255\u001b[39m, size\u001b[39m=\u001b[39m(\u001b[39mlen\u001b[39m(coco_names), \u001b[39m3\u001b[39m))\n",
      "\u001b[1;31mModuleNotFoundError\u001b[0m: No module named 'coco_names'"
     ]
    }
   ],
   "source": [
    "import torchvision.transforms as transforms\n",
    "import cv2\n",
    "import numpy as np\n",
    "import torch\n",
    "from coco_names import COCO_INSTANCE_CATEGORY_NAMES as coco_names\n",
    "# this will help us create a different color for each class\n",
    "COLORS = np.random.uniform(0, 255, size=(len(coco_names), 3))\n",
    "# define the torchvision image transforms\n",
    "transform = transforms.Compose([\n",
    "    transforms.ToTensor(),\n",
    "])"
   ]
  },
  {
   "cell_type": "code",
   "execution_count": null,
   "metadata": {},
   "outputs": [],
   "source": []
  }
 ],
 "metadata": {
  "kernelspec": {
   "display_name": "Python 3.8.13 ('week4')",
   "language": "python",
   "name": "python3"
  },
  "language_info": {
   "codemirror_mode": {
    "name": "ipython",
    "version": 3
   },
   "file_extension": ".py",
   "mimetype": "text/x-python",
   "name": "python",
   "nbconvert_exporter": "python",
   "pygments_lexer": "ipython3",
   "version": "3.8.13"
  },
  "orig_nbformat": 4,
  "vscode": {
   "interpreter": {
    "hash": "271a95ad07c9c95bface7c46d0b53e9ab965b294f703bfc4492b7439e2bd8505"
   }
  }
 },
 "nbformat": 4,
 "nbformat_minor": 2
}

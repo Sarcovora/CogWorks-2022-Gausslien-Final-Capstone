{
 "cells": [
  {
   "cell_type": "code",
   "execution_count": 1,
   "id": "14d28272",
   "metadata": {},
   "outputs": [],
   "source": [
    "# %matplotlib notebook"
   ]
  },
  {
   "cell_type": "code",
   "execution_count": 1,
   "id": "ac1acc22",
   "metadata": {},
   "outputs": [],
   "source": [
    "import torchvision\n",
    "from torchvision.io.image import read_image\n",
    "from torchvision.models.detection import ssdlite320_mobilenet_v3_large, SSDLite320_MobileNet_V3_Large_Weights\n",
    "from torchvision.models.detection import ssd300_vgg16, SSD300_VGG16_Weights\n",
    "from torchvision.utils import draw_bounding_boxes\n",
    "from torchvision.transforms.functional import to_pil_image\n",
    "import torch\n",
    "from torchvision import transforms\n",
    "\n",
    "import cv2 as cv\n",
    "from PIL import Image\n",
    "# from PIL import Resampling\n",
    "import numpy as np\n",
    "\n",
    "import glob\n",
    "\n",
    "import time\n",
    "import copy\n",
    "\n",
    "from torchvision.models import vgg19_bn, VGG19_BN_Weights\n",
    "import torch.nn as nn\n",
    "import torch.nn.functional as F\n",
    "import torch.optim as optim\n",
    "from torch.utils.data import Dataset\n",
    "from torch.utils.data import DataLoader"
   ]
  },
  {
   "cell_type": "code",
   "execution_count": 34,
   "id": "524ee401",
   "metadata": {},
   "outputs": [],
   "source": [
    "device = torch.device(\"cuda:0\" if torch.cuda.is_available() else \"cpu\")"
   ]
  },
  {
   "cell_type": "code",
   "execution_count": 15,
   "id": "df6715b8",
   "metadata": {},
   "outputs": [],
   "source": [
    "# Step 1: Initialize model with the best available weights\n",
    "sdd_weights = SSD300_VGG16_Weights.DEFAULT\n",
    "# model = fasterrcnn_resnet50_fpn_v2(weights=weights, box_score_thresh=0.9)\n",
    "model = ssd300_vgg16(weights=sdd_weights)\n",
    "# model.to('cuda')\n",
    "model = model.eval()"
   ]
  },
  {
   "cell_type": "code",
   "execution_count": 126,
   "id": "4363ec92",
   "metadata": {},
   "outputs": [],
   "source": [
    "def find_objects (filepath, num_imgs):\n",
    "    img = read_image(filepath)\n",
    "    img = img[:3,:,:]\n",
    "    preprocess = sdd_weights.transforms()\n",
    "    batch = [preprocess(img).to(device)]\n",
    "    prediction = model(batch)[0]\n",
    "    labels = [sdd_weights.meta[\"categories\"][i] for i in prediction[\"labels\"]]\n",
    "    im = to_pil_image(img)\n",
    "    outImgs = []\n",
    "    for i in range(num_imgs):\n",
    "        coords = prediction[\"boxes\"][i+1].tolist()\n",
    "        im1 = im.crop(coords)\n",
    "        outImgs.append(im1)\n",
    "    return outImgs"
   ]
  },
  {
   "cell_type": "code",
   "execution_count": 3,
   "id": "259b2794",
   "metadata": {},
   "outputs": [],
   "source": [
    "def save_cropped_objects (filepath, num_imgs, id):\n",
    "    img = read_image(filepath)\n",
    "    img = img[:3,:,:]\n",
    "    preprocess = sdd_weights.transforms()\n",
    "    batch = [preprocess(img)]\n",
    "    prediction = model(batch)[0]\n",
    "    labels = [sdd_weights.meta[\"categories\"][i] for i in prediction[\"labels\"]]\n",
    "    im = to_pil_image(img)\n",
    "    for i in range(num_imgs):\n",
    "        coords = prediction[\"boxes\"][i+1].tolist()\n",
    "        # print(coords)\n",
    "        im1 = im.crop(coords)\n",
    "        im1.save(\"cropped_imgs/\" + str(id) + \"_\" + str(i) + \".jpg\")"
   ]
  },
  {
   "cell_type": "code",
   "execution_count": null,
   "id": "499cab85",
   "metadata": {},
   "outputs": [],
   "source": [
    "save_cropped_objects(\"dataset/elephant.jpg\", 5, 1)"
   ]
  },
  {
   "cell_type": "code",
   "execution_count": null,
   "id": "82525248",
   "metadata": {},
   "outputs": [],
   "source": [
    "filepath = 'dataset/raw/train/'\n",
    "for i, filename in enumerate(glob.glob(filepath + '*.jpg')):\n",
    "\tsave_cropped_objects(filename, 5, i)\n",
    "\n",
    "filepath = 'dataset/raw/test/'\n",
    "for i, filename in enumerate(glob.glob(filepath + '*.jpg')):\n",
    "\tsave_cropped_objects(filename, 5, i)\n",
    "\n",
    "filepath = 'dataset/raw/valid/'\n",
    "for i, filename in enumerate(glob.glob(filepath + '*.jpg')):\n",
    "\tsave_cropped_objects(filename, 5, i)"
   ]
  },
  {
   "cell_type": "code",
   "execution_count": 17,
   "id": "5bddd4e8",
   "metadata": {},
   "outputs": [],
   "source": [
    "filepath = 'alan_imgs/'\n",
    "for i, filename in enumerate(glob.glob(filepath + '*.*')):\n",
    "\tsave_cropped_objects(filename, 5, i)"
   ]
  },
  {
   "cell_type": "markdown",
   "id": "a2eed55a",
   "metadata": {},
   "source": [
    "# VGG Model"
   ]
  },
  {
   "cell_type": "code",
   "execution_count": 4,
   "id": "1f0e7741",
   "metadata": {},
   "outputs": [
    {
     "name": "stdout",
     "output_type": "stream",
     "text": [
      "\n"
     ]
    }
   ],
   "source": [
    "vggweights = VGG19_BN_Weights.DEFAULT\n",
    "vggmodel = vgg19_bn(weights=vggweights)\n",
    "vggmodel = vggmodel.eval()\n",
    "vggmodel.to(device)\n",
    "print()"
   ]
  },
  {
   "cell_type": "code",
   "execution_count": 5,
   "id": "074a040a",
   "metadata": {},
   "outputs": [],
   "source": [
    "class CustomImageDataset(Dataset):\n",
    "    def __init__(self, numpydata, numpylabels, transform=None, target_transform=None):\n",
    "        self.imgs = numpydata\n",
    "        self.img_labels = numpylabels\n",
    "        self.transform = transform\n",
    "        self.target_transform = target_transform\n",
    "\n",
    "    def __len__(self):\n",
    "        return len(self.img_labels)\n",
    "\n",
    "    def __getitem__(self, idx):\n",
    "        label = self.img_labels[idx]\n",
    "        image = self.imgs[idx]\n",
    "        \n",
    "        if self.transform:\n",
    "            image = self.transform(image)\n",
    "        if self.target_transform:\n",
    "            label = self.target_transform(label)\n",
    "        return image, label\n",
    "\n",
    "def padImage(img):\n",
    "    imgshape = np.array(img.shape[:-1])\n",
    "    \n",
    "    padding = abs(imgshape[1]-imgshape[0])\n",
    "    \n",
    "    if imgshape[1] > imgshape[0]:\n",
    "        pad1 = np.zeros((padding//2 + padding%2, imgshape[1],3), dtype=int)\n",
    "        pad2 = np.zeros((padding//2, imgshape[1],3), dtype=int)\n",
    "        \n",
    "        img = np.vstack((pad1,img,pad2))\n",
    "    if imgshape[0] > imgshape[1]:\n",
    "        pad1 = np.zeros((imgshape[0], padding//2 + padding%2, 3), dtype=int)\n",
    "        pad2 = np.zeros((imgshape[0], padding//2,3), dtype=int)\n",
    "        \n",
    "        img = np.hstack((pad1, img, pad2))\n",
    "\n",
    "    return img\n",
    "\n",
    "def pilPad (im):\n",
    "    desired_size = 224\n",
    "    old_size = im.size  # old_size[0] is in (width, height) format\n",
    "\n",
    "    ratio = float(desired_size)/max(old_size)\n",
    "    new_size = tuple([int(x*ratio) for x in old_size])\n",
    "\n",
    "#     im = im.resize(new_size, Image.ANTIALIAS)\n",
    "#     im = im.resize(new_size, Image.Resampling.LANCZOS)\n",
    "    im = im.resize(new_size, Image.BILINEAR)\n",
    "    # create a new image and paste the resized on it\n",
    "\n",
    "    new_im = Image.new(\"RGB\", (desired_size, desired_size))\n",
    "    new_im.paste(im, ((desired_size-new_size[0])//2,\n",
    "                        (desired_size-new_size[1])//2))\n",
    "    return new_im\n",
    "\n",
    "def fixImage_filename(filename):\n",
    "    img = padImage(np.array(cv.imread(filename))/255)\n",
    "    img = cv.resize(img, (256,256), interpolation = cv.INTER_LINEAR)\n",
    "    img = np.moveaxis(img, -1, 0)\n",
    "    img = img.reshape(1,3,256,256)\n",
    "    \n",
    "    return img\n",
    "\n",
    "def fixImage_img(img):\n",
    "    return pilPad(img)"
   ]
  },
  {
   "cell_type": "code",
   "execution_count": 6,
   "id": "c52557df",
   "metadata": {},
   "outputs": [],
   "source": [
    "# pilPad(Image.open('sorted_imgs/train/box/6_1.jpg'))"
   ]
  },
  {
   "cell_type": "code",
   "execution_count": 7,
   "id": "a8c543e9",
   "metadata": {},
   "outputs": [],
   "source": [
    "# yes_x = np.empty((1,3,256,256))\n",
    "# no_x = np.empty((1,3,256,256))\n",
    "\n",
    "# for filename in glob.glob('sorted_imgs/box/*.*'):\n",
    "#     img = fixImage_filename(filename)\n",
    "#     no_x = np.concatenate((no_x, img))\n",
    "\n",
    "# for filename in glob.glob('sorted_imgs/no_box/*.*'):\n",
    "#     img = fixImage_filename(filename)\n",
    "#     yes_x = np.concatenate((yes_x, img))"
   ]
  },
  {
   "cell_type": "markdown",
   "id": "8296b323",
   "metadata": {},
   "source": [
    "## Data Augmentation"
   ]
  },
  {
   "cell_type": "code",
   "execution_count": 18,
   "id": "d7bf11c4",
   "metadata": {},
   "outputs": [],
   "source": [
    "# def show_dataset(dataset, n=6):\n",
    "#   img = np.vstack((np.hstack((np.asarray(dataset[i][0]) for _ in range(n)))\n",
    "#                    for i in range(len(dataset))))\n",
    "#   plt.imshow(img)\n",
    "#   plt.axis('off')"
   ]
  },
  {
   "cell_type": "code",
   "execution_count": 6,
   "id": "7ffd2722",
   "metadata": {},
   "outputs": [],
   "source": [
    "class custom_fix_image(object):\n",
    "    def __init__(self):\n",
    "        pass\n",
    "    \n",
    "    def __call__(self, img):\n",
    "        img = fixImage_img(img)\n",
    "        return img\n",
    "\n",
    "    def __repr__(self):\n",
    "        return \"Padding and resizing image\"\n",
    "    \n",
    "class convertToCuda(object):\n",
    "    def __init__(self, device):\n",
    "        self.device = device\n",
    "    \n",
    "    def __call__(self, t):\n",
    "        t_device = t.to(device=self.device)\n",
    "        return t_device\n",
    "\n",
    "    def __repr__(self):\n",
    "        return \"Changes tensor to device\""
   ]
  },
  {
   "cell_type": "code",
   "execution_count": 7,
   "id": "af60308a",
   "metadata": {},
   "outputs": [],
   "source": [
    "transforms_pytorch = torchvision.transforms.Compose([\n",
    "    custom_fix_image(),\n",
    "    torchvision.transforms.ColorJitter(hue=.05, saturation=.05),\n",
    "    torchvision.transforms.RandomHorizontalFlip(),\n",
    "    torchvision.transforms.RandomRotation(20),\n",
    "    torchvision.transforms.ToTensor(),\n",
    "    torchvision.transforms.Normalize([0.485, 0.456, 0.406], [0.229, 0.224, 0.225])\n",
    "])\n",
    "\n",
    "val_transforms = torchvision.transforms.Compose([\n",
    "    custom_fix_image(),\n",
    "    torchvision.transforms.ToTensor(),\n",
    "    torchvision.transforms.Normalize([0.485, 0.456, 0.406], [0.229, 0.224, 0.225])\n",
    "])\n",
    "\n",
    "# datasets = {\n",
    "#     'box': torchvision.datasets.ImageFolder('./sorted_imgs/box/', transform=transforms_pytorch),\n",
    "#     'no_box': torchvision.datasets.ImageFolder('./sorted_imgs/no_box/', transform=transforms_pytorch)\n",
    "# }\n",
    "# for mode in ('box', 'no_box'):\n",
    "#     show_dataset(datasets[mode])\n",
    "train_folder_dataset = torchvision.datasets.ImageFolder('./sorted_imgs/train/', transform=transforms_pytorch)\n",
    "valid_folder_dataset = torchvision.datasets.ImageFolder('./sorted_imgs/validation/', transform=val_transforms)\n",
    "\n",
    "# print(train_folder_dataset)\n",
    "# for batch,c in train_folder_dataset:\n",
    "#     break\n",
    "#     d.save(\"sorted_imgs/aug_imgs/\" + str(id) + \"_\" + str(i) + \".jpg\")\n",
    "# show_dataset(dataset)"
   ]
  },
  {
   "cell_type": "code",
   "execution_count": 132,
   "id": "392ba3ce",
   "metadata": {},
   "outputs": [],
   "source": [
    "# batch_size = 16\n",
    "\n",
    "# yes_x = yes_x[1:]\n",
    "# no_x = no_x[1:]\n",
    "\n",
    "# p_split = int(len(yes_x)*0.8)\n",
    "# np_split = int(len(no_x)*0.8)\n",
    "\n",
    "# train_x = np.vstack((no_x[:np_split], yes_x[:p_split]))\n",
    "# valid_x = np.vstack((no_x[np_split:], yes_x[p_split:]))\n",
    "\n",
    "# train_y = [0] * np_split + [1] * p_split\n",
    "# valid_y = [0] * (len(no_x) - np_split) + [1] * (len(yes_x) - p_split)\n",
    "\n",
    "# train_x = torch.tensor(train_x, dtype=torch.float32, device=device)\n",
    "# valid_x = torch.tensor(valid_x, dtype=torch.float32, device=device)\n",
    "\n",
    "# train_y = torch.tensor(train_y, dtype=torch.float32, device=device)\n",
    "# valid_y = torch.tensor(valid_y, dtype=torch.float32, device=device)\n",
    "\n",
    "# data = CustomImageDataset(train_x, train_y)\n",
    "# valid_data = CustomImageDataset(valid_x, valid_y)\n",
    "\n",
    "# trainloader = torch.utils.data.DataLoader(data, batch_size=batch_size, shuffle=True)\n",
    "# valloader = torch.utils.data.DataLoader(valid_data, batch_size=batch_size, shuffle=True)\n",
    "\n",
    "# loaders = {\n",
    "#     \"train\":trainloader,\n",
    "#     \"val\":valloader\n",
    "# }"
   ]
  },
  {
   "cell_type": "code",
   "execution_count": 8,
   "id": "e0862634",
   "metadata": {},
   "outputs": [],
   "source": [
    "batch_size = 12\n",
    "\n",
    "trainloader = torch.utils.data.DataLoader(train_folder_dataset, batch_size=batch_size, shuffle=True) \n",
    "valloader = torch.utils.data.DataLoader(valid_folder_dataset, batch_size=batch_size, shuffle=False)\n",
    "\n",
    "loaders = {\n",
    "    \"train\":trainloader,\n",
    "    \"val\":valloader\n",
    "}"
   ]
  },
  {
   "cell_type": "code",
   "execution_count": 134,
   "id": "c2ce3d0c",
   "metadata": {},
   "outputs": [],
   "source": [
    "# for batch_img,batch_label in trainloader:\n",
    "#     break\n",
    "# batch_img.shape,batch_label.shape"
   ]
  },
  {
   "cell_type": "code",
   "execution_count": 9,
   "id": "eed4472e",
   "metadata": {},
   "outputs": [],
   "source": [
    "# Top level data directory. Here we assume the format of the directory conforms\n",
    "#   to the ImageFolder structure\n",
    "# data_dir = \"./cropped_imgs\"\n",
    "\n",
    "# Models to choose from [resnet, alexnet, vgg, squeezenet, densenet, inception]\n",
    "model_name = \"vgg\"\n",
    "\n",
    "# Number of classes in the dataset\n",
    "num_classes = 2\n",
    "\n",
    "# Batch size for training (change depending on how much memory you have)\n",
    "\n",
    "\n",
    "# Number of epochs to train for\n",
    "num_epochs = 1\n",
    "\n",
    "# Flag for feature extracting. When False, we finetune the whole model,\n",
    "#   when True we only update the reshaped layer params\n",
    "feature_extract = False\n",
    "\n",
    "def train_model(model, dataloaders, criterion, optimizer, num_epochs=25, is_inception=False):\n",
    "    since = time.time()\n",
    "\n",
    "    val_acc_history = []\n",
    "\n",
    "    best_model_wts = copy.deepcopy(model.state_dict())\n",
    "    best_acc = 0.0\n",
    "\n",
    "#     mean = torch.tensor([0.485, 0.456, 0.406]).reshape(1,3,1,1)\n",
    "#     std = torch.tensor([0.229, 0.224, 0.225]).reshape(1,3,1,1)\n",
    "    \n",
    "    \n",
    "    for epoch in range(num_epochs):\n",
    "        print('Epoch {}/{}'.format(epoch, num_epochs - 1))\n",
    "        print('-' * 10)\n",
    "\n",
    "        # Each epoch has a training and validation phase\n",
    "        for phase in ['train', 'val']:\n",
    "            if phase == 'train':\n",
    "                model.train()  # Set model to training mode\n",
    "            else:\n",
    "                model.eval()   # Set model to evaluate mode\n",
    "\n",
    "            running_loss = 0.0\n",
    "            running_corrects = 0\n",
    "\n",
    "            # Iterate over data.\n",
    "            for inputs, labels in dataloaders[phase]:\n",
    "#                 inputs -= mean\n",
    "#                 inputs /= std\n",
    "                \n",
    "                inputs = inputs.to(device)\n",
    "                labels = labels.to(device).long()\n",
    "                \n",
    "#                 print(inputs.shape)\n",
    "                \n",
    "                \n",
    "                #print(inputs.type())\n",
    "                #print(labels.type())\n",
    "\n",
    "                # zero the parameter gradients\n",
    "                optimizer.zero_grad()\n",
    "\n",
    "                # forward\n",
    "                # track history if only in train\n",
    "                with torch.set_grad_enabled(phase == 'train'):\n",
    "                    # Get model outputs and calculate loss\n",
    "                    # Special case for inception because in training it has an auxiliary output. In train\n",
    "                    #   mode we calculate the loss by summing the final output and the auxiliary output\n",
    "                    #   but in testing we only consider the final output.\n",
    "                    if is_inception and phase == 'train':\n",
    "                        # From https://discuss.pytorch.org/t/how-to-optimize-inception-model-with-auxiliary-classifiers/7958\n",
    "                        outputs, aux_outputs = model(inputs)\n",
    "                        loss1 = criterion(outputs, labels)\n",
    "                        loss2 = criterion(aux_outputs, labels)\n",
    "                        loss = loss1 + 0.4*loss2\n",
    "                    else:\n",
    "                        outputs = model(inputs)\n",
    "                        loss = criterion(outputs, labels)\n",
    "\n",
    "                    _, preds = torch.max(outputs, 1)\n",
    "\n",
    "                    # backward + optimize only if in training phase\n",
    "                    if phase == 'train':\n",
    "                        loss.backward()\n",
    "                        optimizer.step()\n",
    "\n",
    "                # statistics\n",
    "                running_loss += loss.item() * inputs.size(0)\n",
    "                running_corrects += torch.sum(preds == labels.data)\n",
    "\n",
    "            epoch_loss = running_loss / len(dataloaders[phase].dataset)\n",
    "            epoch_acc = running_corrects.double() / len(dataloaders[phase].dataset)\n",
    "\n",
    "            print('{} Loss: {:.4f} Acc: {:.4f}'.format(phase, epoch_loss, epoch_acc))\n",
    "#             input(\"Stop\")\n",
    "            # deep copy the model\n",
    "            if phase == 'val' and epoch_acc > best_acc:\n",
    "                best_acc = epoch_acc\n",
    "                best_model_wts = copy.deepcopy(model.state_dict())\n",
    "            if phase == 'val':\n",
    "                val_acc_history.append(epoch_acc)\n",
    "\n",
    "    time_elapsed = time.time() - since\n",
    "    print('Training complete in {:.0f}m {:.0f}s'.format(time_elapsed // 60, time_elapsed % 60))\n",
    "    print('Best val Acc: {:4f}'.format(best_acc))\n",
    "\n",
    "    # load best model weights\n",
    "    model.load_state_dict(best_model_wts)\n",
    "    return model, val_acc_history"
   ]
  },
  {
   "cell_type": "code",
   "execution_count": null,
   "id": "02d06885",
   "metadata": {},
   "outputs": [],
   "source": [
    "# from noggin import create_plot\n",
    "\n",
    "# plotter, fig, ax = create_plot(metrics=[\"loss\", \"accuracy\"], last_n_batches=int(5e3))"
   ]
  },
  {
   "cell_type": "code",
   "execution_count": 10,
   "id": "98880b96",
   "metadata": {},
   "outputs": [
    {
     "name": "stdout",
     "output_type": "stream",
     "text": [
      "Epoch 0/24\n",
      "----------\n"
     ]
    },
    {
     "name": "stderr",
     "output_type": "stream",
     "text": [
      "C:\\Users\\evan_\\AppData\\Local\\Temp\\ipykernel_38712\\228252884.py:48: DeprecationWarning: BILINEAR is deprecated and will be removed in Pillow 10 (2023-07-01). Use Resampling.BILINEAR instead.\n",
      "  im = im.resize(new_size, Image.BILINEAR)\n"
     ]
    },
    {
     "name": "stdout",
     "output_type": "stream",
     "text": [
      "train Loss: 4.2649 Acc: 0.5091\n",
      "val Loss: 2.3457 Acc: 0.7308\n",
      "Epoch 1/24\n",
      "----------\n",
      "train Loss: 0.8986 Acc: 0.6667\n",
      "val Loss: 9.5993 Acc: 0.6154\n",
      "Epoch 2/24\n",
      "----------\n",
      "train Loss: 0.9008 Acc: 0.6000\n",
      "val Loss: 0.7463 Acc: 0.6154\n",
      "Epoch 3/24\n",
      "----------\n",
      "train Loss: 0.7905 Acc: 0.5758\n",
      "val Loss: 3.7774 Acc: 0.6154\n",
      "Epoch 4/24\n",
      "----------\n",
      "train Loss: 0.6878 Acc: 0.6667\n",
      "val Loss: 0.5601 Acc: 0.6923\n",
      "Epoch 5/24\n",
      "----------\n",
      "train Loss: 0.6195 Acc: 0.6788\n",
      "val Loss: 0.4145 Acc: 0.8077\n",
      "Epoch 6/24\n",
      "----------\n",
      "train Loss: 0.5779 Acc: 0.7636\n",
      "val Loss: 0.7129 Acc: 0.6154\n",
      "Epoch 7/24\n",
      "----------\n",
      "train Loss: 0.7048 Acc: 0.7333\n",
      "val Loss: 0.8312 Acc: 0.4615\n",
      "Epoch 8/24\n",
      "----------\n",
      "train Loss: 0.6653 Acc: 0.6848\n",
      "val Loss: 0.6372 Acc: 0.8077\n",
      "Epoch 9/24\n",
      "----------\n",
      "train Loss: 0.5215 Acc: 0.8061\n",
      "val Loss: 0.6818 Acc: 0.6923\n",
      "Epoch 10/24\n",
      "----------\n",
      "train Loss: 0.5438 Acc: 0.7758\n",
      "val Loss: 0.1582 Acc: 0.9615\n",
      "Epoch 11/24\n",
      "----------\n",
      "train Loss: 0.4849 Acc: 0.8545\n",
      "val Loss: 0.8036 Acc: 0.8077\n",
      "Epoch 12/24\n",
      "----------\n",
      "train Loss: 0.4337 Acc: 0.8667\n",
      "val Loss: 0.5186 Acc: 0.9615\n",
      "Epoch 13/24\n",
      "----------\n",
      "train Loss: 0.3660 Acc: 0.8848\n",
      "val Loss: 0.2095 Acc: 0.9231\n",
      "Epoch 14/24\n",
      "----------\n",
      "train Loss: 0.4920 Acc: 0.8303\n",
      "val Loss: 0.5410 Acc: 0.6923\n",
      "Epoch 15/24\n",
      "----------\n",
      "train Loss: 0.4951 Acc: 0.7697\n",
      "val Loss: 0.6605 Acc: 0.7308\n",
      "Epoch 16/24\n",
      "----------\n",
      "train Loss: 0.4943 Acc: 0.7939\n",
      "val Loss: 0.6051 Acc: 0.6538\n",
      "Epoch 17/24\n",
      "----------\n",
      "train Loss: 0.3673 Acc: 0.8788\n",
      "val Loss: 0.2114 Acc: 0.9231\n",
      "Epoch 18/24\n",
      "----------\n",
      "train Loss: 0.3104 Acc: 0.8727\n",
      "val Loss: 0.2844 Acc: 0.8846\n",
      "Epoch 19/24\n",
      "----------\n",
      "train Loss: 0.3678 Acc: 0.9091\n",
      "val Loss: 0.5078 Acc: 0.8077\n",
      "Epoch 20/24\n",
      "----------\n",
      "train Loss: 0.3680 Acc: 0.8667\n",
      "val Loss: 0.3835 Acc: 0.8077\n",
      "Epoch 21/24\n",
      "----------\n",
      "train Loss: 0.2506 Acc: 0.9091\n",
      "val Loss: 0.4011 Acc: 0.8462\n",
      "Epoch 22/24\n",
      "----------\n",
      "train Loss: 0.2566 Acc: 0.8909\n",
      "val Loss: 0.4166 Acc: 0.8077\n",
      "Epoch 23/24\n",
      "----------\n",
      "train Loss: 0.2713 Acc: 0.8970\n",
      "val Loss: 0.3160 Acc: 0.8846\n",
      "Epoch 24/24\n",
      "----------\n",
      "train Loss: 0.1497 Acc: 0.9394\n",
      "val Loss: 0.5258 Acc: 0.8462\n",
      "Training complete in 1m 27s\n",
      "Best val Acc: 0.961538\n"
     ]
    }
   ],
   "source": [
    "criterion = nn.CrossEntropyLoss()\n",
    "# optimizer = optim.Adam(vggmodel.parameters())\n",
    "optimizer = optim.AdamW(vggmodel.parameters())\n",
    "\n",
    "# train_model(\n",
    "#     model,\n",
    "#     dataloaders,\n",
    "#     criterion,\n",
    "#     optimizer,\n",
    "#     num_epochs=25,\n",
    "#     is_inception=False,\n",
    "# )\n",
    "\n",
    "model, val_acc_history = train_model(vggmodel, loaders, criterion, optimizer)"
   ]
  },
  {
   "cell_type": "code",
   "execution_count": 11,
   "id": "e5480aa9",
   "metadata": {},
   "outputs": [],
   "source": [
    "torch.save(model, \"vggmodel_aug.pb\")"
   ]
  },
  {
   "cell_type": "markdown",
   "id": "014d1df7",
   "metadata": {},
   "source": [
    "# Demo"
   ]
  },
  {
   "cell_type": "markdown",
   "id": "ebb81e0f",
   "metadata": {},
   "source": [
    "## SSD Object Finding"
   ]
  },
  {
   "cell_type": "code",
   "execution_count": 192,
   "id": "f3de4ab3",
   "metadata": {},
   "outputs": [],
   "source": [
    "demo_filepath = \"demo_imgs/2.jpg\"\n",
    "objs = find_objects(demo_filepath, 5)"
   ]
  },
  {
   "cell_type": "code",
   "execution_count": 193,
   "id": "15ae3209",
   "metadata": {},
   "outputs": [
    {
     "data": {
      "image/png": "[encoded data removed]",
      "text/plain": [
       "<PIL.Image.Image image mode=RGB size=285x180>"
      ]
     },
     "execution_count": 193,
     "metadata": {},
     "output_type": "execute_result"
    }
   ],
   "source": [
    "objs[0]"
   ]
  },
  {
   "cell_type": "markdown",
   "id": "b8520b16",
   "metadata": {},
   "source": [
    "## VGG Binary Classification"
   ]
  },
  {
   "cell_type": "code",
   "execution_count": 194,
   "id": "9e31888c",
   "metadata": {},
   "outputs": [
    {
     "name": "stdout",
     "output_type": "stream",
     "text": [
      "\n"
     ]
    }
   ],
   "source": [
    "demo_vgg_model = torch.load(\"vggmodel_aug.pb\", map_location=device)\n",
    "demo_vgg_model.eval()\n",
    "print()"
   ]
  },
  {
   "cell_type": "code",
   "execution_count": 195,
   "id": "80a82937",
   "metadata": {},
   "outputs": [
    {
     "name": "stdout",
     "output_type": "stream",
     "text": [
      "torch.Size([5, 3, 224, 224])\n"
     ]
    },
    {
     "name": "stderr",
     "output_type": "stream",
     "text": [
      "C:\\Users\\evan_\\AppData\\Local\\Temp\\ipykernel_38712\\228252884.py:48: DeprecationWarning: BILINEAR is deprecated and will be removed in Pillow 10 (2023-07-01). Use Resampling.BILINEAR instead.\n",
      "  im = im.resize(new_size, Image.BILINEAR)\n"
     ]
    }
   ],
   "source": [
    "demo_transforms = torchvision.transforms.Compose([\n",
    "    custom_fix_image(),\n",
    "    torchvision.transforms.ToTensor(),\n",
    "    torchvision.transforms.Normalize([0.485, 0.456, 0.406], [0.229, 0.224, 0.225])\n",
    "])\n",
    "\n",
    "start_t = torch.FloatTensor(1, 3, 224, 224)\n",
    "\n",
    "for img in objs:\n",
    "    transformed_img = demo_transforms(img)[None, :, :, :]\n",
    "    start_t = torch.cat((start_t, transformed_img))\n",
    "    \n",
    "demo_batch = start_t[1:]\n",
    "print(demo_batch.shape)\n",
    "demo_batch = demo_batch.to(device)\n",
    "with torch.no_grad():\n",
    "    outputs = demo_vgg_model(demo_batch)"
   ]
  },
  {
   "cell_type": "code",
   "execution_count": 196,
   "id": "7677a0b5",
   "metadata": {},
   "outputs": [
    {
     "name": "stdout",
     "output_type": "stream",
     "text": [
      "tensor([[3.2421e-01, 6.7579e-01],\n",
      "        [1.8733e-01, 8.1267e-01],\n",
      "        [1.9832e-01, 8.0168e-01],\n",
      "        [1.9126e-01, 8.0874e-01],\n",
      "        [1.0000e+00, 6.5378e-15]], device='cuda:0')\n",
      "tensor([[-6.2579e-01,  6.7579e-01],\n",
      "        [-7.6267e-01,  8.1267e-01],\n",
      "        [-7.5168e-01,  8.0168e-01],\n",
      "        [-7.5874e-01,  8.0874e-01],\n",
      "        [ 5.0000e-02,  6.5378e-15]], device='cuda:0')\n",
      "tensor([1, 1, 1, 1, 0], device='cuda:0')\n",
      "There is a package\n"
     ]
    }
   ],
   "source": [
    "scores = outputs[:,:2]\n",
    "m = nn.Softmax(dim=1)\n",
    "scores = m(scores)\n",
    "print(scores)\n",
    "scores[:,0] -= 0.95\n",
    "print(scores)\n",
    "answers = torch.argmax(scores, axis=1)\n",
    "print(answers)\n",
    "if (0 in answers):\n",
    "    print(\"There is a package\")\n",
    "else:\n",
    "    print(\"No package\")"
   ]
  },
  {
   "cell_type": "code",
   "execution_count": null,
   "id": "c53e66b7",
   "metadata": {},
   "outputs": [],
   "source": []
  }
 ],
 "metadata": {
  "kernelspec": {
   "display_name": "Python 3 (ipykernel)",
   "language": "python",
   "name": "python3"
  },
  "language_info": {
   "codemirror_mode": {
    "name": "ipython",
    "version": 3
   },
   "file_extension": ".py",
   "mimetype": "text/x-python",
   "name": "python",
   "nbconvert_exporter": "python",
   "pygments_lexer": "ipython3",
   "version": "3.8.13"
  },
  "vscode": {
   "interpreter": {
    "hash": "271a95ad07c9c95bface7c46d0b53e9ab965b294f703bfc4492b7439e2bd8505"
   }
  }
 },
 "nbformat": 4,
 "nbformat_minor": 5
}

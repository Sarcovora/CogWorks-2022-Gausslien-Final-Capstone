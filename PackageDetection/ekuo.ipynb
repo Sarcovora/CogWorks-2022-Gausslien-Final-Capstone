{
 "cells": [
  {
   "cell_type": "code",
   "execution_count": 1,
   "id": "14d28272",
   "metadata": {},
   "outputs": [],
   "source": [
    "%matplotlib notebook"
   ]
  },
  {
   "cell_type": "code",
   "execution_count": 2,
   "id": "ac1acc22",
   "metadata": {},
   "outputs": [],
   "source": [
    "import torchvision\n",
    "from torchvision.io.image import read_image\n",
    "from torchvision.models.detection import ssdlite320_mobilenet_v3_large, SSDLite320_MobileNet_V3_Large_Weights\n",
    "from torchvision.models.detection import ssd300_vgg16, SSD300_VGG16_Weights\n",
    "from torchvision.utils import draw_bounding_boxes\n",
    "from torchvision.transforms.functional import to_pil_image\n",
    "import torch\n",
    "from torchvision import transforms\n",
    "\n",
    "import cv2 as cv\n",
    "from PIL import Image\n",
    "import numpy as np\n",
    "\n",
    "import glob\n",
    "\n",
    "import time\n",
    "import copy\n",
    "\n",
    "from torchvision.models import vgg19_bn, VGG19_BN_Weights\n",
    "import torch.nn as nn\n",
    "import torch.nn.functional as F\n",
    "import torch.optim as optim\n",
    "from torch.utils.data import Dataset\n",
    "from torch.utils.data import DataLoader"
   ]
  },
  {
   "cell_type": "code",
   "execution_count": 3,
   "id": "524ee401",
   "metadata": {},
   "outputs": [],
   "source": [
    "device = torch.device(\"cuda:0\" if torch.cuda.is_available() else \"cpu\")"
   ]
  },
  {
   "cell_type": "code",
   "execution_count": 4,
   "id": "df6715b8",
   "metadata": {},
   "outputs": [],
   "source": [
    "# Step 1: Initialize model with the best available weights\n",
    "weights = SSD300_VGG16_Weights.DEFAULT\n",
    "# model = fasterrcnn_resnet50_fpn_v2(weights=weights, box_score_thresh=0.9)\n",
    "model = ssd300_vgg16(weights=weights)\n",
    "# model.to('cuda')\n",
    "model = model.eval()"
   ]
  },
  {
   "cell_type": "code",
   "execution_count": 16,
   "id": "259b2794",
   "metadata": {},
   "outputs": [],
   "source": [
    "def save_cropped_objects (filepath, num_imgs, id):\n",
    "    img = read_image(filepath)\n",
    "    img = img[:3,:,:]\n",
    "    preprocess = weights.transforms()\n",
    "    batch = [preprocess(img)]\n",
    "    prediction = model(batch)[0]\n",
    "    labels = [weights.meta[\"categories\"][i] for i in prediction[\"labels\"]]\n",
    "    im = to_pil_image(img)\n",
    "    for i in range(num_imgs):\n",
    "        coords = prediction[\"boxes\"][i+1].tolist()\n",
    "        # print(coords)\n",
    "        im1 = im.crop(coords)\n",
    "        im1.save(\"cropped_imgs/\" + str(id) + \"_\" + str(i) + \".jpg\")"
   ]
  },
  {
   "cell_type": "code",
   "execution_count": null,
   "id": "499cab85",
   "metadata": {},
   "outputs": [],
   "source": [
    "save_cropped_objects(\"dataset/elephant.jpg\", 5, 1)"
   ]
  },
  {
   "cell_type": "code",
   "execution_count": null,
   "id": "82525248",
   "metadata": {},
   "outputs": [],
   "source": [
    "filepath = 'dataset/raw/train/'\n",
    "for i, filename in enumerate(glob.glob(filepath + '*.jpg')):\n",
    "\tsave_cropped_objects(filename, 5, i)\n",
    "\n",
    "filepath = 'dataset/raw/test/'\n",
    "for i, filename in enumerate(glob.glob(filepath + '*.jpg')):\n",
    "\tsave_cropped_objects(filename, 5, i)\n",
    "\n",
    "filepath = 'dataset/raw/valid/'\n",
    "for i, filename in enumerate(glob.glob(filepath + '*.jpg')):\n",
    "\tsave_cropped_objects(filename, 5, i)"
   ]
  },
  {
   "cell_type": "code",
   "execution_count": 17,
   "id": "88af7412",
   "metadata": {},
   "outputs": [],
   "source": [
    "filepath = 'alan_imgs/'\n",
    "for i, filename in enumerate(glob.glob(filepath + '*.*')):\n",
    "\tsave_cropped_objects(filename, 5, i)"
   ]
  },
  {
   "cell_type": "markdown",
   "id": "a2eed55a",
   "metadata": {},
   "source": [
    "# VGG Model"
   ]
  },
  {
   "cell_type": "code",
   "execution_count": 30,
   "id": "1f0e7741",
   "metadata": {},
   "outputs": [
    {
     "name": "stdout",
     "output_type": "stream",
     "text": [
      "\n"
     ]
    }
   ],
   "source": [
    "vggweights = VGG19_BN_Weights.DEFAULT\n",
    "vggmodel = vgg19_bn(weights=vggweights)\n",
    "vggmodel = vggmodel.eval()\n",
    "vggmodel.to(device)\n",
    "print()"
   ]
  },
  {
   "cell_type": "code",
   "execution_count": 21,
   "id": "074a040a",
   "metadata": {},
   "outputs": [],
   "source": [
    "class CustomImageDataset(Dataset):\n",
    "    def __init__(self, numpydata, numpylabels, transform=None, target_transform=None):\n",
    "        self.imgs = numpydata\n",
    "        self.img_labels = numpylabels\n",
    "        self.transform = transform\n",
    "        self.target_transform = target_transform\n",
    "\n",
    "    def __len__(self):\n",
    "        return len(self.img_labels)\n",
    "\n",
    "    def __getitem__(self, idx):\n",
    "        label = self.img_labels[idx]\n",
    "        image = self.imgs[idx]\n",
    "        \n",
    "        if self.transform:\n",
    "            image = self.transform(image)\n",
    "        if self.target_transform:\n",
    "            label = self.target_transform(label)\n",
    "        return image, label\n",
    "\n",
    "def padImage(img):\n",
    "    imgshape = np.array(img.shape[:-1])\n",
    "    \n",
    "    padding = abs(imgshape[1]-imgshape[0])\n",
    "    \n",
    "    if imgshape[1] > imgshape[0]:\n",
    "        pad1 = np.zeros((padding//2 + padding%2, imgshape[1],3), dtype=int)\n",
    "        pad2 = np.zeros((padding//2, imgshape[1],3), dtype=int)\n",
    "        \n",
    "        img = np.vstack((pad1,img,pad2))\n",
    "    if imgshape[0] > imgshape[1]:\n",
    "        pad1 = np.zeros((imgshape[0], padding//2 + padding%2, 3), dtype=int)\n",
    "        pad2 = np.zeros((imgshape[0], padding//2,3), dtype=int)\n",
    "        \n",
    "        img = np.hstack((pad1, img, pad2))\n",
    "\n",
    "    return img\n",
    "\n",
    "def fixImage(filename):\n",
    "    img = padImage(np.array(cv.imread(filename))/255)\n",
    "    img = cv.resize(img, (256,256), interpolation = cv.INTER_LINEAR)\n",
    "    img = np.moveaxis(img, -1, 0)\n",
    "    img = img.reshape(1,3,256,256)\n",
    "    \n",
    "    return img"
   ]
  },
  {
   "cell_type": "code",
   "execution_count": 22,
   "id": "a8c543e9",
   "metadata": {},
   "outputs": [],
   "source": [
    "yes_x = np.empty((1,3,256,256))\n",
    "no_x = np.empty((1,3,256,256))\n",
    "\n",
    "for filename in glob.glob('sorted_imgs/box/*.*'):\n",
    "    img = fixImage(filename)\n",
    "    no_x = np.concatenate((no_x, img))\n",
    "\n",
    "for filename in glob.glob('sorted_imgs/no_box/*.*'):\n",
    "    img = fixImage(filename)\n",
    "    yes_x = np.concatenate((yes_x, img))"
   ]
  },
  {
   "cell_type": "markdown",
   "id": "8296b323",
   "metadata": {},
   "source": [
    "## Data Augmentation"
   ]
  },
  {
   "cell_type": "code",
   "execution_count": 18,
   "id": "3c7ceaea",
   "metadata": {},
   "outputs": [],
   "source": [
    "# def show_dataset(dataset, n=6):\n",
    "#   img = np.vstack((np.hstack((np.asarray(dataset[i][0]) for _ in range(n)))\n",
    "#                    for i in range(len(dataset))))\n",
    "#   plt.imshow(img)\n",
    "#   plt.axis('off')"
   ]
  },
  {
   "cell_type": "code",
   "execution_count": 41,
   "id": "af60308a",
   "metadata": {},
   "outputs": [
    {
     "name": "stdout",
     "output_type": "stream",
     "text": [
      "59\n"
     ]
    }
   ],
   "source": [
    "transforms_pytorch = torchvision.transforms.Compose([\n",
    "    torchvision.transforms.ColorJitter(hue=.05, saturation=.05),\n",
    "    torchvision.transforms.RandomHorizontalFlip(),\n",
    "    torchvision.transforms.RandomRotation(20),\n",
    "    torchvision.transforms.ToTensor()\n",
    "])\n",
    "# datasets = {\n",
    "#     'box': torchvision.datasets.ImageFolder('./sorted_imgs/box/', transform=transforms_pytorch),\n",
    "#     'no_box': torchvision.datasets.ImageFolder('./sorted_imgs/no_box/', transform=transforms_pytorch)\n",
    "# }\n",
    "# for mode in ('box', 'no_box'):\n",
    "#     show_dataset(datasets[mode])\n",
    "folder_dataset = torchvision.datasets.ImageFolder('./sorted_imgs/', transform=transforms_pytorch)\n",
    "print(len(folder_dataset))\n",
    "for d in folder_dataset:\n",
    "    i,c = d\n",
    "    \n",
    "#     d.save(\"sorted_imgs/aug_imgs/\" + str(id) + \"_\" + str(i) + \".jpg\")\n",
    "# show_dataset(dataset)"
   ]
  },
  {
   "cell_type": "code",
   "execution_count": 31,
   "id": "d540b110",
   "metadata": {},
   "outputs": [
    {
     "data": {
      "image/png": "[encoded data removed]",
      "text/plain": [
       "<PIL.Image.Image image mode=RGB size=255x269>"
      ]
     },
     "execution_count": 31,
     "metadata": {},
     "output_type": "execute_result"
    }
   ],
   "source": [
    "i"
   ]
  },
  {
   "cell_type": "code",
   "execution_count": 32,
   "id": "7be2fddc",
   "metadata": {},
   "outputs": [
    {
     "data": {
      "text/plain": [
       "1"
      ]
     },
     "execution_count": 32,
     "metadata": {},
     "output_type": "execute_result"
    }
   ],
   "source": [
    "c"
   ]
  },
  {
   "cell_type": "code",
   "execution_count": 37,
   "id": "46de6f2e",
   "metadata": {},
   "outputs": [
    {
     "data": {
      "text/plain": [
       "0"
      ]
     },
     "execution_count": 37,
     "metadata": {},
     "output_type": "execute_result"
    }
   ],
   "source": [
    "folder_dataset[1][1]"
   ]
  },
  {
   "cell_type": "code",
   "execution_count": 38,
   "id": "392ba3ce",
   "metadata": {},
   "outputs": [
    {
     "ename": "NameError",
     "evalue": "name 'yes_x' is not defined",
     "output_type": "error",
     "traceback": [
      "\u001b[1;31m---------------------------------------------------------------------------\u001b[0m",
      "\u001b[1;31mNameError\u001b[0m                                 Traceback (most recent call last)",
      "Input \u001b[1;32mIn [38]\u001b[0m, in \u001b[0;36m<cell line: 3>\u001b[1;34m()\u001b[0m\n\u001b[0;32m      1\u001b[0m batch_size \u001b[38;5;241m=\u001b[39m \u001b[38;5;241m16\u001b[39m\n\u001b[1;32m----> 3\u001b[0m yes_x \u001b[38;5;241m=\u001b[39m \u001b[43myes_x\u001b[49m[\u001b[38;5;241m1\u001b[39m:]\n\u001b[0;32m      4\u001b[0m no_x \u001b[38;5;241m=\u001b[39m no_x[\u001b[38;5;241m1\u001b[39m:]\n\u001b[0;32m      6\u001b[0m p_split \u001b[38;5;241m=\u001b[39m \u001b[38;5;28mint\u001b[39m(\u001b[38;5;28mlen\u001b[39m(yes_x)\u001b[38;5;241m*\u001b[39m\u001b[38;5;241m0.8\u001b[39m)\n",
      "\u001b[1;31mNameError\u001b[0m: name 'yes_x' is not defined"
     ]
    }
   ],
   "source": [
    "batch_size = 16\n",
    "\n",
    "yes_x = yes_x[1:]\n",
    "no_x = no_x[1:]\n",
    "\n",
    "p_split = int(len(yes_x)*0.8)\n",
    "np_split = int(len(no_x)*0.8)\n",
    "\n",
    "train_x = np.vstack((no_x[:np_split], yes_x[:p_split]))\n",
    "valid_x = np.vstack((no_x[np_split:], yes_x[p_split:]))\n",
    "\n",
    "train_y = [0] * np_split + [1] * p_split\n",
    "valid_y = [0] * (len(no_x) - np_split) + [1] * (len(yes_x) - p_split)\n",
    "\n",
    "train_x = torch.tensor(train_x, dtype=torch.float32, device=device)\n",
    "valid_x = torch.tensor(valid_x, dtype=torch.float32, device=device)\n",
    "\n",
    "train_y = torch.tensor(train_y, dtype=torch.float32, device=device)\n",
    "valid_y = torch.tensor(valid_y, dtype=torch.float32, device=device)\n",
    "\n",
    "data = CustomImageDataset(train_x, train_y)\n",
    "valid_data = CustomImageDataset(valid_x, valid_y)\n",
    "\n",
    "trainloader = torch.utils.data.DataLoader(data, batch_size=batch_size, shuffle=True)\n",
    "valloader = torch.utils.data.DataLoader(valid_data, batch_size=batch_size, shuffle=True)\n",
    "\n",
    "loaders = {\n",
    "    \"train\":trainloader,\n",
    "    \"val\":valloader\n",
    "}"
   ]
  },
  {
   "cell_type": "code",
   "execution_count": 48,
   "id": "08eb5499",
   "metadata": {},
   "outputs": [],
   "source": [
    "trainloader = torch.utils.data.DataLoader(folder_dataset, batch_size=1, shuffle=True)"
   ]
  },
  {
   "cell_type": "code",
   "execution_count": 49,
   "id": "49513660",
   "metadata": {},
   "outputs": [
    {
     "data": {
      "text/plain": [
       "(torch.Size([1, 3, 300, 537]), torch.Size([1]))"
      ]
     },
     "execution_count": 49,
     "metadata": {},
     "output_type": "execute_result"
    }
   ],
   "source": [
    "for batch_img,batch_label in trainloader:\n",
    "    break\n",
    "batch_img.shape,batch_label.shape"
   ]
  },
  {
   "cell_type": "code",
   "execution_count": 24,
   "id": "eed4472e",
   "metadata": {},
   "outputs": [],
   "source": [
    "# Top level data directory. Here we assume the format of the directory conforms\n",
    "#   to the ImageFolder structure\n",
    "data_dir = \"./cropped_imgs\"\n",
    "\n",
    "# Models to choose from [resnet, alexnet, vgg, squeezenet, densenet, inception]\n",
    "model_name = \"vgg\"\n",
    "\n",
    "# Number of classes in the dataset\n",
    "num_classes = 2\n",
    "\n",
    "# Batch size for training (change depending on how much memory you have)\n",
    "\n",
    "\n",
    "# Number of epochs to train for\n",
    "num_epochs = 1\n",
    "\n",
    "# Flag for feature extracting. When False, we finetune the whole model,\n",
    "#   when True we only update the reshaped layer params\n",
    "feature_extract = False\n",
    "\n",
    "def train_model(model, dataloaders, criterion, optimizer, num_epochs=25, is_inception=False):\n",
    "    since = time.time()\n",
    "\n",
    "    val_acc_history = []\n",
    "\n",
    "    best_model_wts = copy.deepcopy(model.state_dict())\n",
    "    best_acc = 0.0\n",
    "\n",
    "    for epoch in range(num_epochs):\n",
    "        print('Epoch {}/{}'.format(epoch, num_epochs - 1))\n",
    "        print('-' * 10)\n",
    "\n",
    "        # Each epoch has a training and validation phase\n",
    "        for phase in ['train', 'val']:\n",
    "            if phase == 'train':\n",
    "                model.train()  # Set model to training mode\n",
    "            else:\n",
    "                model.eval()   # Set model to evaluate mode\n",
    "\n",
    "            running_loss = 0.0\n",
    "            running_corrects = 0\n",
    "\n",
    "            # Iterate over data.\n",
    "            for inputs, labels in dataloaders[phase]:\n",
    "                inputs = inputs.to(device)\n",
    "                labels = labels.to(device).long()\n",
    "                \n",
    "                #print(inputs.type())\n",
    "                #print(labels.type())\n",
    "\n",
    "                # zero the parameter gradients\n",
    "                optimizer.zero_grad()\n",
    "\n",
    "                # forward\n",
    "                # track history if only in train\n",
    "                with torch.set_grad_enabled(phase == 'train'):\n",
    "                    # Get model outputs and calculate loss\n",
    "                    # Special case for inception because in training it has an auxiliary output. In train\n",
    "                    #   mode we calculate the loss by summing the final output and the auxiliary output\n",
    "                    #   but in testing we only consider the final output.\n",
    "                    if is_inception and phase == 'train':\n",
    "                        # From https://discuss.pytorch.org/t/how-to-optimize-inception-model-with-auxiliary-classifiers/7958\n",
    "                        outputs, aux_outputs = model(inputs)\n",
    "                        loss1 = criterion(outputs, labels)\n",
    "                        loss2 = criterion(aux_outputs, labels)\n",
    "                        loss = loss1 + 0.4*loss2\n",
    "                    else:\n",
    "                        outputs = model(inputs)\n",
    "                        loss = criterion(outputs, labels)\n",
    "\n",
    "                    _, preds = torch.max(outputs, 1)\n",
    "\n",
    "                    # backward + optimize only if in training phase\n",
    "                    if phase == 'train':\n",
    "                        loss.backward()\n",
    "                        optimizer.step()\n",
    "\n",
    "                # statistics\n",
    "                running_loss += loss.item() * inputs.size(0)\n",
    "                running_corrects += torch.sum(preds == labels.data)\n",
    "\n",
    "            epoch_loss = running_loss / len(dataloaders[phase].dataset)\n",
    "            epoch_acc = running_corrects.double() / len(dataloaders[phase].dataset)\n",
    "\n",
    "            print('{} Loss: {:.4f} Acc: {:.4f}'.format(phase, epoch_loss, epoch_acc))\n",
    "\n",
    "            # deep copy the model\n",
    "            if phase == 'val' and epoch_acc > best_acc:\n",
    "                best_acc = epoch_acc\n",
    "                best_model_wts = copy.deepcopy(model.state_dict())\n",
    "            if phase == 'val':\n",
    "                val_acc_history.append(epoch_acc)\n",
    "\n",
    "        print()\n",
    "\n",
    "    time_elapsed = time.time() - since\n",
    "    print('Training complete in {:.0f}m {:.0f}s'.format(time_elapsed // 60, time_elapsed % 60))\n",
    "    print('Best val Acc: {:4f}'.format(best_acc))\n",
    "\n",
    "    # load best model weights\n",
    "    model.load_state_dict(best_model_wts)\n",
    "    return model, val_acc_history"
   ]
  },
  {
   "cell_type": "code",
   "execution_count": 27,
   "id": "98880b96",
   "metadata": {},
   "outputs": [
    {
     "name": "stdout",
     "output_type": "stream",
     "text": [
      "Epoch 0/24\n",
      "----------\n",
      "train Loss: 0.5815 Acc: 0.7049\n",
      "val Loss: 36.2533 Acc: 0.8125\n",
      "\n",
      "Epoch 1/24\n",
      "----------\n",
      "train Loss: 1.1257 Acc: 0.6721\n",
      "val Loss: 6.9834 Acc: 0.8125\n",
      "\n",
      "Epoch 2/24\n",
      "----------\n",
      "train Loss: 0.5163 Acc: 0.6721\n",
      "val Loss: 4.1437 Acc: 0.6875\n",
      "\n",
      "Epoch 3/24\n",
      "----------\n",
      "train Loss: 0.4784 Acc: 0.7049\n",
      "val Loss: 90.8822 Acc: 0.8125\n",
      "\n",
      "Epoch 4/24\n",
      "----------\n",
      "train Loss: 0.3721 Acc: 0.7869\n",
      "val Loss: 17.9381 Acc: 0.8125\n",
      "\n",
      "Epoch 5/24\n",
      "----------\n",
      "train Loss: 0.3445 Acc: 0.8361\n",
      "val Loss: 1.8238 Acc: 0.6250\n",
      "\n",
      "Epoch 6/24\n",
      "----------\n",
      "train Loss: 0.4849 Acc: 0.6885\n",
      "val Loss: 0.4349 Acc: 0.7500\n",
      "\n",
      "Epoch 7/24\n",
      "----------\n",
      "train Loss: 0.4025 Acc: 0.8525\n",
      "val Loss: 1.4357 Acc: 0.4375\n",
      "\n",
      "Epoch 8/24\n",
      "----------\n",
      "train Loss: 0.3527 Acc: 0.8033\n",
      "val Loss: 0.3923 Acc: 0.6875\n",
      "\n",
      "Epoch 9/24\n",
      "----------\n",
      "train Loss: 0.4465 Acc: 0.6885\n",
      "val Loss: 0.4909 Acc: 0.6875\n",
      "\n",
      "Epoch 10/24\n",
      "----------\n",
      "train Loss: 0.3355 Acc: 0.8361\n",
      "val Loss: 0.9936 Acc: 0.4375\n",
      "\n",
      "Epoch 11/24\n",
      "----------\n",
      "train Loss: 0.3345 Acc: 0.8361\n",
      "val Loss: 0.6495 Acc: 0.4375\n",
      "\n",
      "Epoch 12/24\n",
      "----------\n",
      "train Loss: 0.3158 Acc: 0.7869\n",
      "val Loss: 0.7532 Acc: 0.4375\n",
      "\n",
      "Epoch 13/24\n",
      "----------\n",
      "train Loss: 0.4963 Acc: 0.9180\n",
      "val Loss: 3.9542 Acc: 0.6875\n",
      "\n",
      "Epoch 14/24\n",
      "----------\n",
      "train Loss: 0.0654 Acc: 0.9836\n",
      "val Loss: 7.8149 Acc: 0.8125\n",
      "\n",
      "Epoch 15/24\n",
      "----------\n",
      "train Loss: 0.2326 Acc: 0.9508\n",
      "val Loss: 2.1925 Acc: 0.6875\n",
      "\n",
      "Epoch 16/24\n",
      "----------\n",
      "train Loss: 0.4003 Acc: 0.9180\n",
      "val Loss: 1.6358 Acc: 0.7500\n",
      "\n",
      "Epoch 17/24\n",
      "----------\n",
      "train Loss: 0.2187 Acc: 0.9180\n",
      "val Loss: 2.3726 Acc: 0.6875\n",
      "\n",
      "Epoch 18/24\n",
      "----------\n",
      "train Loss: 0.1017 Acc: 0.9672\n",
      "val Loss: 6.2663 Acc: 0.7500\n",
      "\n",
      "Epoch 19/24\n",
      "----------\n",
      "train Loss: 0.0855 Acc: 0.9672\n",
      "val Loss: 5.6169 Acc: 0.7500\n",
      "\n",
      "Epoch 20/24\n",
      "----------\n",
      "train Loss: 0.2690 Acc: 0.9508\n",
      "val Loss: 34.6456 Acc: 0.7500\n",
      "\n",
      "Epoch 21/24\n",
      "----------\n",
      "train Loss: 0.2050 Acc: 0.9508\n",
      "val Loss: 41.0885 Acc: 0.6875\n",
      "\n",
      "Epoch 22/24\n",
      "----------\n",
      "train Loss: 0.5094 Acc: 0.8033\n",
      "val Loss: 45.3923 Acc: 0.7500\n",
      "\n",
      "Epoch 23/24\n",
      "----------\n",
      "train Loss: 0.2172 Acc: 0.9344\n",
      "val Loss: 23.7975 Acc: 0.7500\n",
      "\n",
      "Epoch 24/24\n",
      "----------\n",
      "train Loss: 0.1389 Acc: 0.9672\n",
      "val Loss: 14.9051 Acc: 0.7500\n",
      "\n",
      "Training complete in 0m 31s\n",
      "Best val Acc: 0.812500\n"
     ]
    }
   ],
   "source": [
    "criterion = nn.CrossEntropyLoss()\n",
    "optimizer = optim.Adam(vggmodel.parameters(), lr=0.001)\n",
    "\n",
    "# train_model(\n",
    "#     model,\n",
    "#     dataloaders,\n",
    "#     criterion,\n",
    "#     optimizer,\n",
    "#     num_epochs=25,\n",
    "#     is_inception=False,\n",
    "# )\n",
    "\n",
    "model, val_acc_history = train_model(vggmodel, loaders, criterion, optimizer)"
   ]
  },
  {
   "cell_type": "code",
   "execution_count": 28,
   "id": "e5480aa9",
   "metadata": {},
   "outputs": [],
   "source": [
    "torch.save(model, \"vggmodel.pb\")"
   ]
  }
 ],
 "metadata": {
  "kernelspec": {
   "display_name": "Python 3 (ipykernel)",
   "language": "python",
   "name": "python3"
  },
  "language_info": {
   "codemirror_mode": {
    "name": "ipython",
    "version": 3
   },
   "file_extension": ".py",
   "mimetype": "text/x-python",
   "name": "python",
   "nbconvert_exporter": "python",
   "pygments_lexer": "ipython3",
   "version": "3.8.13"
  },
  "vscode": {
   "interpreter": {
    "hash": "271a95ad07c9c95bface7c46d0b53e9ab965b294f703bfc4492b7439e2bd8505"
   }
  }
 },
 "nbformat": 4,
 "nbformat_minor": 5
}

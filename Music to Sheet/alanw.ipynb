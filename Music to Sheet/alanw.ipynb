{
 "cells": [
  {
   "cell_type": "code",
   "execution_count": 58,
   "id": "f0baee49",
   "metadata": {},
   "outputs": [],
   "source": [
    "%matplotlib notebook"
   ]
  },
  {
   "cell_type": "code",
   "execution_count": 38,
   "id": "b87a1666",
   "metadata": {},
   "outputs": [],
   "source": [
    "from microphone import record_audio\n",
    "import matplotlib.pyplot as plt\n",
    "import matplotlib.mlab as mlab\n",
    "from IPython.display import Audio\n",
    "import librosa\n",
    "\n",
    "from numba import njit\n",
    "import numpy as np\n",
    "import pickle\n",
    "import time\n",
    "\n",
    "from music21 import *\n",
    "import pygame as pg\n",
    "\n",
    "from sklearn.cluster import KMeans"
   ]
  },
  {
   "cell_type": "code",
   "execution_count": 54,
   "id": "1051317d",
   "metadata": {},
   "outputs": [],
   "source": [
    "us = environment.UserSettings()\n",
    "us.getSettingsPath()\n",
    "environment.set('musescoreDirectPNGPath', \"/usr/bin/musescore\")"
   ]
  },
  {
   "cell_type": "markdown",
   "id": "590b2fe7",
   "metadata": {},
   "source": [
    "Getting User Input"
   ]
  },
  {
   "cell_type": "code",
   "execution_count": 126,
   "id": "b36c7a35",
   "metadata": {},
   "outputs": [],
   "source": [
    "def micRecord(time=10):\n",
    "    frames, rate = record_audio(time)\n",
    "    return np.hstack([np.frombuffer(i, np.int16) for i in frames]), rate\n",
    "def getFile(path):\n",
    "    recorded_audio, sampling_rate = librosa.load(path, \n",
    "                                                 sr=44100, \n",
    "                                                 mono=True,\n",
    "                                                duration=40)\n",
    "    return recorded_audio, sampling_rate\n",
    "def pressure(times: np.ndarray, *, amp: float, freq: float) -> np.ndarray:\n",
    "    return amp * np.sin(2 * np.pi * freq * times)\n",
    "def pureTone(freq, amp=0.06, dur=3, rate=44100):\n",
    "    n_samples = int(dur * rate) + 1\n",
    "    times = np.arange(n_samples) / rate  # seconds\n",
    "    return pressure(times, amp=amp, freq=freq), rate  # Pascals"
   ]
  },
  {
   "cell_type": "code",
   "execution_count": 41,
   "id": "f71ec018",
   "metadata": {},
   "outputs": [],
   "source": [
    "def userinput():\n",
    "    while True:\n",
    "        audioType = input(\"u for Upload, r for Record: \")\n",
    "        if audioType == 'u':\n",
    "            path = input(\"Enter path to file: \")\n",
    "            samples, rate = getFile(path)\n",
    "            break\n",
    "        elif audioType == 'r':\n",
    "            samples, rate = micRecord()\n",
    "            break\n",
    "        print(\"Invalid input. Try again.\")\n",
    "    # print(rate)\n",
    "    \n",
    "    return samples, rate"
   ]
  },
  {
   "cell_type": "markdown",
   "id": "bcd2cc54",
   "metadata": {},
   "source": [
    "Processing"
   ]
  },
  {
   "cell_type": "code",
   "execution_count": 51,
   "id": "24a03ad9",
   "metadata": {},
   "outputs": [],
   "source": [
    "def getspec(samples, rate):\n",
    "    spectrogram, freqs, times = mlab.specgram(\n",
    "\t\tsamples,\n",
    "\t\tNFFT=4096,\n",
    "\t\tFs=rate,\n",
    "\t\twindow=mlab.window_hanning,\n",
    "\t\tnoverlap=int(4096 / 2)\n",
    "\t)\n",
    "    return spectrogram, freqs, times"
   ]
  },
  {
   "cell_type": "code",
   "execution_count": 71,
   "id": "a966cd21",
   "metadata": {},
   "outputs": [],
   "source": [
    "def distinctFreqs(freq1:float, freq2:float, a=1.059):\n",
    "    larger_freq = max(freq1, freq2)\n",
    "    smaller_freq = min(freq1, freq2)\n",
    "    if smaller_freq == 0:\n",
    "        smaller_freq = 1e-100\n",
    "    if larger_freq/smaller_freq >= a:\n",
    "        return True\n",
    "    else:\n",
    "        return False"
   ]
  },
  {
   "cell_type": "code",
   "execution_count": 111,
   "id": "bce00b01",
   "metadata": {},
   "outputs": [],
   "source": [
    "def convert(freqTimes: dict):\n",
    "    #returns a list of lists [freq, start, last seen instance, duration]\n",
    "    freqDurations = []\n",
    "    \n",
    "    # key and value for the original dictionary\n",
    "    for time, freqs in freqTimes.items():\n",
    "        \n",
    "        # each frequency in this current key of the dictionary\n",
    "        for f in freqs: \n",
    "            if f==0:\n",
    "                continue\n",
    "            #GOING THROUGH THE PREVIOUS LAYER\n",
    "            # the default index of the current list item is the very last index (assuming it appends one)\n",
    "            currentListIndex = len(freqDurations)\n",
    "#             print(\"currListIndex at first= \" + str(currentListIndex))\n",
    "            \n",
    "            # each index of the durations list\n",
    "            previouslyFound = False\n",
    "            for fd in range(0, len(freqDurations)):\n",
    "                fd_item = freqDurations[fd]\n",
    "                \n",
    "                # if time is 0, will always return false\n",
    "                if not distinctFreqs(fd_item[0], f) and fd_item[2] == time-1:\n",
    "#                     print(fd_item[0], f)\n",
    "                    currentListIndex = fd\n",
    "#                     print(\"found in previous layer\")\n",
    "                    previouslyFound = True\n",
    "                \n",
    "                # current list item is the index of this newly added item\n",
    "            if not previouslyFound:\n",
    "                freqDurations.append([f, time, time, 1])\n",
    "                    \n",
    "            if (len(freqDurations) == 0):\n",
    "                freqDurations.append([f, time, time, 1])\n",
    "            \n",
    "#             print(\"before: \")\n",
    "#             print(freqDurations)\n",
    "                    \n",
    "            #GOING THROUGH THE NEXT LAYER\n",
    "            # each frequency in the next key of the dictionary\n",
    "            if (time + 1) < len(freqTimes):\n",
    "                for next_freq in freqTimes[time+1]:\n",
    "                    if not(distinctFreqs(f, next_freq)):\n",
    "#                         print(\"not distinct: \" + str(f) + \"  \" + str(next_freq))\n",
    "                        avg = (f + next_freq)/2\n",
    "                        # updates the frequency, changes the last seen instance, and adds 1 to the duration\n",
    "#                         print(\"currListIndex= \" + str(currentListIndex))\n",
    "                        freqDurations[currentListIndex] = [avg, freqDurations[currentListIndex][1], \n",
    "                                                          time, freqDurations[currentListIndex][3] + 1]\n",
    "                        #print(freqDurations[currentListIndex])\n",
    "#             print(\"after: \")\n",
    "#             print(freqDurations)\n",
    "#             print()\n",
    "#     print(freqDurations)            \n",
    "    return freqDurations"
   ]
  },
  {
   "cell_type": "code",
   "execution_count": 53,
   "id": "d5c4b185",
   "metadata": {},
   "outputs": [],
   "source": [
    "def groupDuration(freqDurations: list, num_clusters: int, max_duration_num = 5):\n",
    "    #returns list of cluster ids\n",
    "    \n",
    "    data = np.array([item[3] for item in freqDurations]).reshape(-1,1)\n",
    "    kmeans = KMeans(num_clusters)\n",
    "    kmeans.fit(data)\n",
    "    \n",
    "    clusters = kmeans.fit_predict(data)\n",
    "    #print(clusters)\n",
    "    \n",
    "    wcss=[]\n",
    "#     for i in range(1,max_duration_num):\n",
    "#         kmeans = KMeans(i)\n",
    "#         kmeans.fit(data)\n",
    "#         wcss_iter = kmeans.inertia_\n",
    "#         wcss.append(wcss_iter)\n",
    "\n",
    "    number_clusters = range(1, max_duration_num)\n",
    "#     plt.plot(number_clusters,wcss)\n",
    "#     plt.title('The Elbow title')\n",
    "#     plt.xlabel('Number of clusters')\n",
    "#     plt.ylabel('WCSS')\n",
    "    \n",
    "    return clusters, num_clusters"
   ]
  },
  {
   "cell_type": "code",
   "execution_count": 46,
   "id": "6604fad2",
   "metadata": {},
   "outputs": [],
   "source": [
    "def durations(num_clusters: int):\n",
    "    #returns list of durations\n",
    "    quarter_index = int(num_clusters/2) \n",
    "    \n",
    "    durationMappingKey = [0.166, 0.5, 1, 2, 4]\n",
    "    \n",
    "    duration_list = []\n",
    "    start = 2 - quarter_index\n",
    "    for i in range(start, start + num_clusters):\n",
    "        duration_list.append(durationMappingKey[i])\n",
    "        \n",
    "    return duration_list"
   ]
  },
  {
   "cell_type": "code",
   "execution_count": 47,
   "id": "34f23a56",
   "metadata": {},
   "outputs": [],
   "source": [
    "def notes(freqDurations: list, clusterIDs: list, duration_list: list):\n",
    "    #return list of notes\n",
    "    #normFreqs = music21.audioSearch.detectPitchFrequencies([freq[0] for freq in freqDurs])\n",
    "    notes = []\n",
    "    for freqIndex in range(len(freqDurations)):\n",
    "        p = pitch.Pitch()\n",
    "        p.frequency = freqDurations[freqIndex][0]\n",
    "        n = note.Note(pitchName = p.name)\n",
    "        d = duration.Duration()\n",
    "        d.quarterLength = duration_list[clusterIDs[freqIndex]]\n",
    "        n.duration = d\n",
    "        notes.append(n)\n",
    "    #print(normFreqs)\n",
    "    return notes"
   ]
  },
  {
   "cell_type": "code",
   "execution_count": 69,
   "id": "f8a214fd",
   "metadata": {},
   "outputs": [],
   "source": [
    "def streamNotes(notes: list):\n",
    "    s = stream.Stream()\n",
    "    for n in notes:\n",
    "        s.append(n)\n",
    "#     mf = midi.translate.streamToMidiFile(s)\n",
    "    s.show()\n",
    "    #sp = midi.realtime.StreamPlayer(s, playForMilliseconds = 5000)\n",
    "    #sp.play()\n",
    "#     return mf"
   ]
  },
  {
   "cell_type": "code",
   "execution_count": 113,
   "id": "d4cb7f93",
   "metadata": {},
   "outputs": [],
   "source": [
    "def sheetMusic(peak_dict: dict, num_clusters: int):\n",
    "    freqDurs = convert(peak_dict)\n",
    "    \n",
    "    \n",
    "    clusterIDs, num_clusters = groupDuration(freqDurs, num_clusters = num_clusters, max_duration_num = 5)\n",
    "    \n",
    "    duration_list = durations(num_clusters)\n",
    "    \n",
    "    notesList = notes(freqDurs, clusterIDs, duration_list)\n",
    "    streamNotes(notesList)"
   ]
  },
  {
   "cell_type": "code",
   "execution_count": 99,
   "id": "4bb26279",
   "metadata": {},
   "outputs": [],
   "source": [
    "def find_min_amp(maxamps, amp_threshold):\n",
    "    ind = round(len(maxamps) * amp_threshold)\n",
    "    cutoff_log_amplitude = np.partition(maxamps, ind)[ind]\n",
    "    return cutoff_log_amplitude"
   ]
  },
  {
   "cell_type": "code",
   "execution_count": 127,
   "id": "382e807d",
   "metadata": {},
   "outputs": [
    {
     "name": "stdout",
     "output_type": "stream",
     "text": [
      "u for Upload, r for Record: u\n",
      "Enter path to file: twinkle.mp3\n"
     ]
    },
    {
     "name": "stderr",
     "output_type": "stream",
     "text": [
      "/home/alanxw/miniconda3/envs/week1/lib/python3.8/site-packages/librosa/util/decorators.py:88: UserWarning: PySoundFile failed. Trying audioread instead.\n",
      "  return f(*args, **kwargs)\n"
     ]
    },
    {
     "data": {
      "image/png": "[encoded data removed]",
      "text/plain": [
       "<IPython.core.display.Image object>"
      ]
     },
     "metadata": {
      "image/png": {
       "height": 311,
       "width": 708
      }
     },
     "output_type": "display_data"
    }
   ],
   "source": [
    "#music, sampling_rate = pureTone(261.63)\n",
    "music, sampling_rate = userinput()\n",
    "spec, freq, time = getspec(music, sampling_rate)\n",
    "\n",
    "maxamps = np.log(np.max(spec,axis=0))\n",
    "maxfreqs = np.argmax(spec, axis=0)\n",
    "maxfreqs = freq[maxfreqs]\n",
    "#print(maxfreqs)\n",
    "thresh = find_min_amp(maxamps,0.1)\n",
    "comps = maxamps>thresh\n",
    "zeroedfreqs = np.trim_zeros(comps*maxfreqs)\n",
    "\n",
    "timefreq = [(i,[j]) for i,j in enumerate(zeroedfreqs)]\n",
    "timefreq = dict(timefreq)\n",
    "\n",
    "sheetMusic(timefreq, num_clusters = 1)"
   ]
  }
 ],
 "metadata": {
  "kernelspec": {
   "display_name": "Python 3 (ipykernel)",
   "language": "python",
   "name": "python3"
  },
  "language_info": {
   "codemirror_mode": {
    "name": "ipython",
    "version": 3
   },
   "file_extension": ".py",
   "mimetype": "text/x-python",
   "name": "python",
   "nbconvert_exporter": "python",
   "pygments_lexer": "ipython3",
   "version": "3.8.13"
  }
 },
 "nbformat": 4,
 "nbformat_minor": 5
}

{
 "cells": [
  {
   "cell_type": "code",
   "execution_count": 1,
   "id": "f0baee49",
   "metadata": {},
   "outputs": [],
   "source": [
    "%matplotlib notebook"
   ]
  },
  {
   "cell_type": "code",
   "execution_count": 42,
   "id": "b87a1666",
   "metadata": {},
   "outputs": [],
   "source": [
    "from microphone import record_audio\n",
    "import matplotlib.pyplot as plt\n",
    "import matplotlib.mlab as mlab\n",
    "from IPython.display import Audio\n",
    "import librosa\n",
    "\n",
    "from numba import njit\n",
    "import numpy as np\n",
    "import pickle\n",
    "import time\n",
    "import math\n",
    "\n",
    "from music21 import *\n",
    "import pygame as pg\n",
    "\n",
    "from sklearn.cluster import KMeans"
   ]
  },
  {
   "cell_type": "code",
   "execution_count": 4,
   "id": "1051317d",
   "metadata": {},
   "outputs": [],
   "source": [
    "us = environment.UserSettings()\n",
    "us.getSettingsPath()\n",
    "environment.set('musescoreDirectPNGPath', \"C:/Program Files/MuseScore 3/bin/MuseScore3.exe\")"
   ]
  },
  {
   "cell_type": "markdown",
   "id": "590b2fe7",
   "metadata": {},
   "source": [
    "Getting User Input"
   ]
  },
  {
   "cell_type": "code",
   "execution_count": 22,
   "id": "b36c7a35",
   "metadata": {},
   "outputs": [],
   "source": [
    "def micRecord(time=10):\n",
    "    frames, rate = record_audio(time)\n",
    "    return np.hstack([np.frombuffer(i, np.int16) for i in frames]), rate\n",
    "def getFile(path):\n",
    "    recorded_audio, sampling_rate = librosa.load(path, \n",
    "                                                 sr=44100, \n",
    "                                                 mono=True,\n",
    "                                                duration=20)\n",
    "    return recorded_audio, sampling_rate\n",
    "def pressure(times: np.ndarray, *, amp: float, freq: float) -> np.ndarray:\n",
    "    return amp * np.sin(2 * np.pi * freq * times)\n",
    "def pureTone(freq, amp=0.06, dur=3, rate=44100):\n",
    "    n_samples = int(dur * rate) + 1\n",
    "    times = np.arange(n_samples) / rate  # seconds\n",
    "    return pressure(times, amp=amp, freq=freq), rate  # Pascals"
   ]
  },
  {
   "cell_type": "code",
   "execution_count": 6,
   "id": "f71ec018",
   "metadata": {},
   "outputs": [],
   "source": [
    "def userinput():\n",
    "    while True:\n",
    "        audioType = input(\"u for Upload, r for Record: \")\n",
    "        if audioType == 'u':\n",
    "            path = input(\"Enter path to file: \")\n",
    "            samples, rate = getFile(path)\n",
    "            break\n",
    "        elif audioType == 'r':\n",
    "            samples, rate = micRecord()\n",
    "            break\n",
    "        print(\"Invalid input. Try again.\")\n",
    "    # print(rate)\n",
    "    \n",
    "    return samples, rate"
   ]
  },
  {
   "cell_type": "markdown",
   "id": "bcd2cc54",
   "metadata": {},
   "source": [
    "Processing"
   ]
  },
  {
   "cell_type": "code",
   "execution_count": 7,
   "id": "24a03ad9",
   "metadata": {},
   "outputs": [],
   "source": [
    "def getspec(samples, rate):\n",
    "    spectrogram, freqs, times = mlab.specgram(\n",
    "\t\tsamples,\n",
    "\t\tNFFT=4096,\n",
    "\t\tFs=rate,\n",
    "\t\twindow=mlab.window_hanning,\n",
    "\t\tnoverlap=int(4096 / 2)\n",
    "\t)\n",
    "    return spectrogram, freqs, times"
   ]
  },
  {
   "cell_type": "code",
   "execution_count": 68,
   "id": "a966cd21",
   "metadata": {},
   "outputs": [],
   "source": [
    "def distinctFreqs(freq1:float, freq2:float, a=1.05):\n",
    "    larger_freq = max(freq1, freq2)\n",
    "    smaller_freq = min(freq1, freq2)\n",
    "    if smaller_freq == 0:\n",
    "        smaller_freq = 1e-100\n",
    "    if math.isclose(larger_freq/smaller_freq, 2, rel_tol = 0.03):\n",
    "        return False\n",
    "    if larger_freq/smaller_freq >= a:\n",
    "        return True\n",
    "    else:\n",
    "        return False"
   ]
  },
  {
   "cell_type": "code",
   "execution_count": 63,
   "id": "bce00b01",
   "metadata": {},
   "outputs": [],
   "source": [
    "def convert(freqTimes: dict):\n",
    "    #returns a list of lists [freq, start, last seen instance, duration]\n",
    "    freqDurations = []\n",
    "    \n",
    "    # key and value for the original dictionary\n",
    "    for time, freqs in freqTimes.items():\n",
    "        \n",
    "        # each frequency in this current key of the dictionary\n",
    "        for f in freqs: \n",
    "            if f==0:\n",
    "                continue\n",
    "            #GOING THROUGH THE PREVIOUS LAYER\n",
    "            # the default index of the current list item is the very last index (assuming it appends one)\n",
    "            currentListIndex = len(freqDurations)\n",
    "#             print(\"currListIndex at first= \" + str(currentListIndex))\n",
    "            \n",
    "            # each index of the durations list\n",
    "            previouslyFound = False\n",
    "            for fd in range(0, len(freqDurations)):\n",
    "                fd_item = freqDurations[fd]\n",
    "                \n",
    "                # if time is 0, will always return false\n",
    "                if not distinctFreqs(fd_item[0], f) and fd_item[2] == time-1:\n",
    "#                     print(fd_item[0], f)\n",
    "                    currentListIndex = fd\n",
    "#                     print(\"found in previous layer\")\n",
    "                    previouslyFound = True\n",
    "                \n",
    "                # current list item is the index of this newly added item\n",
    "            if not previouslyFound:\n",
    "                freqDurations.append([f, time, time, 1])\n",
    "                    \n",
    "            if (len(freqDurations) == 0):\n",
    "                freqDurations.append([f, time, time, 1])\n",
    "            \n",
    "#             print(\"before: \")\n",
    "#             print(freqDurations)\n",
    "                    \n",
    "            #GOING THROUGH THE NEXT LAYER\n",
    "            # each frequency in the next key of the dictionary\n",
    "            if (time + 1) < len(freqTimes):\n",
    "                for next_freq in freqTimes[time+1]:\n",
    "                    if not(distinctFreqs(f, next_freq)):\n",
    "#                         print(\"not distinct: \" + str(f) + \"  \" + str(next_freq))\n",
    "#                         avg = (f + next_freq)/2\n",
    "                        mini = min(f, next_freq)\n",
    "                        # updates the frequency, changes the last seen instance, and adds 1 to the duration\n",
    "#                         print(\"currListIndex= \" + str(currentListIndex))\n",
    "                        freqDurations[currentListIndex] = [mini, freqDurations[currentListIndex][1], \n",
    "                                                          time, freqDurations[currentListIndex][3] + 1]\n",
    "                        #print(freqDurations[currentListIndex])\n",
    "#             print(\"after: \")\n",
    "#             print(freqDurations)\n",
    "#             print()\n",
    "#     print(freqDurations)            \n",
    "    return freqDurations"
   ]
  },
  {
   "cell_type": "code",
   "execution_count": 10,
   "id": "d5c4b185",
   "metadata": {},
   "outputs": [],
   "source": [
    "def groupDuration(freqDurations: list, num_clusters: int, max_duration_num = 5):\n",
    "    #returns list of cluster ids\n",
    "    \n",
    "    data = np.array([item[3] for item in freqDurations]).reshape(-1,1)\n",
    "    kmeans = KMeans(num_clusters)\n",
    "    kmeans.fit(data)\n",
    "    \n",
    "    clusters = kmeans.fit_predict(data)\n",
    "    #print(clusters)\n",
    "    \n",
    "    wcss=[]\n",
    "#     for i in range(1,max_duration_num):\n",
    "#         kmeans = KMeans(i)\n",
    "#         kmeans.fit(data)\n",
    "#         wcss_iter = kmeans.inertia_\n",
    "#         wcss.append(wcss_iter)\n",
    "\n",
    "    number_clusters = range(1, max_duration_num)\n",
    "#     plt.plot(number_clusters,wcss)\n",
    "#     plt.title('The Elbow title')\n",
    "#     plt.xlabel('Number of clusters')\n",
    "#     plt.ylabel('WCSS')\n",
    "    \n",
    "    return clusters, num_clusters"
   ]
  },
  {
   "cell_type": "code",
   "execution_count": 11,
   "id": "6604fad2",
   "metadata": {},
   "outputs": [],
   "source": [
    "def durations(num_clusters: int):\n",
    "    #returns list of durations\n",
    "    quarter_index = int(num_clusters/2) \n",
    "    \n",
    "    durationMappingKey = [0.166, 0.5, 1, 2, 4]\n",
    "    \n",
    "    duration_list = []\n",
    "    start = 2 - quarter_index\n",
    "    for i in range(start, start + num_clusters):\n",
    "        duration_list.append(durationMappingKey[i])\n",
    "        \n",
    "    return duration_list"
   ]
  },
  {
   "cell_type": "code",
   "execution_count": 33,
   "id": "34f23a56",
   "metadata": {},
   "outputs": [],
   "source": [
    "def notes(freqDurations: list, clusterIDs: list, duration_list: list):\n",
    "    #return list of notes\n",
    "    #normFreqs = music21.audioSearch.detectPitchFrequencies([freq[0] for freq in freqDurs])\n",
    "    notes = []\n",
    "    for freqIndex in range(len(freqDurations)):\n",
    "        print(freqDurations[freqIndex][0])\n",
    "        p = pitch.Pitch()\n",
    "        p.frequency = freqDurations[freqIndex][0]\n",
    "        n = note.Note(pitchName = p.name)\n",
    "        d = duration.Duration()\n",
    "        print(duration_list[clusterIDs[freqIndex]])\n",
    "        d.quarterLength = duration_list[clusterIDs[freqIndex]]\n",
    "        n.duration = d\n",
    "        \n",
    "        notes.append(n)\n",
    "#     print(normFreqs)\n",
    "    print(notes)\n",
    "    return notes"
   ]
  },
  {
   "cell_type": "code",
   "execution_count": 38,
   "id": "f8a214fd",
   "metadata": {},
   "outputs": [],
   "source": [
    "def streamNotes(notes: list):\n",
    "    s = stream.Stream()\n",
    "    for n in notes:\n",
    "        s.append(n)\n",
    "#     mf = midi.translate.streamToMidiFile(s)\n",
    "    s.show()\n",
    "    sp = midi.realtime.StreamPlayer(s, playForMilliseconds = 5000)\n",
    "    sp.play()\n",
    "#     return mf"
   ]
  },
  {
   "cell_type": "code",
   "execution_count": 23,
   "id": "d4cb7f93",
   "metadata": {},
   "outputs": [],
   "source": [
    "def sheetMusic(peak_dict: dict, num_clusters: int):\n",
    "    print(peak_dict)\n",
    "    freqDurs = convert(peak_dict)\n",
    "    print(freqDurs)\n",
    "    \n",
    "    clusterIDs, num_clusters = groupDuration(freqDurs, num_clusters = num_clusters, max_duration_num = 5)\n",
    "    \n",
    "    duration_list = durations(num_clusters)\n",
    "    \n",
    "    notesList = notes(freqDurs, clusterIDs, duration_list)\n",
    "    streamNotes(notesList)"
   ]
  },
  {
   "cell_type": "code",
   "execution_count": 15,
   "id": "4bb26279",
   "metadata": {},
   "outputs": [],
   "source": [
    "def find_min_amp(maxamps, amp_threshold):\n",
    "    ind = round(len(maxamps) * amp_threshold)\n",
    "    cutoff_log_amplitude = np.partition(maxamps, ind)[ind]\n",
    "    return cutoff_log_amplitude"
   ]
  },
  {
   "cell_type": "code",
   "execution_count": 69,
   "id": "382e807d",
   "metadata": {},
   "outputs": [
    {
     "name": "stdout",
     "output_type": "stream",
     "text": [
      "u for Upload, r for Record: u\n",
      "Enter path to file: C:\\Users\\ejian\\CogWorks-2022-Gausslien-Audio-Capstone\\Songs2\\Twinkle-twinkle-little-star-piano.mp3\n"
     ]
    },
    {
     "name": "stderr",
     "output_type": "stream",
     "text": [
      "C:\\Users\\ejian\\anaconda3\\envs\\week1\\lib\\site-packages\\librosa\\util\\decorators.py:88: UserWarning: PySoundFile failed. Trying audioread instead.\n",
      "  return f(*args, **kwargs)\n"
     ]
    },
    {
     "name": "stdout",
     "output_type": "stream",
     "text": [
      "{0: [527.5634765625], 1: [527.5634765625], 2: [527.5634765625], 3: [527.5634765625], 4: [527.5634765625], 5: [527.5634765625], 6: [527.5634765625], 7: [527.5634765625], 8: [527.5634765625], 9: [527.5634765625], 10: [527.5634765625], 11: [527.5634765625], 12: [516.796875], 13: [527.5634765625], 14: [527.5634765625], 15: [527.5634765625], 16: [527.5634765625], 17: [527.5634765625], 18: [527.5634765625], 19: [527.5634765625], 20: [527.5634765625], 21: [527.5634765625], 22: [527.5634765625], 23: [527.5634765625], 24: [527.5634765625], 25: [527.5634765625], 26: [527.5634765625], 27: [527.5634765625], 28: [527.5634765625], 29: [0.0], 30: [785.9619140625], 31: [785.9619140625], 32: [785.9619140625], 33: [785.9619140625], 34: [785.9619140625], 35: [785.9619140625], 36: [785.9619140625], 37: [785.9619140625], 38: [785.9619140625], 39: [785.9619140625], 40: [0.0], 41: [0.0], 42: [0.0], 43: [785.9619140625], 44: [0.0], 45: [785.9619140625], 46: [785.9619140625], 47: [785.9619140625], 48: [785.9619140625], 49: [785.9619140625], 50: [785.9619140625], 51: [0.0], 52: [796.728515625], 53: [785.9619140625], 54: [785.9619140625], 55: [785.9619140625], 56: [785.9619140625], 57: [785.9619140625], 58: [785.9619140625], 59: [0.0], 60: [882.861328125], 61: [882.861328125], 62: [882.861328125], 63: [882.861328125], 64: [882.861328125], 65: [882.861328125], 66: [882.861328125], 67: [882.861328125], 68: [882.861328125], 69: [882.861328125], 70: [882.861328125], 71: [882.861328125], 72: [882.861328125], 73: [882.861328125], 74: [872.0947265625], 75: [882.861328125], 76: [882.861328125], 77: [882.861328125], 78: [882.861328125], 79: [882.861328125], 80: [882.861328125], 81: [882.861328125], 82: [882.861328125], 83: [882.861328125], 84: [882.861328125], 85: [882.861328125], 86: [882.861328125], 87: [882.861328125], 88: [785.9619140625], 89: [796.728515625], 90: [785.9619140625], 91: [785.9619140625], 92: [785.9619140625], 93: [785.9619140625], 94: [785.9619140625], 95: [785.9619140625], 96: [785.9619140625], 97: [785.9619140625], 98: [785.9619140625], 99: [785.9619140625], 100: [785.9619140625], 101: [785.9619140625], 102: [785.9619140625], 103: [796.728515625], 104: [0.0], 105: [0.0], 106: [0.0], 107: [0.0], 108: [0.0], 109: [0.0], 110: [0.0], 111: [785.9619140625], 112: [785.9619140625], 113: [785.9619140625], 114: [785.9619140625], 115: [785.9619140625], 116: [785.9619140625], 117: [0.0], 118: [0.0], 119: [699.8291015625], 120: [699.8291015625], 121: [699.8291015625], 122: [699.8291015625], 123: [699.8291015625], 124: [699.8291015625], 125: [699.8291015625], 126: [699.8291015625], 127: [699.8291015625], 128: [699.8291015625], 129: [699.8291015625], 130: [0.0], 131: [0.0], 132: [0.0], 133: [699.8291015625], 134: [699.8291015625], 135: [699.8291015625], 136: [699.8291015625], 137: [699.8291015625], 138: [699.8291015625], 139: [699.8291015625], 140: [699.8291015625], 141: [699.8291015625], 142: [699.8291015625], 143: [699.8291015625], 144: [699.8291015625], 145: [699.8291015625], 146: [699.8291015625], 147: [699.8291015625], 148: [699.8291015625], 149: [667.529296875], 150: [656.7626953125], 151: [656.7626953125], 152: [656.7626953125], 153: [656.7626953125], 154: [656.7626953125], 155: [656.7626953125], 156: [656.7626953125], 157: [656.7626953125], 158: [656.7626953125], 159: [656.7626953125], 160: [656.7626953125], 161: [656.7626953125], 162: [656.7626953125], 163: [656.7626953125], 164: [656.7626953125], 165: [656.7626953125], 166: [656.7626953125], 167: [656.7626953125], 168: [656.7626953125], 169: [656.7626953125], 170: [656.7626953125], 171: [656.7626953125], 172: [656.7626953125], 173: [656.7626953125], 174: [656.7626953125], 175: [656.7626953125], 176: [656.7626953125], 177: [667.529296875], 178: [602.9296875], 179: [592.1630859375], 180: [592.1630859375], 181: [592.1630859375], 182: [592.1630859375], 183: [592.1630859375], 184: [592.1630859375], 185: [592.1630859375], 186: [592.1630859375], 187: [592.1630859375], 188: [592.1630859375], 189: [592.1630859375], 190: [592.1630859375], 191: [592.1630859375], 192: [592.1630859375], 193: [592.1630859375], 194: [592.1630859375], 195: [592.1630859375], 196: [592.1630859375], 197: [592.1630859375], 198: [581.396484375], 199: [592.1630859375], 200: [592.1630859375], 201: [592.1630859375], 202: [592.1630859375], 203: [592.1630859375], 204: [592.1630859375], 205: [592.1630859375], 206: [581.396484375], 207: [581.396484375], 208: [592.1630859375], 209: [527.5634765625], 210: [527.5634765625], 211: [527.5634765625], 212: [527.5634765625], 213: [527.5634765625], 214: [527.5634765625], 215: [527.5634765625], 216: [527.5634765625], 217: [527.5634765625], 218: [527.5634765625], 219: [527.5634765625], 220: [527.5634765625], 221: [527.5634765625], 222: [527.5634765625], 223: [527.5634765625], 224: [0.0], 225: [527.5634765625], 226: [527.5634765625], 227: [527.5634765625], 228: [527.5634765625], 229: [527.5634765625], 230: [516.796875], 231: [527.5634765625], 232: [0.0], 233: [0.0], 234: [0.0], 235: [0.0], 236: [0.0], 237: [0.0], 238: [796.728515625], 239: [785.9619140625], 240: [785.9619140625], 241: [785.9619140625], 242: [785.9619140625], 243: [785.9619140625], 244: [785.9619140625], 245: [785.9619140625], 246: [785.9619140625], 247: [0.0], 248: [0.0], 249: [785.9619140625], 250: [785.9619140625], 251: [785.9619140625], 252: [0.0], 253: [785.9619140625], 254: [785.9619140625], 255: [785.9619140625], 256: [785.9619140625], 257: [785.9619140625], 258: [785.9619140625], 259: [785.9619140625], 260: [0.0], 261: [785.9619140625], 262: [785.9619140625], 263: [785.9619140625], 264: [785.9619140625], 265: [785.9619140625], 266: [785.9619140625], 267: [785.9619140625], 268: [699.8291015625], 269: [699.8291015625], 270: [699.8291015625], 271: [699.8291015625], 272: [699.8291015625], 273: [699.8291015625], 274: [699.8291015625], 275: [699.8291015625], 276: [699.8291015625], 277: [699.8291015625], 278: [699.8291015625], 279: [699.8291015625], 280: [699.8291015625], 281: [710.595703125], 282: [699.8291015625], 283: [699.8291015625], 284: [699.8291015625], 285: [699.8291015625], 286: [699.8291015625], 287: [699.8291015625], 288: [699.8291015625], 289: [699.8291015625], 290: [699.8291015625], 291: [699.8291015625], 292: [699.8291015625], 293: [699.8291015625], 294: [699.8291015625], 295: [699.8291015625], 296: [699.8291015625], 297: [667.529296875], 298: [656.7626953125], 299: [656.7626953125], 300: [656.7626953125], 301: [656.7626953125], 302: [656.7626953125], 303: [656.7626953125], 304: [656.7626953125], 305: [656.7626953125], 306: [656.7626953125], 307: [656.7626953125], 308: [656.7626953125], 309: [656.7626953125], 310: [656.7626953125], 311: [656.7626953125], 312: [667.529296875], 313: [656.7626953125], 314: [656.7626953125], 315: [656.7626953125], 316: [656.7626953125], 317: [656.7626953125], 318: [656.7626953125], 319: [656.7626953125], 320: [656.7626953125], 321: [667.529296875], 322: [656.7626953125], 323: [656.7626953125], 324: [656.7626953125], 325: [656.7626953125], 326: [656.7626953125], 327: [581.396484375], 328: [592.1630859375], 329: [592.1630859375], 330: [592.1630859375], 331: [592.1630859375], 332: [592.1630859375], 333: [592.1630859375], 334: [592.1630859375], 335: [581.396484375], 336: [581.396484375], 337: [581.396484375], 338: [592.1630859375], 339: [592.1630859375], 340: [592.1630859375], 341: [592.1630859375], 342: [592.1630859375], 343: [592.1630859375], 344: [592.1630859375], 345: [0.0], 346: [0.0], 347: [0.0], 348: [0.0], 349: [592.1630859375], 350: [592.1630859375], 351: [592.1630859375], 352: [592.1630859375], 353: [592.1630859375], 354: [581.396484375], 355: [592.1630859375], 356: [592.1630859375], 357: [785.9619140625], 358: [785.9619140625], 359: [785.9619140625], 360: [785.9619140625], 361: [785.9619140625], 362: [785.9619140625], 363: [785.9619140625], 364: [0.0], 365: [785.9619140625], 366: [785.9619140625], 367: [785.9619140625], 368: [785.9619140625], 369: [785.9619140625], 370: [785.9619140625], 371: [785.9619140625], 372: [785.9619140625], 373: [785.9619140625], 374: [785.9619140625], 375: [785.9619140625], 376: [785.9619140625], 377: [785.9619140625], 378: [785.9619140625], 379: [785.9619140625], 380: [785.9619140625], 381: [796.728515625], 382: [785.9619140625], 383: [785.9619140625], 384: [785.9619140625], 385: [785.9619140625], 386: [699.8291015625], 387: [699.8291015625], 388: [699.8291015625], 389: [699.8291015625], 390: [699.8291015625], 391: [699.8291015625], 392: [699.8291015625], 393: [699.8291015625], 394: [699.8291015625], 395: [699.8291015625], 396: [699.8291015625], 397: [699.8291015625], 398: [699.8291015625], 399: [785.9619140625], 400: [785.9619140625], 401: [710.595703125], 402: [699.8291015625], 403: [699.8291015625], 404: [699.8291015625], 405: [699.8291015625], 406: [699.8291015625], 407: [699.8291015625], 408: [699.8291015625], 409: [699.8291015625], 410: [699.8291015625], 411: [699.8291015625], 412: [699.8291015625], 413: [699.8291015625], 414: [0.0], 415: [0.0], 416: [667.529296875], 417: [656.7626953125], 418: [656.7626953125], 419: [656.7626953125], 420: [656.7626953125], 421: [656.7626953125]}\n",
      "[[527.5634765625, 0, 27, 29], [785.9619140625, 30, 38, 10], [785.9619140625, 43, 43, 1], [785.9619140625, 45, 49, 6], [785.9619140625, 52, 57, 7], [882.861328125, 60, 86, 28], [785.9619140625, 88, 102, 16], [785.9619140625, 111, 115, 6], [699.8291015625, 119, 128, 11], [656.7626953125, 133, 176, 45], [581.396484375, 178, 207, 31], [527.5634765625, 209, 222, 15], [516.796875, 225, 230, 7], [785.9619140625, 238, 245, 9], [785.9619140625, 249, 250, 3], [785.9619140625, 253, 258, 7], [785.9619140625, 261, 266, 7], [656.7626953125, 268, 325, 59], [592.1630859375, 327, 343, 18], [592.1630859375, 349, 355, 8], [785.9619140625, 357, 362, 7], [785.9619140625, 365, 384, 21], [699.8291015625, 386, 397, 13], [785.9619140625, 399, 399, 2], [699.8291015625, 401, 412, 13], [656.7626953125, 416, 420, 6]]\n",
      "527.5634765625\n",
      "1\n",
      "[]\n",
      "785.9619140625\n",
      "1\n",
      "[<music21.note.Note C>]\n",
      "785.9619140625\n",
      "1\n",
      "[<music21.note.Note C>, <music21.note.Note G>]\n",
      "785.9619140625\n",
      "1\n",
      "[<music21.note.Note C>, <music21.note.Note G>, <music21.note.Note G>]\n",
      "785.9619140625\n",
      "1\n",
      "[<music21.note.Note C>, <music21.note.Note G>, <music21.note.Note G>, <music21.note.Note G>]\n",
      "882.861328125\n",
      "1\n",
      "[<music21.note.Note C>, <music21.note.Note G>, <music21.note.Note G>, <music21.note.Note G>, <music21.note.Note G>]\n",
      "785.9619140625\n",
      "1\n",
      "[<music21.note.Note C>, <music21.note.Note G>, <music21.note.Note G>, <music21.note.Note G>, <music21.note.Note G>, <music21.note.Note A>]\n",
      "785.9619140625\n",
      "1\n",
      "[<music21.note.Note C>, <music21.note.Note G>, <music21.note.Note G>, <music21.note.Note G>, <music21.note.Note G>, <music21.note.Note A>, <music21.note.Note G>]\n",
      "699.8291015625\n",
      "1\n",
      "[<music21.note.Note C>, <music21.note.Note G>, <music21.note.Note G>, <music21.note.Note G>, <music21.note.Note G>, <music21.note.Note A>, <music21.note.Note G>, <music21.note.Note G>]\n",
      "656.7626953125\n",
      "1\n",
      "[<music21.note.Note C>, <music21.note.Note G>, <music21.note.Note G>, <music21.note.Note G>, <music21.note.Note G>, <music21.note.Note A>, <music21.note.Note G>, <music21.note.Note G>, <music21.note.Note F>]\n",
      "581.396484375\n",
      "1\n",
      "[<music21.note.Note C>, <music21.note.Note G>, <music21.note.Note G>, <music21.note.Note G>, <music21.note.Note G>, <music21.note.Note A>, <music21.note.Note G>, <music21.note.Note G>, <music21.note.Note F>, <music21.note.Note E>]\n",
      "527.5634765625\n",
      "1\n",
      "[<music21.note.Note C>, <music21.note.Note G>, <music21.note.Note G>, <music21.note.Note G>, <music21.note.Note G>, <music21.note.Note A>, <music21.note.Note G>, <music21.note.Note G>, <music21.note.Note F>, <music21.note.Note E>, <music21.note.Note D>]\n",
      "516.796875\n",
      "1\n",
      "[<music21.note.Note C>, <music21.note.Note G>, <music21.note.Note G>, <music21.note.Note G>, <music21.note.Note G>, <music21.note.Note A>, <music21.note.Note G>, <music21.note.Note G>, <music21.note.Note F>, <music21.note.Note E>, <music21.note.Note D>, <music21.note.Note C>]\n",
      "785.9619140625\n",
      "1\n",
      "[<music21.note.Note C>, <music21.note.Note G>, <music21.note.Note G>, <music21.note.Note G>, <music21.note.Note G>, <music21.note.Note A>, <music21.note.Note G>, <music21.note.Note G>, <music21.note.Note F>, <music21.note.Note E>, <music21.note.Note D>, <music21.note.Note C>, <music21.note.Note C>]\n",
      "785.9619140625\n",
      "1\n",
      "[<music21.note.Note C>, <music21.note.Note G>, <music21.note.Note G>, <music21.note.Note G>, <music21.note.Note G>, <music21.note.Note A>, <music21.note.Note G>, <music21.note.Note G>, <music21.note.Note F>, <music21.note.Note E>, <music21.note.Note D>, <music21.note.Note C>, <music21.note.Note C>, <music21.note.Note G>]\n",
      "785.9619140625\n",
      "1\n",
      "[<music21.note.Note C>, <music21.note.Note G>, <music21.note.Note G>, <music21.note.Note G>, <music21.note.Note G>, <music21.note.Note A>, <music21.note.Note G>, <music21.note.Note G>, <music21.note.Note F>, <music21.note.Note E>, <music21.note.Note D>, <music21.note.Note C>, <music21.note.Note C>, <music21.note.Note G>, <music21.note.Note G>]\n",
      "785.9619140625\n",
      "1\n",
      "[<music21.note.Note C>, <music21.note.Note G>, <music21.note.Note G>, <music21.note.Note G>, <music21.note.Note G>, <music21.note.Note A>, <music21.note.Note G>, <music21.note.Note G>, <music21.note.Note F>, <music21.note.Note E>, <music21.note.Note D>, <music21.note.Note C>, <music21.note.Note C>, <music21.note.Note G>, <music21.note.Note G>, <music21.note.Note G>]\n",
      "656.7626953125\n",
      "1\n",
      "[<music21.note.Note C>, <music21.note.Note G>, <music21.note.Note G>, <music21.note.Note G>, <music21.note.Note G>, <music21.note.Note A>, <music21.note.Note G>, <music21.note.Note G>, <music21.note.Note F>, <music21.note.Note E>, <music21.note.Note D>, <music21.note.Note C>, <music21.note.Note C>, <music21.note.Note G>, <music21.note.Note G>, <music21.note.Note G>, <music21.note.Note G>]\n",
      "592.1630859375\n",
      "1\n",
      "[<music21.note.Note C>, <music21.note.Note G>, <music21.note.Note G>, <music21.note.Note G>, <music21.note.Note G>, <music21.note.Note A>, <music21.note.Note G>, <music21.note.Note G>, <music21.note.Note F>, <music21.note.Note E>, <music21.note.Note D>, <music21.note.Note C>, <music21.note.Note C>, <music21.note.Note G>, <music21.note.Note G>, <music21.note.Note G>, <music21.note.Note G>, <music21.note.Note E>]\n",
      "592.1630859375\n",
      "1\n",
      "[<music21.note.Note C>, <music21.note.Note G>, <music21.note.Note G>, <music21.note.Note G>, <music21.note.Note G>, <music21.note.Note A>, <music21.note.Note G>, <music21.note.Note G>, <music21.note.Note F>, <music21.note.Note E>, <music21.note.Note D>, <music21.note.Note C>, <music21.note.Note C>, <music21.note.Note G>, <music21.note.Note G>, <music21.note.Note G>, <music21.note.Note G>, <music21.note.Note E>, <music21.note.Note D>]\n",
      "785.9619140625\n",
      "1\n",
      "[<music21.note.Note C>, <music21.note.Note G>, <music21.note.Note G>, <music21.note.Note G>, <music21.note.Note G>, <music21.note.Note A>, <music21.note.Note G>, <music21.note.Note G>, <music21.note.Note F>, <music21.note.Note E>, <music21.note.Note D>, <music21.note.Note C>, <music21.note.Note C>, <music21.note.Note G>, <music21.note.Note G>, <music21.note.Note G>, <music21.note.Note G>, <music21.note.Note E>, <music21.note.Note D>, <music21.note.Note D>]\n",
      "785.9619140625\n",
      "1\n",
      "[<music21.note.Note C>, <music21.note.Note G>, <music21.note.Note G>, <music21.note.Note G>, <music21.note.Note G>, <music21.note.Note A>, <music21.note.Note G>, <music21.note.Note G>, <music21.note.Note F>, <music21.note.Note E>, <music21.note.Note D>, <music21.note.Note C>, <music21.note.Note C>, <music21.note.Note G>, <music21.note.Note G>, <music21.note.Note G>, <music21.note.Note G>, <music21.note.Note E>, <music21.note.Note D>, <music21.note.Note D>, <music21.note.Note G>]\n",
      "699.8291015625\n",
      "1\n",
      "[<music21.note.Note C>, <music21.note.Note G>, <music21.note.Note G>, <music21.note.Note G>, <music21.note.Note G>, <music21.note.Note A>, <music21.note.Note G>, <music21.note.Note G>, <music21.note.Note F>, <music21.note.Note E>, <music21.note.Note D>, <music21.note.Note C>, <music21.note.Note C>, <music21.note.Note G>, <music21.note.Note G>, <music21.note.Note G>, <music21.note.Note G>, <music21.note.Note E>, <music21.note.Note D>, <music21.note.Note D>, <music21.note.Note G>, <music21.note.Note G>]\n",
      "785.9619140625\n",
      "1\n",
      "[<music21.note.Note C>, <music21.note.Note G>, <music21.note.Note G>, <music21.note.Note G>, <music21.note.Note G>, <music21.note.Note A>, <music21.note.Note G>, <music21.note.Note G>, <music21.note.Note F>, <music21.note.Note E>, <music21.note.Note D>, <music21.note.Note C>, <music21.note.Note C>, <music21.note.Note G>, <music21.note.Note G>, <music21.note.Note G>, <music21.note.Note G>, <music21.note.Note E>, <music21.note.Note D>, <music21.note.Note D>, <music21.note.Note G>, <music21.note.Note G>, <music21.note.Note F>]\n",
      "699.8291015625\n",
      "1\n",
      "[<music21.note.Note C>, <music21.note.Note G>, <music21.note.Note G>, <music21.note.Note G>, <music21.note.Note G>, <music21.note.Note A>, <music21.note.Note G>, <music21.note.Note G>, <music21.note.Note F>, <music21.note.Note E>, <music21.note.Note D>, <music21.note.Note C>, <music21.note.Note C>, <music21.note.Note G>, <music21.note.Note G>, <music21.note.Note G>, <music21.note.Note G>, <music21.note.Note E>, <music21.note.Note D>, <music21.note.Note D>, <music21.note.Note G>, <music21.note.Note G>, <music21.note.Note F>, <music21.note.Note G>]\n",
      "656.7626953125\n",
      "1\n",
      "[<music21.note.Note C>, <music21.note.Note G>, <music21.note.Note G>, <music21.note.Note G>, <music21.note.Note G>, <music21.note.Note A>, <music21.note.Note G>, <music21.note.Note G>, <music21.note.Note F>, <music21.note.Note E>, <music21.note.Note D>, <music21.note.Note C>, <music21.note.Note C>, <music21.note.Note G>, <music21.note.Note G>, <music21.note.Note G>, <music21.note.Note G>, <music21.note.Note E>, <music21.note.Note D>, <music21.note.Note D>, <music21.note.Note G>, <music21.note.Note G>, <music21.note.Note F>, <music21.note.Note G>, <music21.note.Note F>]\n",
      "[<music21.note.Note C>, <music21.note.Note G>, <music21.note.Note G>, <music21.note.Note G>, <music21.note.Note G>, <music21.note.Note A>, <music21.note.Note G>, <music21.note.Note G>, <music21.note.Note F>, <music21.note.Note E>, <music21.note.Note D>, <music21.note.Note C>, <music21.note.Note C>, <music21.note.Note G>, <music21.note.Note G>, <music21.note.Note G>, <music21.note.Note G>, <music21.note.Note E>, <music21.note.Note D>, <music21.note.Note D>, <music21.note.Note G>, <music21.note.Note G>, <music21.note.Note F>, <music21.note.Note G>, <music21.note.Note F>, <music21.note.Note E>]\n"
     ]
    },
    {
     "name": "stderr",
     "output_type": "stream",
     "text": [
      "C:\\Users\\ejian\\anaconda3\\envs\\week1\\lib\\site-packages\\sklearn\\cluster\\_kmeans.py:1332: UserWarning: KMeans is known to have a memory leak on Windows with MKL, when there are less chunks than available threads. You can avoid it by setting the environment variable OMP_NUM_THREADS=1.\n",
      "  warnings.warn(\n",
      "C:\\Users\\ejian\\anaconda3\\envs\\week1\\lib\\site-packages\\sklearn\\cluster\\_kmeans.py:1332: UserWarning: KMeans is known to have a memory leak on Windows with MKL, when there are less chunks than available threads. You can avoid it by setting the environment variable OMP_NUM_THREADS=1.\n",
      "  warnings.warn(\n"
     ]
    },
    {
     "data": {
      "image/png": "[encoded data removed]",
      "text/plain": [
       "<IPython.core.display.Image object>"
      ]
     },
     "metadata": {
      "image/png": {
       "height": 49,
       "width": 674
      }
     },
     "output_type": "display_data"
    }
   ],
   "source": [
    "#music, sampling_rate = pureTone(261.63)\n",
    "music, sampling_rate = userinput()\n",
    "spec, freq, time = getspec(music, sampling_rate)\n",
    "\n",
    "maxamps = np.log(np.max(spec,axis=0))\n",
    "maxfreqs = np.argmax(spec, axis=0)\n",
    "maxfreqs = freq[maxfreqs]\n",
    "#print(maxfreqs)\n",
    "thresh = find_min_amp(maxamps,0.1)\n",
    "comps = maxamps>thresh\n",
    "zeroedfreqs = np.trim_zeros(comps*maxfreqs)\n",
    "\n",
    "timefreq = [(i,[j]) for i,j in enumerate(zeroedfreqs)]\n",
    "timefreq = dict(timefreq)\n",
    "\n",
    "sheetMusic(timefreq, num_clusters = 1)"
   ]
  }
 ],
 "metadata": {
  "kernelspec": {
   "display_name": "Python 3 (ipykernel)",
   "language": "python",
   "name": "python3"
  },
  "language_info": {
   "codemirror_mode": {
    "name": "ipython",
    "version": 3
   },
   "file_extension": ".py",
   "mimetype": "text/x-python",
   "name": "python",
   "nbconvert_exporter": "python",
   "pygments_lexer": "ipython3",
   "version": "3.8.13"
  }
 },
 "nbformat": 4,
 "nbformat_minor": 5
}

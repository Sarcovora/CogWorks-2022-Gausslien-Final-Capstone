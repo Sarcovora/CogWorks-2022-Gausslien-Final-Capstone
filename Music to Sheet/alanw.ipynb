{
 "cells": [
  {
   "cell_type": "code",
   "execution_count": 204,
   "id": "f0baee49",
   "metadata": {},
   "outputs": [],
   "source": [
    "%matplotlib notebook"
   ]
  },
  {
   "cell_type": "code",
   "execution_count": 205,
   "id": "b87a1666",
   "metadata": {},
   "outputs": [],
   "source": [
    "from microphone import record_audio\n",
    "import matplotlib.pyplot as plt\n",
    "import matplotlib.mlab as mlab\n",
    "from IPython.display import Audio\n",
    "import librosa\n",
    "\n",
    "from numba import njit\n",
    "import numpy as np\n",
    "import pickle\n",
    "import time\n",
    "\n",
    "from music21 import *\n",
    "import pygame as pg\n",
    "\n",
    "from sklearn.cluster import KMeans"
   ]
  },
  {
   "cell_type": "code",
   "execution_count": 206,
   "id": "1051317d",
   "metadata": {},
   "outputs": [],
   "source": [
    "us = environment.UserSettings()\n",
    "us.getSettingsPath()\n",
    "environment.set('musescoreDirectPNGPath', \"/usr/bin/musescore\")"
   ]
  },
  {
   "cell_type": "markdown",
   "id": "590b2fe7",
   "metadata": {},
   "source": [
    "Getting User Input"
   ]
  },
  {
   "cell_type": "code",
   "execution_count": 313,
   "id": "b36c7a35",
   "metadata": {},
   "outputs": [],
   "source": [
    "def micRecord(time=10):\n",
    "    frames, rate = record_audio(time)\n",
    "    return np.hstack([np.frombuffer(i, np.int16) for i in frames]), rate\n",
    "def getFile(path):\n",
    "    recorded_audio, sampling_rate = librosa.load(path, \n",
    "                                                 sr=44100, \n",
    "                                                 mono=True,\n",
    "                                                duration=30)\n",
    "    return recorded_audio, sampling_rate\n",
    "def pressure(times, *, amp, freq):\n",
    "    return amp * np.sin(2 * np.pi * freq * times)\n",
    "def pureTone(freq, amp=0.06, dur=3, rate=44100):\n",
    "    n_samples = int(dur * rate) + 1\n",
    "    times = np.arange(n_samples) / rate  # seconds\n",
    "    return pressure(times, amp=amp, freq=freq), rate  # Pascals"
   ]
  },
  {
   "cell_type": "code",
   "execution_count": 208,
   "id": "f71ec018",
   "metadata": {},
   "outputs": [],
   "source": [
    "def userinput():\n",
    "    while True:\n",
    "        audioType = input(\"u for Upload, r for Record: \")\n",
    "        if audioType == 'u':\n",
    "            path = input(\"Enter path to file: \")\n",
    "            samples, rate = getFile(path)\n",
    "            break\n",
    "        elif audioType == 'r':\n",
    "            samples, rate = micRecord()\n",
    "            break\n",
    "        print(\"Invalid input. Try again.\")\n",
    "    # print(rate)\n",
    "    \n",
    "    return samples, rate"
   ]
  },
  {
   "cell_type": "markdown",
   "id": "bcd2cc54",
   "metadata": {},
   "source": [
    "Processing"
   ]
  },
  {
   "cell_type": "code",
   "execution_count": 209,
   "id": "24a03ad9",
   "metadata": {},
   "outputs": [],
   "source": [
    "def getspec(samples, rate):\n",
    "    spectrogram, freqs, times = mlab.specgram(\n",
    "\t\tsamples,\n",
    "\t\tNFFT=4096,\n",
    "\t\tFs=rate,\n",
    "\t\twindow=mlab.window_hanning,\n",
    "\t\tnoverlap=int(4096 / 2)\n",
    "\t)\n",
    "    return spectrogram, freqs, times"
   ]
  },
  {
   "cell_type": "code",
   "execution_count": 210,
   "id": "a966cd21",
   "metadata": {},
   "outputs": [],
   "source": [
    "def distinctFreqs(freq1, freq2, a=1.059):\n",
    "    larger_freq = max(freq1, freq2)\n",
    "    smaller_freq = min(freq1, freq2)\n",
    "    if smaller_freq == 0:\n",
    "        smaller_freq = 1e-100\n",
    "    if larger_freq/smaller_freq >= a:\n",
    "        return True\n",
    "    else:\n",
    "        return False"
   ]
  },
  {
   "cell_type": "code",
   "execution_count": 311,
   "id": "bce00b01",
   "metadata": {},
   "outputs": [],
   "source": [
    "def convert(freqTimes):\n",
    "    #returns a list of lists [freq, start, last seen instance, duration]\n",
    "    freqDurations = []\n",
    "    \n",
    "    freqTimes = list(freqTimes.values())\n",
    "    freqTimes.append(0)\n",
    "    # key and value for the original dictionary\n",
    "    time=0\n",
    "    curlength = 0\n",
    "    curnote = 0\n",
    "    \n",
    "    concat = True\n",
    "    while time<len(freqTimes):\n",
    "        if distinctFreqs(freqTimes[time], curnote):\n",
    "            if curnote!=0 and curlength>2:\n",
    "                #if concat:\n",
    "                freqDurations.append([curnote, time-curlength, curlength])\n",
    "                #else:\n",
    "                #    freqDurations[-1][2]+=curlength\n",
    "                #    concat=True\n",
    "                curlength = 0\n",
    "                curnote = freqTimes[time]\n",
    "            elif curnote==0 and curlength>2:\n",
    "                curlength = 0\n",
    "                curnote = freqTimes[time]\n",
    "            elif not distinctFreqs(freqTimes[time], freqDurations[-1][0]):\n",
    "                concat = False\n",
    "                curnote = freqDurations[-1][0]\n",
    "            else:\n",
    "                curlength = 0\n",
    "                curnote = freqTimes[time]\n",
    "        else:\n",
    "            curlength+=1\n",
    "        time+=1\n",
    "    return freqDurations"
   ]
  },
  {
   "cell_type": "code",
   "execution_count": 212,
   "id": "6604fad2",
   "metadata": {},
   "outputs": [],
   "source": [
    "def durations(num_clusters):\n",
    "    #returns list of durations\n",
    "    quarter_index = int(num_clusters/2)\n",
    "    \n",
    "    durationMappingKey = [0.166, 0.5, 1, 2, 4]\n",
    "    \n",
    "    duration_list = []\n",
    "    start = 2 - quarter_index\n",
    "    for i in range(start, start + num_clusters):\n",
    "        duration_list.append(durationMappingKey[i])\n",
    "        return duration_list"
   ]
  },
  {
   "cell_type": "code",
   "execution_count": 344,
   "id": "34f23a56",
   "metadata": {},
   "outputs": [],
   "source": [
    "conversions = {\n",
    "    pitch.Accidental(\"sharp\"):pitch.Accidental(\"sharp\"),\n",
    "    pitch.Accidental(\"half-sharp\"):None,\n",
    "    pitch.Accidental(\"one-and-a-half-sharp\"):pitch.Accidental(\"sharp\"),\n",
    "    None: None\n",
    "}\n",
    "\n",
    "def notes(freqDurations, bpm, timestep):\n",
    "    #return list of notes\n",
    "    #normFreqs = music21.audioSearch.detectPitchFrequencies([freq[0] for freq in freqDurs])\n",
    "    notes = []\n",
    "    duration_list = np.array([0.166, 0.5, 1, 2, 4])\n",
    "    quarterlength = 60/bpm\n",
    "    absdurs = duration_list * quarterlength\n",
    "    \n",
    "    for freqIndex in range(len(freqDurations)):\n",
    "        p = pitch.Pitch()\n",
    "        p.frequency = freqDurations[freqIndex][0]\n",
    "        #if p.accidental==pitch.Accidental()\n",
    "        #    p.accidental=pitch.Accidental('double-flat')\n",
    "        p.accidental = conversions[p.accidental]\n",
    "        n = note.Note(pitchName = p.name)\n",
    "        \n",
    "        d = duration.Duration()\n",
    "        notelength = freqDurations[freqIndex][2] * timestep\n",
    "        closest = np.argmin(np.abs(absdurs - notelength))\n",
    "        d.quarterLength = duration_list[closest]\n",
    "        print(d.quarterLength)\n",
    "        n.duration = d\n",
    "        \n",
    "        notes.append(n)\n",
    "    #print(normFreqs)\n",
    "    return notes"
   ]
  },
  {
   "cell_type": "code",
   "execution_count": 214,
   "id": "f8a214fd",
   "metadata": {},
   "outputs": [],
   "source": [
    "def streamNotes(notes):\n",
    "    s = stream.Stream()\n",
    "    for n in notes:\n",
    "        s.append(n)\n",
    "#     mf = midi.translate.streamToMidiFile(s)\n",
    "    s.show()\n",
    "    #sp = midi.realtime.StreamPlayer(s, playForMilliseconds = 5000)\n",
    "    #sp.play()\n",
    "#     return mf"
   ]
  },
  {
   "cell_type": "code",
   "execution_count": 324,
   "id": "d4cb7f93",
   "metadata": {},
   "outputs": [],
   "source": [
    "def sheetMusic(peak_dict, bpm, timestep):\n",
    "    freqDurs = convert(peak_dict)\n",
    "    print(freqDurs)\n",
    "        \n",
    "    quarterlength = 60/bpm\n",
    "    \n",
    "    notesList = notes(freqDurs, bpm, timestep)\n",
    "    streamNotes(notesList)"
   ]
  },
  {
   "cell_type": "code",
   "execution_count": 216,
   "id": "4bb26279",
   "metadata": {},
   "outputs": [],
   "source": [
    "def find_min_amp(maxamps, amp_threshold):\n",
    "    ind = round(len(maxamps) * amp_threshold)\n",
    "    cutoff_log_amplitude = np.partition(maxamps, ind)[ind]\n",
    "    return cutoff_log_amplitude"
   ]
  },
  {
   "cell_type": "code",
   "execution_count": 346,
   "id": "382e807d",
   "metadata": {},
   "outputs": [
    {
     "name": "stdout",
     "output_type": "stream",
     "text": [
      "u for Upload, r for Record: u\n",
      "Enter path to file: twinkle.mp3\n"
     ]
    },
    {
     "name": "stderr",
     "output_type": "stream",
     "text": [
      "/home/alanxw/miniconda3/envs/week1/lib/python3.8/site-packages/librosa/util/decorators.py:88: UserWarning: PySoundFile failed. Trying audioread instead.\n",
      "  return f(*args, **kwargs)\n"
     ]
    },
    {
     "name": "stdout",
     "output_type": "stream",
     "text": [
      "0.046439909297052155\n",
      "[[527.5634765625, 8, 11], [527.5634765625, 21, 15], [785.9619140625, 38, 9], [785.9619140625, 53, 5], [785.9619140625, 60, 5], [882.861328125, 68, 12], [882.861328125, 82, 13], [796.728515625, 97, 13], [699.8291015625, 127, 10], [699.8291015625, 142, 13], [656.7626953125, 158, 25], [602.9296875, 186, 30], [527.5634765625, 217, 13], [796.728515625, 246, 8], [796.728515625, 256, 3], [796.728515625, 261, 6], [699.8291015625, 276, 12], [699.8291015625, 290, 8], [699.8291015625, 300, 5], [656.7626953125, 306, 28], [581.396484375, 335, 17], [592.1630859375, 361, 3], [785.9619140625, 365, 6], [785.9619140625, 376, 11], [699.8291015625, 394, 12], [699.8291015625, 408, 13], [656.7626953125, 425, 11], [656.7626953125, 438, 15], [592.1630859375, 454, 9], [592.1630859375, 468, 3], [527.5634765625, 484, 28], [785.9619140625, 513, 9], [796.728515625, 528, 9], [882.861328125, 543, 13], [882.861328125, 558, 13], [785.9619140625, 573, 9], [699.8291015625, 602, 12], [699.8291015625, 616, 11], [656.7626953125, 633, 11]]\n",
      "1.0\n",
      "1.0\n",
      "1.0\n",
      "0.5\n",
      "0.5\n",
      "1.0\n",
      "1.0\n",
      "1.0\n",
      "1.0\n",
      "1.0\n",
      "2.0\n",
      "2.0\n",
      "1.0\n",
      "0.5\n",
      "83/500\n",
      "0.5\n",
      "1.0\n",
      "0.5\n",
      "0.5\n",
      "2.0\n",
      "2.0\n",
      "83/500\n",
      "0.5\n",
      "1.0\n",
      "1.0\n",
      "1.0\n",
      "1.0\n",
      "1.0\n",
      "1.0\n",
      "83/500\n",
      "2.0\n",
      "1.0\n",
      "1.0\n",
      "1.0\n",
      "1.0\n",
      "1.0\n",
      "1.0\n",
      "1.0\n",
      "1.0\n"
     ]
    },
    {
     "ename": "MusicXMLExportException",
     "evalue": "In part (None), measure (4): Cannot convert \"2048th\" duration to MusicXML (too short).",
     "output_type": "error",
     "traceback": [
      "\u001b[0;31m---------------------------------------------------------------------------\u001b[0m",
      "\u001b[0;31mMusicXMLExportException\u001b[0m                   Traceback (most recent call last)",
      "Input \u001b[0;32mIn [346]\u001b[0m, in \u001b[0;36m<cell line: 20>\u001b[0;34m()\u001b[0m\n\u001b[1;32m     17\u001b[0m timefreq \u001b[38;5;241m=\u001b[39m [(i,j) \u001b[38;5;28;01mfor\u001b[39;00m i,j \u001b[38;5;129;01min\u001b[39;00m \u001b[38;5;28menumerate\u001b[39m(zeroedfreqs)]\n\u001b[1;32m     18\u001b[0m timefreq \u001b[38;5;241m=\u001b[39m \u001b[38;5;28mdict\u001b[39m(timefreq)\n\u001b[0;32m---> 20\u001b[0m \u001b[43msheetMusic\u001b[49m\u001b[43m(\u001b[49m\u001b[43mtimefreq\u001b[49m\u001b[43m,\u001b[49m\u001b[43m \u001b[49m\u001b[43mbpm\u001b[49m\u001b[43m \u001b[49m\u001b[38;5;241;43m=\u001b[39;49m\u001b[43m \u001b[49m\u001b[38;5;241;43m120\u001b[39;49m\u001b[43m,\u001b[49m\u001b[43m \u001b[49m\u001b[43mtimestep\u001b[49m\u001b[38;5;241;43m=\u001b[39;49m\u001b[43mtimestep\u001b[49m\u001b[43m)\u001b[49m\n",
      "Input \u001b[0;32mIn [324]\u001b[0m, in \u001b[0;36msheetMusic\u001b[0;34m(peak_dict, bpm, timestep)\u001b[0m\n\u001b[1;32m      5\u001b[0m quarterlength \u001b[38;5;241m=\u001b[39m \u001b[38;5;241m60\u001b[39m\u001b[38;5;241m/\u001b[39mbpm\n\u001b[1;32m      7\u001b[0m notesList \u001b[38;5;241m=\u001b[39m notes(freqDurs, bpm, timestep)\n\u001b[0;32m----> 8\u001b[0m \u001b[43mstreamNotes\u001b[49m\u001b[43m(\u001b[49m\u001b[43mnotesList\u001b[49m\u001b[43m)\u001b[49m\n",
      "Input \u001b[0;32mIn [214]\u001b[0m, in \u001b[0;36mstreamNotes\u001b[0;34m(notes)\u001b[0m\n\u001b[1;32m      4\u001b[0m         s\u001b[38;5;241m.\u001b[39mappend(n)\n\u001b[1;32m      5\u001b[0m \u001b[38;5;66;03m#     mf = midi.translate.streamToMidiFile(s)\u001b[39;00m\n\u001b[0;32m----> 6\u001b[0m     \u001b[43ms\u001b[49m\u001b[38;5;241;43m.\u001b[39;49m\u001b[43mshow\u001b[49m\u001b[43m(\u001b[49m\u001b[43m)\u001b[49m\n",
      "File \u001b[0;32m~/miniconda3/envs/week1/lib/python3.8/site-packages/music21/stream/base.py:334\u001b[0m, in \u001b[0;36mStream.show\u001b[0;34m(self, fmt, app, **keywords)\u001b[0m\n\u001b[1;32m    332\u001b[0m \u001b[38;5;28;01mif\u001b[39;00m \u001b[38;5;28mself\u001b[39m\u001b[38;5;241m.\u001b[39misSorted \u001b[38;5;129;01mis\u001b[39;00m \u001b[38;5;28;01mFalse\u001b[39;00m \u001b[38;5;129;01mand\u001b[39;00m \u001b[38;5;28mself\u001b[39m\u001b[38;5;241m.\u001b[39mautoSort:\n\u001b[1;32m    333\u001b[0m     \u001b[38;5;28mself\u001b[39m\u001b[38;5;241m.\u001b[39msort()\n\u001b[0;32m--> 334\u001b[0m \u001b[38;5;28;01mreturn\u001b[39;00m \u001b[38;5;28;43msuper\u001b[39;49m\u001b[43m(\u001b[49m\u001b[43m)\u001b[49m\u001b[38;5;241;43m.\u001b[39;49m\u001b[43mshow\u001b[49m\u001b[43m(\u001b[49m\u001b[43mfmt\u001b[49m\u001b[38;5;241;43m=\u001b[39;49m\u001b[43mfmt\u001b[49m\u001b[43m,\u001b[49m\u001b[43m \u001b[49m\u001b[43mapp\u001b[49m\u001b[38;5;241;43m=\u001b[39;49m\u001b[43mapp\u001b[49m\u001b[43m,\u001b[49m\u001b[43m \u001b[49m\u001b[38;5;241;43m*\u001b[39;49m\u001b[38;5;241;43m*\u001b[39;49m\u001b[43mkeywords\u001b[49m\u001b[43m)\u001b[49m\n",
      "File \u001b[0;32m~/miniconda3/envs/week1/lib/python3.8/site-packages/music21/base.py:2788\u001b[0m, in \u001b[0;36mMusic21Object.show\u001b[0;34m(self, fmt, app, **keywords)\u001b[0m\n\u001b[1;32m   2786\u001b[0m scClass \u001b[38;5;241m=\u001b[39m common\u001b[38;5;241m.\u001b[39mfindSubConverterForFormat(regularizedConverterFormat)\n\u001b[1;32m   2787\u001b[0m formatWriter \u001b[38;5;241m=\u001b[39m scClass()\n\u001b[0;32m-> 2788\u001b[0m \u001b[38;5;28;01mreturn\u001b[39;00m \u001b[43mformatWriter\u001b[49m\u001b[38;5;241;43m.\u001b[39;49m\u001b[43mshow\u001b[49m\u001b[43m(\u001b[49m\u001b[38;5;28;43mself\u001b[39;49m\u001b[43m,\u001b[49m\n\u001b[1;32m   2789\u001b[0m \u001b[43m                         \u001b[49m\u001b[43mregularizedConverterFormat\u001b[49m\u001b[43m,\u001b[49m\n\u001b[1;32m   2790\u001b[0m \u001b[43m                         \u001b[49m\u001b[43mapp\u001b[49m\u001b[38;5;241;43m=\u001b[39;49m\u001b[43mapp\u001b[49m\u001b[43m,\u001b[49m\n\u001b[1;32m   2791\u001b[0m \u001b[43m                         \u001b[49m\u001b[43msubformats\u001b[49m\u001b[38;5;241;43m=\u001b[39;49m\u001b[43msubformats\u001b[49m\u001b[43m,\u001b[49m\n\u001b[1;32m   2792\u001b[0m \u001b[43m                         \u001b[49m\u001b[38;5;241;43m*\u001b[39;49m\u001b[38;5;241;43m*\u001b[39;49m\u001b[43mkeywords\u001b[49m\u001b[43m)\u001b[49m\n",
      "File \u001b[0;32m~/miniconda3/envs/week1/lib/python3.8/site-packages/music21/converter/subConverters.py:378\u001b[0m, in \u001b[0;36mConverterIPython.show\u001b[0;34m(self, obj, fmt, app, subformats, **keywords)\u001b[0m\n\u001b[1;32m    375\u001b[0m     scores \u001b[38;5;241m=\u001b[39m \u001b[38;5;28mlist\u001b[39m(obj\u001b[38;5;241m.\u001b[39mscores)\n\u001b[1;32m    377\u001b[0m \u001b[38;5;28;01mfor\u001b[39;00m s \u001b[38;5;129;01min\u001b[39;00m scores:\n\u001b[0;32m--> 378\u001b[0m     fp \u001b[38;5;241m=\u001b[39m \u001b[43mhelperSubConverter\u001b[49m\u001b[38;5;241;43m.\u001b[39;49m\u001b[43mwrite\u001b[49m\u001b[43m(\u001b[49m\u001b[43ms\u001b[49m\u001b[43m,\u001b[49m\n\u001b[1;32m    379\u001b[0m \u001b[43m                                  \u001b[49m\u001b[43mhelperFormat\u001b[49m\u001b[43m,\u001b[49m\n\u001b[1;32m    380\u001b[0m \u001b[43m                                  \u001b[49m\u001b[43msubformats\u001b[49m\u001b[38;5;241;43m=\u001b[39;49m\u001b[43mhelperSubformats\u001b[49m\u001b[43m,\u001b[49m\n\u001b[1;32m    381\u001b[0m \u001b[43m                                  \u001b[49m\u001b[38;5;241;43m*\u001b[39;49m\u001b[38;5;241;43m*\u001b[39;49m\u001b[43mkeywords\u001b[49m\n\u001b[1;32m    382\u001b[0m \u001b[43m                                  \u001b[49m\u001b[43m)\u001b[49m\n\u001b[1;32m    384\u001b[0m     \u001b[38;5;28;01mif\u001b[39;00m helperSubformats[\u001b[38;5;241m0\u001b[39m] \u001b[38;5;241m==\u001b[39m \u001b[38;5;124m'\u001b[39m\u001b[38;5;124mpng\u001b[39m\u001b[38;5;124m'\u001b[39m:\n\u001b[1;32m    385\u001b[0m         \u001b[38;5;28;01mif\u001b[39;00m \u001b[38;5;129;01mnot\u001b[39;00m \u001b[38;5;28mstr\u001b[39m(environLocal[\u001b[38;5;124m'\u001b[39m\u001b[38;5;124mmusescoreDirectPNGPath\u001b[39m\u001b[38;5;124m'\u001b[39m])\u001b[38;5;241m.\u001b[39mstartswith(\u001b[38;5;124m'\u001b[39m\u001b[38;5;124m/skip\u001b[39m\u001b[38;5;124m'\u001b[39m):\n",
      "File \u001b[0;32m~/miniconda3/envs/week1/lib/python3.8/site-packages/music21/converter/subConverters.py:1074\u001b[0m, in \u001b[0;36mConverterMusicXML.write\u001b[0;34m(self, obj, fmt, fp, subformats, makeNotation, compress, **keywords)\u001b[0m\n\u001b[1;32m   1072\u001b[0m generalExporter \u001b[38;5;241m=\u001b[39m m21ToXml\u001b[38;5;241m.\u001b[39mGeneralObjectExporter(obj)\n\u001b[1;32m   1073\u001b[0m generalExporter\u001b[38;5;241m.\u001b[39mmakeNotation \u001b[38;5;241m=\u001b[39m makeNotation\n\u001b[0;32m-> 1074\u001b[0m dataBytes \u001b[38;5;241m=\u001b[39m \u001b[43mgeneralExporter\u001b[49m\u001b[38;5;241;43m.\u001b[39;49m\u001b[43mparse\u001b[49m\u001b[43m(\u001b[49m\u001b[43m)\u001b[49m\n\u001b[1;32m   1076\u001b[0m writeDataStreamFp \u001b[38;5;241m=\u001b[39m fp\n\u001b[1;32m   1077\u001b[0m \u001b[38;5;28;01mif\u001b[39;00m fp \u001b[38;5;129;01mis\u001b[39;00m \u001b[38;5;129;01mnot\u001b[39;00m \u001b[38;5;28;01mNone\u001b[39;00m \u001b[38;5;129;01mand\u001b[39;00m subformats:  \u001b[38;5;66;03m# could be empty list\u001b[39;00m\n",
      "File \u001b[0;32m~/miniconda3/envs/week1/lib/python3.8/site-packages/music21/musicxml/m21ToXml.py:419\u001b[0m, in \u001b[0;36mGeneralObjectExporter.parse\u001b[0;34m(self, obj)\u001b[0m\n\u001b[1;32m    417\u001b[0m \u001b[38;5;28;01mif\u001b[39;00m \u001b[38;5;28mself\u001b[39m\u001b[38;5;241m.\u001b[39mmakeNotation:\n\u001b[1;32m    418\u001b[0m     outObj \u001b[38;5;241m=\u001b[39m \u001b[38;5;28mself\u001b[39m\u001b[38;5;241m.\u001b[39mfromGeneralObject(obj)\n\u001b[0;32m--> 419\u001b[0m     \u001b[38;5;28;01mreturn\u001b[39;00m \u001b[38;5;28;43mself\u001b[39;49m\u001b[38;5;241;43m.\u001b[39;49m\u001b[43mparseWellformedObject\u001b[49m\u001b[43m(\u001b[49m\u001b[43moutObj\u001b[49m\u001b[43m)\u001b[49m\n\u001b[1;32m    420\u001b[0m \u001b[38;5;28;01melse\u001b[39;00m:\n\u001b[1;32m    421\u001b[0m     \u001b[38;5;28;01mif\u001b[39;00m \u001b[38;5;129;01mnot\u001b[39;00m \u001b[38;5;28misinstance\u001b[39m(obj, stream\u001b[38;5;241m.\u001b[39mScore):\n",
      "File \u001b[0;32m~/miniconda3/envs/week1/lib/python3.8/site-packages/music21/musicxml/m21ToXml.py:435\u001b[0m, in \u001b[0;36mGeneralObjectExporter.parseWellformedObject\u001b[0;34m(self, sc)\u001b[0m\n\u001b[1;32m    426\u001b[0m \u001b[38;5;124;03m'''\u001b[39;00m\n\u001b[1;32m    427\u001b[0m \u001b[38;5;124;03mParse an object that has already gone through the\u001b[39;00m\n\u001b[1;32m    428\u001b[0m \u001b[38;5;124;03m`.fromGeneralObject` conversion, which has produced a copy with\u001b[39;00m\n\u001b[0;32m   (...)\u001b[0m\n\u001b[1;32m    432\u001b[0m \u001b[38;5;124;03mReturns bytes.\u001b[39;00m\n\u001b[1;32m    433\u001b[0m \u001b[38;5;124;03m'''\u001b[39;00m\n\u001b[1;32m    434\u001b[0m scoreExporter \u001b[38;5;241m=\u001b[39m ScoreExporter(sc, makeNotation\u001b[38;5;241m=\u001b[39m\u001b[38;5;28mself\u001b[39m\u001b[38;5;241m.\u001b[39mmakeNotation)\n\u001b[0;32m--> 435\u001b[0m \u001b[43mscoreExporter\u001b[49m\u001b[38;5;241;43m.\u001b[39;49m\u001b[43mparse\u001b[49m\u001b[43m(\u001b[49m\u001b[43m)\u001b[49m\n\u001b[1;32m    436\u001b[0m \u001b[38;5;28;01mreturn\u001b[39;00m scoreExporter\u001b[38;5;241m.\u001b[39masBytes()\n",
      "File \u001b[0;32m~/miniconda3/envs/week1/lib/python3.8/site-packages/music21/musicxml/m21ToXml.py:1480\u001b[0m, in \u001b[0;36mScoreExporter.parse\u001b[0;34m(self)\u001b[0m\n\u001b[1;32m   1478\u001b[0m     \u001b[38;5;28mself\u001b[39m\u001b[38;5;241m.\u001b[39m_populatePartExporterList()\n\u001b[1;32m   1479\u001b[0m     \u001b[38;5;28mself\u001b[39m\u001b[38;5;241m.\u001b[39mgroupsToJoin \u001b[38;5;241m=\u001b[39m \u001b[38;5;28mself\u001b[39m\u001b[38;5;241m.\u001b[39mjoinableGroups()\n\u001b[0;32m-> 1480\u001b[0m     \u001b[38;5;28;43mself\u001b[39;49m\u001b[38;5;241;43m.\u001b[39;49m\u001b[43mparsePartlikeScore\u001b[49m\u001b[43m(\u001b[49m\u001b[43m)\u001b[49m\n\u001b[1;32m   1481\u001b[0m \u001b[38;5;28;01melse\u001b[39;00m:\n\u001b[1;32m   1482\u001b[0m     \u001b[38;5;28mself\u001b[39m\u001b[38;5;241m.\u001b[39mparseFlatScore()\n",
      "File \u001b[0;32m~/miniconda3/envs/week1/lib/python3.8/site-packages/music21/musicxml/m21ToXml.py:1695\u001b[0m, in \u001b[0;36mScoreExporter.parsePartlikeScore\u001b[0;34m(self)\u001b[0m\n\u001b[1;32m   1693\u001b[0m     \u001b[38;5;28mself\u001b[39m\u001b[38;5;241m.\u001b[39m_populatePartExporterList()\n\u001b[1;32m   1694\u001b[0m \u001b[38;5;28;01mfor\u001b[39;00m part_ex \u001b[38;5;129;01min\u001b[39;00m \u001b[38;5;28mself\u001b[39m\u001b[38;5;241m.\u001b[39mpartExporterList:\n\u001b[0;32m-> 1695\u001b[0m     \u001b[43mpart_ex\u001b[49m\u001b[38;5;241;43m.\u001b[39;49m\u001b[43mparse\u001b[49m\u001b[43m(\u001b[49m\u001b[43m)\u001b[49m\n",
      "File \u001b[0;32m~/miniconda3/envs/week1/lib/python3.8/site-packages/music21/musicxml/m21ToXml.py:2586\u001b[0m, in \u001b[0;36mPartExporter.parse\u001b[0;34m(self)\u001b[0m\n\u001b[1;32m   2584\u001b[0m             e\u001b[38;5;241m.\u001b[39mpartName \u001b[38;5;241m=\u001b[39m \u001b[38;5;28mself\u001b[39m\u001b[38;5;241m.\u001b[39mstream\u001b[38;5;241m.\u001b[39mpartName\n\u001b[1;32m   2585\u001b[0m         \u001b[38;5;66;03m# else: could be a Score without parts (flat)\u001b[39;00m\n\u001b[0;32m-> 2586\u001b[0m         \u001b[38;5;28;01mraise\u001b[39;00m e\n\u001b[1;32m   2587\u001b[0m     \u001b[38;5;28mself\u001b[39m\u001b[38;5;241m.\u001b[39mxmlRoot\u001b[38;5;241m.\u001b[39mappend(mxMeasure)\n\u001b[1;32m   2589\u001b[0m \u001b[38;5;28;01mreturn\u001b[39;00m \u001b[38;5;28mself\u001b[39m\u001b[38;5;241m.\u001b[39mxmlRoot\n",
      "File \u001b[0;32m~/miniconda3/envs/week1/lib/python3.8/site-packages/music21/musicxml/m21ToXml.py:2580\u001b[0m, in \u001b[0;36mPartExporter.parse\u001b[0;34m(self)\u001b[0m\n\u001b[1;32m   2578\u001b[0m measureExporter\u001b[38;5;241m.\u001b[39mspannerBundle \u001b[38;5;241m=\u001b[39m \u001b[38;5;28mself\u001b[39m\u001b[38;5;241m.\u001b[39mspannerBundle\n\u001b[1;32m   2579\u001b[0m \u001b[38;5;28;01mtry\u001b[39;00m:\n\u001b[0;32m-> 2580\u001b[0m     mxMeasure \u001b[38;5;241m=\u001b[39m \u001b[43mmeasureExporter\u001b[49m\u001b[38;5;241;43m.\u001b[39;49m\u001b[43mparse\u001b[49m\u001b[43m(\u001b[49m\u001b[43m)\u001b[49m\n\u001b[1;32m   2581\u001b[0m \u001b[38;5;28;01mexcept\u001b[39;00m MusicXMLExportException \u001b[38;5;28;01mas\u001b[39;00m e:\n\u001b[1;32m   2582\u001b[0m     e\u001b[38;5;241m.\u001b[39mmeasureNumber \u001b[38;5;241m=\u001b[39m \u001b[38;5;28mstr\u001b[39m(m\u001b[38;5;241m.\u001b[39mnumber)\n",
      "File \u001b[0;32m~/miniconda3/envs/week1/lib/python3.8/site-packages/music21/musicxml/m21ToXml.py:3013\u001b[0m, in \u001b[0;36mMeasureExporter.parse\u001b[0;34m(self)\u001b[0m\n\u001b[1;32m   3011\u001b[0m \u001b[38;5;28mself\u001b[39m\u001b[38;5;241m.\u001b[39msetLeftBarline()\n\u001b[1;32m   3012\u001b[0m \u001b[38;5;66;03m# BIG ONE\u001b[39;00m\n\u001b[0;32m-> 3013\u001b[0m \u001b[38;5;28;43mself\u001b[39;49m\u001b[38;5;241;43m.\u001b[39;49m\u001b[43mmainElementsParse\u001b[49m\u001b[43m(\u001b[49m\u001b[43m)\u001b[49m\n\u001b[1;32m   3014\u001b[0m \u001b[38;5;66;03m# continue\u001b[39;00m\n\u001b[1;32m   3015\u001b[0m \u001b[38;5;28mself\u001b[39m\u001b[38;5;241m.\u001b[39msetRightBarline()\n",
      "File \u001b[0;32m~/miniconda3/envs/week1/lib/python3.8/site-packages/music21/musicxml/m21ToXml.py:3027\u001b[0m, in \u001b[0;36mMeasureExporter.mainElementsParse\u001b[0;34m(self)\u001b[0m\n\u001b[1;32m   3023\u001b[0m \u001b[38;5;66;03m# need to handle objects in order when creating musicxml\u001b[39;00m\n\u001b[1;32m   3024\u001b[0m \u001b[38;5;66;03m# we thus assume that objects are sorted here\u001b[39;00m\n\u001b[1;32m   3026\u001b[0m \u001b[38;5;28;01mif\u001b[39;00m \u001b[38;5;129;01mnot\u001b[39;00m m\u001b[38;5;241m.\u001b[39mhasVoices():\n\u001b[0;32m-> 3027\u001b[0m     \u001b[38;5;28;43mself\u001b[39;49m\u001b[38;5;241;43m.\u001b[39;49m\u001b[43mparseFlatElements\u001b[49m\u001b[43m(\u001b[49m\u001b[43mm\u001b[49m\u001b[43m,\u001b[49m\u001b[43m \u001b[49m\u001b[43mbackupAfterwards\u001b[49m\u001b[38;5;241;43m=\u001b[39;49m\u001b[38;5;28;43;01mFalse\u001b[39;49;00m\u001b[43m)\u001b[49m\n\u001b[1;32m   3028\u001b[0m     \u001b[38;5;28;01mreturn\u001b[39;00m\n\u001b[1;32m   3030\u001b[0m nonVoiceMeasureItems \u001b[38;5;241m=\u001b[39m m\u001b[38;5;241m.\u001b[39mgetElementsNotOfClass(\u001b[38;5;124m'\u001b[39m\u001b[38;5;124mVoice\u001b[39m\u001b[38;5;124m'\u001b[39m)\u001b[38;5;241m.\u001b[39mstream()\n",
      "File \u001b[0;32m~/miniconda3/envs/week1/lib/python3.8/site-packages/music21/musicxml/m21ToXml.py:3101\u001b[0m, in \u001b[0;36mMeasureExporter.parseFlatElements\u001b[0;34m(self, m, backupAfterwards)\u001b[0m\n\u001b[1;32m   3097\u001b[0m         \u001b[38;5;28;01mif\u001b[39;00m n\u001b[38;5;241m.\u001b[39misRest \u001b[38;5;129;01mand\u001b[39;00m n\u001b[38;5;241m.\u001b[39mstyle\u001b[38;5;241m.\u001b[39mhideObjectOnPrint \u001b[38;5;129;01mand\u001b[39;00m n\u001b[38;5;241m.\u001b[39mduration\u001b[38;5;241m.\u001b[39mtype \u001b[38;5;241m==\u001b[39m \u001b[38;5;124m'\u001b[39m\u001b[38;5;124minexpressible\u001b[39m\u001b[38;5;124m'\u001b[39m:\n\u001b[1;32m   3098\u001b[0m             \u001b[38;5;66;03m# Prefer a gap in stream, to be filled with a <forward> tag by\u001b[39;00m\n\u001b[1;32m   3099\u001b[0m             \u001b[38;5;66;03m# fill_gap_with_forward_tag() rather than raising exceptions\u001b[39;00m\n\u001b[1;32m   3100\u001b[0m             \u001b[38;5;28;01mcontinue\u001b[39;00m\n\u001b[0;32m-> 3101\u001b[0m         \u001b[38;5;28;43mself\u001b[39;49m\u001b[38;5;241;43m.\u001b[39;49m\u001b[43mparseOneElement\u001b[49m\u001b[43m(\u001b[49m\u001b[43mn\u001b[49m\u001b[43m)\u001b[49m\n\u001b[1;32m   3103\u001b[0m \u001b[38;5;28;01mif\u001b[39;00m backupAfterwards:\n\u001b[1;32m   3104\u001b[0m     \u001b[38;5;66;03m# return to the beginning of the measure.\u001b[39;00m\n\u001b[1;32m   3105\u001b[0m     amountToBackup \u001b[38;5;241m=\u001b[39m \u001b[38;5;28mround\u001b[39m(divisions \u001b[38;5;241m*\u001b[39m \u001b[38;5;28mself\u001b[39m\u001b[38;5;241m.\u001b[39moffsetInMeasure)\n",
      "File \u001b[0;32m~/miniconda3/envs/week1/lib/python3.8/site-packages/music21/musicxml/m21ToXml.py:3148\u001b[0m, in \u001b[0;36mMeasureExporter.parseOneElement\u001b[0;34m(self, obj)\u001b[0m\n\u001b[1;32m   3146\u001b[0m meth \u001b[38;5;241m=\u001b[39m \u001b[38;5;28mgetattr\u001b[39m(\u001b[38;5;28mself\u001b[39m, methName)\n\u001b[1;32m   3147\u001b[0m \u001b[38;5;28;01mfor\u001b[39;00m o \u001b[38;5;129;01min\u001b[39;00m objList:\n\u001b[0;32m-> 3148\u001b[0m     \u001b[43mmeth\u001b[49m\u001b[43m(\u001b[49m\u001b[43mo\u001b[49m\u001b[43m)\u001b[49m\n\u001b[1;32m   3149\u001b[0m parsedObject \u001b[38;5;241m=\u001b[39m \u001b[38;5;28;01mTrue\u001b[39;00m\n\u001b[1;32m   3150\u001b[0m \u001b[38;5;28;01mbreak\u001b[39;00m\n",
      "File \u001b[0;32m~/miniconda3/envs/week1/lib/python3.8/site-packages/music21/musicxml/m21ToXml.py:3678\u001b[0m, in \u001b[0;36mMeasureExporter.noteToXml\u001b[0;34m(self, n, noteIndexInChord, chordParent)\u001b[0m\n\u001b[1;32m   3675\u001b[0m     mxNote\u001b[38;5;241m.\u001b[39mappend(mxAccidental)\n\u001b[1;32m   3677\u001b[0m \u001b[38;5;28;01mif\u001b[39;00m \u001b[38;5;28mlen\u001b[39m(d\u001b[38;5;241m.\u001b[39mtuplets) \u001b[38;5;241m==\u001b[39m \u001b[38;5;241m1\u001b[39m:\n\u001b[0;32m-> 3678\u001b[0m     mxTimeModification \u001b[38;5;241m=\u001b[39m \u001b[38;5;28;43mself\u001b[39;49m\u001b[38;5;241;43m.\u001b[39;49m\u001b[43mtupletToTimeModification\u001b[49m\u001b[43m(\u001b[49m\u001b[43md\u001b[49m\u001b[38;5;241;43m.\u001b[39;49m\u001b[43mtuplets\u001b[49m\u001b[43m[\u001b[49m\u001b[38;5;241;43m0\u001b[39;49m\u001b[43m]\u001b[49m\u001b[43m)\u001b[49m\n\u001b[1;32m   3679\u001b[0m     mxNote\u001b[38;5;241m.\u001b[39mappend(mxTimeModification)\n\u001b[1;32m   3680\u001b[0m \u001b[38;5;28;01melif\u001b[39;00m \u001b[38;5;28mlen\u001b[39m(d\u001b[38;5;241m.\u001b[39mtuplets) \u001b[38;5;241m>\u001b[39m \u001b[38;5;241m1\u001b[39m:\n\u001b[1;32m   3681\u001b[0m     \u001b[38;5;66;03m# create a composite tuplet to use as a timeModification guide\u001b[39;00m\n",
      "File \u001b[0;32m~/miniconda3/envs/week1/lib/python3.8/site-packages/music21/musicxml/m21ToXml.py:4272\u001b[0m, in \u001b[0;36mMeasureExporter.tupletToTimeModification\u001b[0;34m(self, tup)\u001b[0m\n\u001b[1;32m   4270\u001b[0m \u001b[38;5;28;01mif\u001b[39;00m tup\u001b[38;5;241m.\u001b[39mdurationNormal \u001b[38;5;129;01mis\u001b[39;00m \u001b[38;5;129;01mnot\u001b[39;00m \u001b[38;5;28;01mNone\u001b[39;00m:\n\u001b[1;32m   4271\u001b[0m     mxNormalType \u001b[38;5;241m=\u001b[39m SubElement(mxTimeModification, \u001b[38;5;124m'\u001b[39m\u001b[38;5;124mnormal-type\u001b[39m\u001b[38;5;124m'\u001b[39m)\n\u001b[0;32m-> 4272\u001b[0m     mxNormalType\u001b[38;5;241m.\u001b[39mtext \u001b[38;5;241m=\u001b[39m \u001b[43mtypeToMusicXMLType\u001b[49m\u001b[43m(\u001b[49m\u001b[43mtup\u001b[49m\u001b[38;5;241;43m.\u001b[39;49m\u001b[43mdurationNormal\u001b[49m\u001b[38;5;241;43m.\u001b[39;49m\u001b[43mtype\u001b[49m\u001b[43m)\u001b[49m\n\u001b[1;32m   4273\u001b[0m     \u001b[38;5;28;01mif\u001b[39;00m tup\u001b[38;5;241m.\u001b[39mdurationNormal\u001b[38;5;241m.\u001b[39mdots \u001b[38;5;241m>\u001b[39m \u001b[38;5;241m0\u001b[39m:\n\u001b[1;32m   4274\u001b[0m         \u001b[38;5;28;01mfor\u001b[39;00m i \u001b[38;5;129;01min\u001b[39;00m \u001b[38;5;28mrange\u001b[39m(tup\u001b[38;5;241m.\u001b[39mdurationNormal\u001b[38;5;241m.\u001b[39mdots):\n",
      "File \u001b[0;32m~/miniconda3/envs/week1/lib/python3.8/site-packages/music21/musicxml/m21ToXml.py:93\u001b[0m, in \u001b[0;36mtypeToMusicXMLType\u001b[0;34m(value)\u001b[0m\n\u001b[1;32m     91\u001b[0m     \u001b[38;5;28;01mreturn\u001b[39;00m \u001b[38;5;124m'\u001b[39m\u001b[38;5;124mlong\u001b[39m\u001b[38;5;124m'\u001b[39m\n\u001b[1;32m     92\u001b[0m \u001b[38;5;28;01melif\u001b[39;00m value \u001b[38;5;241m==\u001b[39m \u001b[38;5;124m'\u001b[39m\u001b[38;5;124m2048th\u001b[39m\u001b[38;5;124m'\u001b[39m:\n\u001b[0;32m---> 93\u001b[0m     \u001b[38;5;28;01mraise\u001b[39;00m MusicXMLExportException(\u001b[38;5;124m'\u001b[39m\u001b[38;5;124mCannot convert \u001b[39m\u001b[38;5;124m\"\u001b[39m\u001b[38;5;124m2048th\u001b[39m\u001b[38;5;124m\"\u001b[39m\u001b[38;5;124m duration to MusicXML (too short).\u001b[39m\u001b[38;5;124m'\u001b[39m)\n\u001b[1;32m     94\u001b[0m \u001b[38;5;28;01melif\u001b[39;00m value \u001b[38;5;241m==\u001b[39m \u001b[38;5;124m'\u001b[39m\u001b[38;5;124mduplex-maxima\u001b[39m\u001b[38;5;124m'\u001b[39m:\n\u001b[1;32m     95\u001b[0m     \u001b[38;5;28;01mraise\u001b[39;00m MusicXMLExportException(\n\u001b[1;32m     96\u001b[0m         \u001b[38;5;124m'\u001b[39m\u001b[38;5;124mCannot convert \u001b[39m\u001b[38;5;124m\"\u001b[39m\u001b[38;5;124mduplex-maxima\u001b[39m\u001b[38;5;124m\"\u001b[39m\u001b[38;5;124m duration to MusicXML (too long).\u001b[39m\u001b[38;5;124m'\u001b[39m)\n",
      "\u001b[0;31mMusicXMLExportException\u001b[0m: In part (None), measure (4): Cannot convert \"2048th\" duration to MusicXML (too short)."
     ]
    }
   ],
   "source": [
    "#music, sampling_rate = pureTone(103.83)\n",
    "music, sampling_rate = userinput()\n",
    "spec, freq, time = getspec(music, sampling_rate)\n",
    "\n",
    "maxamps = np.log(np.max(spec,axis=0))\n",
    "maxfreqs = np.argmax(spec, axis=0)\n",
    "maxfreqs = freq[maxfreqs]\n",
    "\n",
    "timestep = time[1]-time[0]\n",
    "print(timestep)\n",
    "thresh = find_min_amp(maxamps,0.2)\n",
    "comps = maxamps>thresh\n",
    "zeroedfreqs = comps*maxfreqs\n",
    "\n",
    "#print(zeroedfreqs)\n",
    "\n",
    "timefreq = [(i,j) for i,j in enumerate(zeroedfreqs)]\n",
    "timefreq = dict(timefreq)\n",
    "\n",
    "sheetMusic(timefreq, bpm = 120, timestep=timestep)"
   ]
  },
  {
   "cell_type": "code",
   "execution_count": null,
   "id": "c9bbb11f",
   "metadata": {},
   "outputs": [],
   "source": []
  }
 ],
 "metadata": {
  "kernelspec": {
   "display_name": "Python 3 (ipykernel)",
   "language": "python",
   "name": "python3"
  },
  "language_info": {
   "codemirror_mode": {
    "name": "ipython",
    "version": 3
   },
   "file_extension": ".py",
   "mimetype": "text/x-python",
   "name": "python",
   "nbconvert_exporter": "python",
   "pygments_lexer": "ipython3",
   "version": "3.8.13"
  }
 },
 "nbformat": 4,
 "nbformat_minor": 5
}

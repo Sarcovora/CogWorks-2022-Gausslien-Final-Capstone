{
 "cells": [
  {
   "cell_type": "code",
   "execution_count": 1,
   "id": "2ce1627d",
   "metadata": {},
   "outputs": [
    {
     "name": "stdout",
     "output_type": "stream",
     "text": [
      "pygame 2.1.2 (SDL 2.0.18, Python 3.8.13)\n",
      "Hello from the pygame community. https://www.pygame.org/contribute.html\n"
     ]
    }
   ],
   "source": [
    "from music21 import *\n",
    "import matplotlib.pyplot as plt\n",
    "import pickle\n",
    "import pygame as pg\n",
    "import time"
   ]
  },
  {
   "cell_type": "code",
   "execution_count": 2,
   "id": "1f6f1ec7",
   "metadata": {},
   "outputs": [],
   "source": [
    "from music21 import environment\n",
    "import music21"
   ]
  },
  {
   "cell_type": "code",
   "execution_count": 3,
   "id": "93fb42a2",
   "metadata": {},
   "outputs": [
    {
     "data": {
      "text/plain": [
       "WindowsPath('C:/Users/ejian/AppData/Roaming/music21-settings.xml')"
      ]
     },
     "execution_count": 3,
     "metadata": {},
     "output_type": "execute_result"
    }
   ],
   "source": [
    "us = environment.UserSettings()\n",
    "us.getSettingsPath()"
   ]
  },
  {
   "cell_type": "code",
   "execution_count": 5,
   "id": "7d377846",
   "metadata": {},
   "outputs": [],
   "source": [
    "environment.set('musescoreDirectPNGPath', \"C:/Program Files/MuseScore 3/bin/MuseScore3.exe\")"
   ]
  },
  {
   "cell_type": "code",
   "execution_count": 6,
   "id": "ef72af6c",
   "metadata": {},
   "outputs": [],
   "source": [
    "def distinctFreqs(freq1:float, freq2:float, a=1.059):\n",
    "    larger_freq = max(freq1, freq2)\n",
    "    smaller_freq = min(freq1, freq2)\n",
    "    if smaller_freq == 0:\n",
    "        smaller_freq = 1e-100\n",
    "    if larger_freq/smaller_freq >= a:\n",
    "        return True\n",
    "    else:\n",
    "        return False\n",
    "    \n",
    "def eliminate(freqs:list):\n",
    "    #returns a list of distinct freqs which are averaged\n",
    "    i = len(freqs)-1\n",
    "    while i > 0:\n",
    "#         print(distinctFreqs(freqs[i-1], freqs[i]))\n",
    "        if not(distinctFreqs(freqs[i-1], freqs[i])):\n",
    "            avg = (freqs[i-1]+freqs[i])/2\n",
    "            freqs.remove(freqs[i])\n",
    "            freqs[i-1] = avg #gives more weight to higher freqs\n",
    "        i-=1\n",
    "        \n",
    "    return freqs\n",
    "    "
   ]
  },
  {
   "cell_type": "code",
   "execution_count": 7,
   "id": "a00563e2",
   "metadata": {},
   "outputs": [
    {
     "name": "stdout",
     "output_type": "stream",
     "text": [
      "[1234.75, 5678]\n"
     ]
    }
   ],
   "source": [
    "freqs = [1234, 1235, 1236, 5678] \n",
    "\n",
    "freqs = eliminate(freqs)\n",
    "print(freqs)"
   ]
  },
  {
   "cell_type": "code",
   "execution_count": 8,
   "id": "a32c3063",
   "metadata": {},
   "outputs": [],
   "source": [
    "def convert(freqTimes: dict):\n",
    "    #returns a list of lists [freq, start, last seen instance, duration]\n",
    "    freqDurations = []\n",
    "    \n",
    "    # key and value for the original dictionary\n",
    "    for time, freqs in freqTimes.items():\n",
    "        \n",
    "        # each frequency in this current key of the dictionary\n",
    "        for f in freqs: \n",
    "            \n",
    "            #GOING THROUGH THE PREVIOUS LAYER\n",
    "            # the default index of the current list item is the very last index (assuming it appends one)\n",
    "            currentListIndex = len(freqDurations)\n",
    "#             print(\"currListIndex at first= \" + str(currentListIndex))\n",
    "            \n",
    "            # each index of the durations list\n",
    "            previouslyFound = False\n",
    "            for fd in range(0, len(freqDurations)):\n",
    "                fd_item = freqDurations[fd]\n",
    "                \n",
    "                # if time is 0, will always return false\n",
    "                if not distinctFreqs(fd_item[0], f) and fd_item[2] == time-1:\n",
    "#                     print(fd_item[0], f)\n",
    "                    currentListIndex = fd\n",
    "#                     print(\"found in previous layer\")\n",
    "                    previouslyFound = True\n",
    "                \n",
    "                # current list item is the index of this newly added item\n",
    "            if not previouslyFound:\n",
    "                freqDurations.append([f, time, time, 1])\n",
    "                    \n",
    "            if (len(freqDurations) == 0):\n",
    "                freqDurations.append([f, time, time, 1])\n",
    "            \n",
    "#             print(\"before: \")\n",
    "#             print(freqDurations)\n",
    "                    \n",
    "            #GOING THROUGH THE NEXT LAYER\n",
    "            # each frequency in the next key of the dictionary\n",
    "            if (time + 1) < len(freqTimes):\n",
    "                for next_freq in freqTimes[time+1]:\n",
    "                    if not(distinctFreqs(f, next_freq)):\n",
    "#                         print(\"not distinct: \" + str(f) + \"  \" + str(next_freq))\n",
    "                        avg = (f + next_freq)/2\n",
    "                        # updates the frequency, changes the last seen instance, and adds 1 to the duration\n",
    "#                         print(\"currListIndex= \" + str(currentListIndex))\n",
    "                        freqDurations[currentListIndex] = [avg, freqDurations[currentListIndex][1], \n",
    "                                                          time, freqDurations[currentListIndex][3] + 1]\n",
    "                        #print(freqDurations[currentListIndex])\n",
    "#             print(\"after: \")\n",
    "#             print(freqDurations)\n",
    "#             print()\n",
    "#     print(freqDurations)            \n",
    "    return freqDurations"
   ]
  },
  {
   "cell_type": "code",
   "execution_count": 9,
   "id": "a7631429",
   "metadata": {},
   "outputs": [],
   "source": [
    "big_arr_freqs = {0: [1234, 1235, 1236, 5678],\n",
    "                1: [1234, 1235, 1236, 5678],\n",
    "                2: [1237],\n",
    "                3: [1230, 1240, 5000, 5670],\n",
    "                4: [1000, 5678]}\n",
    "\n",
    "#big_arr_freqs = {0: [1234, 1235, 1236, 5678],\n",
    "#                1: [1234, 1235, 1236, 5678]}\n",
    "\n",
    "for index in range(0, len(big_arr_freqs)):\n",
    "        big_arr_freqs[index] = eliminate(big_arr_freqs[index]) \n",
    "        \n",
    "#print(big_arr_freqs)"
   ]
  },
  {
   "cell_type": "code",
   "execution_count": 10,
   "id": "e7147ffb",
   "metadata": {},
   "outputs": [
    {
     "name": "stdout",
     "output_type": "stream",
     "text": [
      "[[1236.0, 0, 2, 4], [5678.0, 0, 0, 2], [5000, 3, 3, 1], [5674.0, 3, 3, 2], [1000, 4, 4, 1]]\n"
     ]
    }
   ],
   "source": [
    "#what it should look like\n",
    "\"\"\"\n",
    "[1234.75, 0, 0, 2]\n",
    "[5678.0, 0, 0, 3]\n",
    "[1235.875, 1, 1, 2]\n",
    "[1236.0, 2, 2, 2]\n",
    "[5674.0, 3, 3, 2]\n",
    "\"\"\"\n",
    "\n",
    "freqDurs = convert(big_arr_freqs)\n",
    "print(freqDurs)"
   ]
  },
  {
   "cell_type": "code",
   "execution_count": 11,
   "id": "0619ae5e",
   "metadata": {},
   "outputs": [],
   "source": [
    "from sklearn.cluster import KMeans\n",
    "import numpy as np\n",
    "\n",
    "def groupDuration(freqDurations: list, num_clusters: int, max_duration_num = 5):\n",
    "    #returns list of cluster ids\n",
    "    \n",
    "    data = np.array([item[3] for item in freqDurations]).reshape(-1,1)\n",
    "    kmeans = KMeans(num_clusters)\n",
    "    kmeans.fit(data)\n",
    "    \n",
    "    clusters = kmeans.fit_predict(data)\n",
    "    #print(clusters)\n",
    "    \n",
    "    wcss=[]\n",
    "#     for i in range(1,max_duration_num):\n",
    "#         kmeans = KMeans(i)\n",
    "#         kmeans.fit(data)\n",
    "#         wcss_iter = kmeans.inertia_\n",
    "#         wcss.append(wcss_iter)\n",
    "\n",
    "    number_clusters = range(1, max_duration_num)\n",
    "#     plt.plot(number_clusters,wcss)\n",
    "#     plt.title('The Elbow title')\n",
    "#     plt.xlabel('Number of clusters')\n",
    "#     plt.ylabel('WCSS')\n",
    "    \n",
    "    return clusters, num_clusters\n",
    "\n",
    "    "
   ]
  },
  {
   "cell_type": "code",
   "execution_count": 12,
   "id": "8d303b16",
   "metadata": {},
   "outputs": [
    {
     "name": "stderr",
     "output_type": "stream",
     "text": [
      "C:\\Users\\ejian\\anaconda3\\envs\\week1\\lib\\site-packages\\sklearn\\cluster\\_kmeans.py:1332: UserWarning: KMeans is known to have a memory leak on Windows with MKL, when there are less chunks than available threads. You can avoid it by setting the environment variable OMP_NUM_THREADS=1.\n",
      "  warnings.warn(\n",
      "C:\\Users\\ejian\\anaconda3\\envs\\week1\\lib\\site-packages\\sklearn\\cluster\\_kmeans.py:1332: UserWarning: KMeans is known to have a memory leak on Windows with MKL, when there are less chunks than available threads. You can avoid it by setting the environment variable OMP_NUM_THREADS=1.\n",
      "  warnings.warn(\n"
     ]
    }
   ],
   "source": [
    "clusterIDs, num_clusters = groupDuration(freqDurs, num_clusters = 3, max_duration_num = 5)"
   ]
  },
  {
   "cell_type": "code",
   "execution_count": 13,
   "id": "72d19129",
   "metadata": {},
   "outputs": [],
   "source": [
    "# i don't know what i was thinking here, pls ignore\n",
    "# def cluster_range(freqDurations: list, cluster_ids: list):\n",
    "#     #returns dictionary of lists [start of freq range, end of freq range]\n",
    "    \n",
    "#     range_dict = {}\n",
    "#     for index in range(0, len(cluster_ids)):\n",
    "#         currID = cluster_ids[index]\n",
    "#         currFreq = freqDurations[index][0]\n",
    "        \n",
    "#         # if it needs to be added to the range_list\n",
    "#         if currID not in range_dict:\n",
    "#             range_dict[currID] = [currFreq, currFreq]\n",
    "        \n",
    "#         # if already in the range_list\n",
    "#         else:\n",
    "            \n",
    "#             # change the min if necessary\n",
    "#             if currFreq < range_dict[currID][0]:\n",
    "#                 range_dict[currID][0] = currFreq\n",
    "                \n",
    "#             # change the max if necessary\n",
    "#             if currFreq > range_dict[currID][1]:\n",
    "#                 range_dict[currID][1] = currFreq\n",
    "                \n",
    "#     return range_dict"
   ]
  },
  {
   "cell_type": "code",
   "execution_count": null,
   "id": "845686cf",
   "metadata": {},
   "outputs": [],
   "source": [
    "# cluster_range(freqDurs, clusterIDs)"
   ]
  },
  {
   "cell_type": "code",
   "execution_count": 14,
   "id": "dabeba3f",
   "metadata": {},
   "outputs": [],
   "source": [
    "def durations(num_clusters: int):\n",
    "    #returns list of durations\n",
    "    quarter_index = int(num_clusters/2) \n",
    "    \n",
    "    durationMappingKey = [0.166, 0.5, 1, 2, 4]\n",
    "    \n",
    "    duration_list = []\n",
    "    start = 2 - quarter_index\n",
    "    for i in range(start, start + num_clusters):\n",
    "        duration_list.append(durationMappingKey[i])\n",
    "        \n",
    "    return duration_list\n"
   ]
  },
  {
   "cell_type": "code",
   "execution_count": 15,
   "id": "a73f2e77",
   "metadata": {},
   "outputs": [],
   "source": [
    "duration_list = durations(3)"
   ]
  },
  {
   "cell_type": "code",
   "execution_count": 16,
   "id": "6c321f93",
   "metadata": {},
   "outputs": [
    {
     "name": "stdout",
     "output_type": "stream",
     "text": [
      "[1236.0, 5678.0, 5000, 5674.0, 1000]\n"
     ]
    }
   ],
   "source": [
    "print([freq[0] for freq in freqDurs])"
   ]
  },
  {
   "cell_type": "code",
   "execution_count": 17,
   "id": "4d96e230",
   "metadata": {},
   "outputs": [],
   "source": [
    "def notes(freqDurations: list, clusterIDs: list, duration_list: list):\n",
    "    #return list of notes\n",
    "    #normFreqs = music21.audioSearch.detectPitchFrequencies([freq[0] for freq in freqDurs])\n",
    "    notes = []\n",
    "    for freqIndex in range(len(freqDurations)):\n",
    "        p = pitch.Pitch()\n",
    "        p.frequency = freqDurations[freqIndex][0]\n",
    "        n = note.Note(pitchName = p.name)\n",
    "        d = duration.Duration()\n",
    "        d.quarterLength = duration_list[clusterIDs[freqIndex]]\n",
    "        n.duration = d\n",
    "        notes.append(n)\n",
    "    #print(normFreqs)\n",
    "    return notes"
   ]
  },
  {
   "cell_type": "code",
   "execution_count": 18,
   "id": "6b383fa7",
   "metadata": {},
   "outputs": [],
   "source": [
    "notesList = notes(freqDurs, clusterIDs, duration_list)\n",
    "#print(notesList)\n"
   ]
  },
  {
   "cell_type": "code",
   "execution_count": 19,
   "id": "6c37995b",
   "metadata": {},
   "outputs": [],
   "source": [
    "notesDuration = [n.duration for n in notesList]\n",
    "#print(notesDuration)"
   ]
  },
  {
   "cell_type": "code",
   "execution_count": 26,
   "id": "e32f31de",
   "metadata": {},
   "outputs": [],
   "source": [
    "def streamNotes(notes: list):\n",
    "    s = stream.Stream()\n",
    "    for n in notes:\n",
    "        s.append(n)\n",
    "#     mf = midi.translate.streamToMidiFile(s)\n",
    "    s.show()\n",
    "    sp = midi.realtime.StreamPlayer(s, playForMilliseconds = 5000)\n",
    "    sp.play()\n",
    "#     return mf"
   ]
  },
  {
   "cell_type": "code",
   "execution_count": null,
   "id": "328e616e",
   "metadata": {},
   "outputs": [],
   "source": [
    "#streamNotes(notesList)"
   ]
  },
  {
   "cell_type": "code",
   "execution_count": 21,
   "id": "fc49df2b",
   "metadata": {},
   "outputs": [],
   "source": [
    "def sheetMusic(peak_dict: dict, num_clusters: int):\n",
    "    for index in range(0, len(peak_dict)):\n",
    "        peak_dict[index] = eliminate(peak_dict[index]) \n",
    "        \n",
    "    freqDurs = convert(peak_dict)\n",
    "    \n",
    "    clusterIDs, num_clusters = groupDuration(freqDurs, num_clusters = num_clusters, max_duration_num = 5)\n",
    "    \n",
    "    duration_list = durations(num_clusters)\n",
    "    \n",
    "    notesList = notes(freqDurs, clusterIDs, duration_list)\n",
    "    print(notesList)\n",
    "    print(freqDurs)\n",
    "    streamNotes(notesList)\n",
    "    \n"
   ]
  },
  {
   "cell_type": "code",
   "execution_count": 22,
   "id": "1b5273c0",
   "metadata": {},
   "outputs": [],
   "source": [
    "def loadPeaks():\n",
    "    with open(\"timefreq.pkl\", mode=\"rb\") as opened_file:\n",
    "        return pickle.load(opened_file)"
   ]
  },
  {
   "cell_type": "code",
   "execution_count": null,
   "id": "33dadeb6",
   "metadata": {},
   "outputs": [],
   "source": [
    "# for i in peak_dict.values():\n",
    "#     for f in i:\n",
    "#         if 0 == f:\n",
    "#             print('0')"
   ]
  },
  {
   "cell_type": "code",
   "execution_count": null,
   "id": "9a025e77",
   "metadata": {},
   "outputs": [],
   "source": [
    "#print(peak_dict)"
   ]
  },
  {
   "cell_type": "code",
   "execution_count": 33,
   "id": "a5c937cd",
   "metadata": {},
   "outputs": [
    {
     "name": "stderr",
     "output_type": "stream",
     "text": [
      "C:\\Users\\ejian\\anaconda3\\envs\\week1\\lib\\site-packages\\sklearn\\cluster\\_kmeans.py:1332: UserWarning: KMeans is known to have a memory leak on Windows with MKL, when there are less chunks than available threads. You can avoid it by setting the environment variable OMP_NUM_THREADS=1.\n",
      "  warnings.warn(\n",
      "C:\\Users\\ejian\\anaconda3\\envs\\week1\\lib\\site-packages\\sklearn\\cluster\\_kmeans.py:1332: UserWarning: KMeans is known to have a memory leak on Windows with MKL, when there are less chunks than available threads. You can avoid it by setting the environment variable OMP_NUM_THREADS=1.\n",
      "  warnings.warn(\n"
     ]
    },
    {
     "name": "stdout",
     "output_type": "stream",
     "text": [
      "[<music21.note.Note C>, <music21.note.Note G>, <music21.note.Note G>, <music21.note.Note G>, <music21.note.Note A>, <music21.note.Note G>, <music21.note.Note E>, <music21.note.Note D>, <music21.note.Note C>, <music21.note.Note G>, <music21.note.Note E>, <music21.note.Note D>, <music21.note.Note G>, <music21.note.Note G>, <music21.note.Note G>, <music21.note.Note F>, <music21.note.Note G>, <music21.note.Note E>, <music21.note.Note D>]\n",
      "[[516.796875, 0, 3, 5], [785.9619140625, 5, 14, 11], [1561.1572265625, 16, 16, 1], [785.9619140625, 17, 32, 17], [882.861328125, 34, 61, 29], [785.9619140625, 63, 92, 31], [662.14599609375, 94, 151, 59], [586.77978515625, 153, 181, 30], [527.5634765625, 183, 210, 29], [785.9619140625, 212, 240, 30], [656.7626953125, 242, 300, 60], [592.1630859375, 302, 329, 29], [785.9619140625, 331, 336, 7], [1571.923828125, 338, 338, 1], [785.9619140625, 339, 359, 22], [699.8291015625, 361, 371, 12], [785.9619140625, 373, 374, 3], [656.7626953125, 376, 419, 45], [592.1630859375, 421, 427, 8]]\n"
     ]
    },
    {
     "data": {
      "image/png": "[encoded data removed]",
      "text/plain": [
       "<IPython.core.display.Image object>"
      ]
     },
     "metadata": {
      "image/png": {
       "height": 49,
       "width": 674
      }
     },
     "output_type": "display_data"
    }
   ],
   "source": [
    "peak_dict = loadPeaks()\n",
    "sheetMusic(peak_dict, num_clusters = 2)"
   ]
  },
  {
   "cell_type": "code",
   "execution_count": 29,
   "id": "11bdd3fd",
   "metadata": {},
   "outputs": [
    {
     "ename": "NameError",
     "evalue": "name 'sp' is not defined",
     "output_type": "error",
     "traceback": [
      "\u001b[0;31m---------------------------------------------------------------------------\u001b[0m",
      "\u001b[0;31mNameError\u001b[0m                                 Traceback (most recent call last)",
      "Input \u001b[0;32mIn [29]\u001b[0m, in \u001b[0;36m<cell line: 1>\u001b[0;34m()\u001b[0m\n\u001b[0;32m----> 1\u001b[0m \u001b[43msp\u001b[49m\u001b[38;5;241m.\u001b[39mstop()\n",
      "\u001b[0;31mNameError\u001b[0m: name 'sp' is not defined"
     ]
    }
   ],
   "source": [
    "sp.stop()"
   ]
  }
 ],
 "metadata": {
  "kernelspec": {
   "display_name": "Python 3 (ipykernel)",
   "language": "python",
   "name": "python3"
  },
  "language_info": {
   "codemirror_mode": {
    "name": "ipython",
    "version": 3
   },
   "file_extension": ".py",
   "mimetype": "text/x-python",
   "name": "python",
   "nbconvert_exporter": "python",
   "pygments_lexer": "ipython3",
   "version": "3.8.13"
  }
 },
 "nbformat": 4,
 "nbformat_minor": 5
}

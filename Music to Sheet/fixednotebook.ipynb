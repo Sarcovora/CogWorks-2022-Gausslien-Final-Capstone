{
 "cells": [
  {
   "cell_type": "code",
   "execution_count": 12,
   "id": "f0baee49",
   "metadata": {},
   "outputs": [],
   "source": [
    "%matplotlib notebook"
   ]
  },
  {
   "cell_type": "code",
   "execution_count": 11,
   "id": "b87a1666",
   "metadata": {},
   "outputs": [
    {
     "name": "stdout",
     "output_type": "stream",
     "text": [
      "pygame 2.1.2 (SDL 2.0.16, Python 3.8.13)\n",
      "Hello from the pygame community. https://www.pygame.org/contribute.html\n"
     ]
    }
   ],
   "source": [
    "from microphone import record_audio\n",
    "import matplotlib.pyplot as plt\n",
    "import matplotlib.mlab as mlab\n",
    "from IPython.display import Audio\n",
    "import librosa\n",
    "\n",
    "from numba import njit\n",
    "import numpy as np\n",
    "import pickle\n",
    "import time\n",
    "\n",
    "from music21 import *\n",
    "import pygame as pg\n",
    "\n",
    "from sklearn.cluster import KMeans"
   ]
  },
  {
   "cell_type": "code",
   "execution_count": 13,
   "id": "1051317d",
   "metadata": {},
   "outputs": [],
   "source": [
    "us = environment.UserSettings()\n",
    "us.getSettingsPath()\n",
    "environment.set('musescoreDirectPNGPath', \"/usr/bin/musescore\")"
   ]
  },
  {
   "cell_type": "markdown",
   "id": "590b2fe7",
   "metadata": {},
   "source": [
    "Getting User Input"
   ]
  },
  {
   "cell_type": "code",
   "execution_count": 49,
   "id": "b36c7a35",
   "metadata": {},
   "outputs": [],
   "source": [
    "def micRecord(time=10):\n",
    "    frames, rate = record_audio(time)\n",
    "    return np.hstack([np.frombuffer(i, np.int16) for i in frames]), rate\n",
    "def getFile(path):\n",
    "    recorded_audio, sampling_rate = librosa.load(path, \n",
    "                                                 sr=44100, \n",
    "                                                 mono=True,\n",
    "                                                duration=30)\n",
    "    return recorded_audio, sampling_rate\n",
    "def pressure(times: np.ndarray, *, amp: float, freq: float) -> np.ndarray:\n",
    "    return amp * np.sin(2 * np.pi * freq * times)\n",
    "def pureTone(freq, amp=0.06, dur=3, rate=44100):\n",
    "    n_samples = int(dur * rate) + 1\n",
    "    times = np.arange(n_samples) / rate  # seconds\n",
    "    return pressure(times, amp=amp, freq=freq), rate  # Pascals"
   ]
  },
  {
   "cell_type": "code",
   "execution_count": 15,
   "id": "f71ec018",
   "metadata": {},
   "outputs": [],
   "source": [
    "def userinput():\n",
    "    while True:\n",
    "        audioType = input(\"u for Upload, r for Record: \")\n",
    "        if audioType == 'u':\n",
    "            path = input(\"Enter path to file: \")\n",
    "            samples, rate = getFile(path)\n",
    "            break\n",
    "        elif audioType == 'r':\n",
    "            samples, rate = micRecord()\n",
    "            break\n",
    "        print(\"Invalid input. Try again.\")\n",
    "    # print(rate)\n",
    "    \n",
    "    return samples, rate"
   ]
  },
  {
   "cell_type": "markdown",
   "id": "bcd2cc54",
   "metadata": {},
   "source": [
    "Processing"
   ]
  },
  {
   "cell_type": "code",
   "execution_count": 16,
   "id": "24a03ad9",
   "metadata": {},
   "outputs": [],
   "source": [
    "def getspec(samples, rate):\n",
    "    spectrogram, freqs, times = mlab.specgram(\n",
    "\t\tsamples,\n",
    "\t\tNFFT=4096,\n",
    "\t\tFs=rate,\n",
    "\t\twindow=mlab.window_hanning,\n",
    "\t\tnoverlap=int(4096 / 2)\n",
    "\t)\n",
    "    return spectrogram, freqs, times"
   ]
  },
  {
   "cell_type": "code",
   "execution_count": 17,
   "id": "a966cd21",
   "metadata": {},
   "outputs": [],
   "source": [
    "def distinctFreqs(freq1:float, freq2:float, a=1.059):\n",
    "    larger_freq = max(freq1, freq2)\n",
    "    smaller_freq = min(freq1, freq2)\n",
    "    if smaller_freq == 0:\n",
    "        smaller_freq = 1e-100\n",
    "    if larger_freq/smaller_freq >= a:\n",
    "        return True\n",
    "    else:\n",
    "        return False"
   ]
  },
  {
   "cell_type": "code",
   "execution_count": 41,
   "id": "bce00b01",
   "metadata": {},
   "outputs": [],
   "source": [
    "def convert(freqTimes):\n",
    "    freqDurations = []\n",
    "    freqTimes = list(freqTimes.values())\n",
    "    freqTimes.append(0)\n",
    "    \n",
    "    time=0\n",
    "    curlength=0\n",
    "    curnote=0\n",
    "    while time<len(freqTimes):\n",
    "        if distinctFreqs(freqTimes[time], curnote):\n",
    "            if curnote!=0 and curlength>2:\n",
    "                freqDurations.append([curnote, time-curlength, curlength])\n",
    "                curlength = 0\n",
    "                curnote = freqTimes[time]\n",
    "            elif curnote==0 and curlength>2:\n",
    "                curlength = 0\n",
    "                curnote = freqTimes[time]\n",
    "            elif not distinctFreqs(freqTimes[time], freqDurations[-1][0]):\n",
    "                curnote = freqDurations[-1][0]\n",
    "            else:\n",
    "                curlength = 0\n",
    "                curnote = freqTimes[time]\n",
    "        else:\n",
    "            curlength+=1\n",
    "        time+=1\n",
    "    return freqDurations"
   ]
  },
  {
   "cell_type": "code",
   "execution_count": 45,
   "id": "34f23a56",
   "metadata": {},
   "outputs": [],
   "source": [
    "conversion = {\n",
    "    pitch.Accidental(\"sharp\"):pitch.Accidental(\"sharp\"),\n",
    "    pitch.Accidental(\"half-sharp\"):None,\n",
    "    pitch.Accidental(\"one-and-a-half-sharp\"):pitch.Accidental(\"sharp\"),\n",
    "    None:None\n",
    "}\n",
    "\n",
    "def notes(freqDurations: list):\n",
    "    #return list of notes\n",
    "    #normFreqs = music21.audioSearch.detectPitchFrequencies([freq[0] for freq in freqDurs])\n",
    "    notes = []\n",
    "    duration_list = [0.166, 0.5, 1, 2, 4]\n",
    "    \n",
    "    for freqIndex in range(len(freqDurations)):\n",
    "        p = pitch.Pitch()\n",
    "        p.frequency = freqDurations[freqIndex][0]\n",
    "        p.accidental = conversion[p.accidental]\n",
    "        n = note.Note(pitchName = p.name)\n",
    "        d = duration.Duration()\n",
    "        d.quarterLength = duration_list[2]\n",
    "        n.duration = d\n",
    "        notes.append(n)\n",
    "    #print(normFreqs)\n",
    "    return notes"
   ]
  },
  {
   "cell_type": "code",
   "execution_count": 22,
   "id": "f8a214fd",
   "metadata": {},
   "outputs": [],
   "source": [
    "def streamNotes(notes: list):\n",
    "    s = stream.Stream()\n",
    "    for n in notes:\n",
    "        s.append(n)\n",
    "#     mf = midi.translate.streamToMidiFile(s)\n",
    "    s.show()\n",
    "    #sp = midi.realtime.StreamPlayer(s, playForMilliseconds = 5000)\n",
    "    #sp.play()\n",
    "#     return mf"
   ]
  },
  {
   "cell_type": "code",
   "execution_count": 50,
   "id": "d4cb7f93",
   "metadata": {},
   "outputs": [],
   "source": [
    "def sheetMusic(peak_dict: dict, num_clusters: int):\n",
    "    freqDurs = convert(peak_dict)\n",
    "    \n",
    "    notesList = notes(freqDurs)\n",
    "    streamNotes(notesList)"
   ]
  },
  {
   "cell_type": "code",
   "execution_count": 24,
   "id": "4bb26279",
   "metadata": {},
   "outputs": [],
   "source": [
    "def find_min_amp(maxamps, amp_threshold):\n",
    "    ind = round(len(maxamps) * amp_threshold)\n",
    "    cutoff_log_amplitude = np.partition(maxamps, ind)[ind]\n",
    "    return cutoff_log_amplitude"
   ]
  },
  {
   "cell_type": "code",
   "execution_count": null,
   "id": "382e807d",
   "metadata": {},
   "outputs": [
    {
     "name": "stdout",
     "output_type": "stream",
     "text": [
      "u for Upload, r for Record: u\n"
     ]
    }
   ],
   "source": [
    "#music, sampling_rate = pureTone(261.63)\n",
    "music, sampling_rate = userinput()\n",
    "spec, freq, time = getspec(music, sampling_rate)\n",
    "\n",
    "maxamps = np.log(np.max(spec,axis=0))\n",
    "maxfreqs = np.argmax(spec, axis=0)\n",
    "maxfreqs = freq[maxfreqs]\n",
    "\n",
    "thresh = find_min_amp(maxamps,0.2)\n",
    "comps = maxamps>thresh\n",
    "zeroedfreqs = comps*maxfreqs\n",
    "\n",
    "timefreq = [(i,j) for i,j in enumerate(zeroedfreqs)]\n",
    "timefreq = dict(timefreq)\n",
    "\n",
    "sheetMusic(timefreq, num_clusters = 1)"
   ]
  },
  {
   "cell_type": "code",
   "execution_count": null,
   "id": "624dbe12",
   "metadata": {},
   "outputs": [],
   "source": []
  }
 ],
 "metadata": {
  "kernelspec": {
   "display_name": "Python 3 (ipykernel)",
   "language": "python",
   "name": "python3"
  },
  "language_info": {
   "codemirror_mode": {
    "name": "ipython",
    "version": 3
   },
   "file_extension": ".py",
   "mimetype": "text/x-python",
   "name": "python",
   "nbconvert_exporter": "python",
   "pygments_lexer": "ipython3",
   "version": "3.8.13"
  }
 },
 "nbformat": 4,
 "nbformat_minor": 5
}
